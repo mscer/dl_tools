{
 "cells": [
  {
   "cell_type": "code",
   "execution_count": 4,
   "metadata": {},
   "outputs": [],
   "source": [
    "import gym\n",
    "%matplotlib inline\n",
    "import numpy as np\n",
    "import tensorflow as tf"
   ]
  },
  {
   "cell_type": "code",
   "execution_count": 2,
   "metadata": {},
   "outputs": [],
   "source": [
    "env = gym.make('CartPole-v0')"
   ]
  },
  {
   "cell_type": "markdown",
   "metadata": {},
   "source": [
    "# 1 model"
   ]
  },
  {
   "cell_type": "code",
   "execution_count": 3,
   "metadata": {},
   "outputs": [],
   "source": [
    "n_input = 4;n_hidden1 = 4;n_output = 1"
   ]
  },
  {
   "cell_type": "code",
   "execution_count": 5,
   "metadata": {},
   "outputs": [],
   "source": [
    "x1 = tf.placeholder(shape=[None,n_input],name='input_x',dtype=tf.float32)"
   ]
  },
  {
   "cell_type": "code",
   "execution_count": 6,
   "metadata": {},
   "outputs": [],
   "source": [
    "w1 = tf.Variable(tf.random_normal([n_input,n_hidden1]),name='w1');\n",
    "b1 = tf.Variable(tf.zeros(shape=[n_input]),name='b1',dtype=tf.float32)"
   ]
  },
  {
   "cell_type": "code",
   "execution_count": 7,
   "metadata": {},
   "outputs": [],
   "source": [
    "h1 = tf.nn.elu(tf.matmul(x1,w1)+b1)"
   ]
  },
  {
   "cell_type": "code",
   "execution_count": 8,
   "metadata": {},
   "outputs": [],
   "source": [
    "w2 = tf.Variable(tf.random_normal([n_hidden1,n_output]),name='w2',dtype=tf.float32)\n",
    "b2 = tf.Variable(tf.zeros(shape=[n_output]),name='b2',dtype=tf.float32)"
   ]
  },
  {
   "cell_type": "code",
   "execution_count": 11,
   "metadata": {},
   "outputs": [],
   "source": [
    "logits = tf.matmul(h1,w2)+b2\n",
    "h2 = tf.nn.sigmoid(logits)"
   ]
  },
  {
   "cell_type": "code",
   "execution_count": 12,
   "metadata": {},
   "outputs": [],
   "source": [
    "##select action accoding output\n",
    "p_left_or_right = tf.concat([h2,1-h2],1)"
   ]
  },
  {
   "cell_type": "code",
   "execution_count": 13,
   "metadata": {},
   "outputs": [
    {
     "name": "stdout",
     "output_type": "stream",
     "text": [
      "WARNING:tensorflow:From <ipython-input-13-e2b9ca291f6d>:2: multinomial (from tensorflow.python.ops.random_ops) is deprecated and will be removed in a future version.\n",
      "Instructions for updating:\n",
      "Use `tf.random.categorical` instead.\n"
     ]
    }
   ],
   "source": [
    "#概率采样\n",
    "action = tf.multinomial(tf.math.log(p_left_or_right),num_samples=1)"
   ]
  },
  {
   "cell_type": "code",
   "execution_count": 15,
   "metadata": {},
   "outputs": [],
   "source": [
    "##target probability !! local target \n",
    "y = 1- tf.to_float(action)"
   ]
  },
  {
   "cell_type": "code",
   "execution_count": 17,
   "metadata": {},
   "outputs": [],
   "source": [
    "#loss  !! local loss\n",
    "cross_entroy = tf.nn.sigmoid_cross_entropy_with_logits(labels=y,logits=logits)"
   ]
  },
  {
   "cell_type": "code",
   "execution_count": 18,
   "metadata": {},
   "outputs": [],
   "source": [
    "##optimizer  !!local optimizer for get gradients\n",
    "optimizer = tf.train.AdadeltaOptimizer(learning_rate=1e-2)"
   ]
  },
  {
   "cell_type": "code",
   "execution_count": 19,
   "metadata": {},
   "outputs": [],
   "source": [
    "grads_and_vars = optimizer.compute_gradients(cross_entroy)"
   ]
  },
  {
   "cell_type": "code",
   "execution_count": 20,
   "metadata": {},
   "outputs": [],
   "source": [
    "gradients = [grad for grad,var in grads_and_vars]"
   ]
  },
  {
   "cell_type": "code",
   "execution_count": 21,
   "metadata": {},
   "outputs": [
    {
     "data": {
      "text/plain": [
       "[(<tf.Tensor 'gradients/MatMul_grad/tuple/control_dependency_1:0' shape=(4, 4) dtype=float32>,\n",
       "  <tf.Variable 'w1:0' shape=(4, 4) dtype=float32_ref>),\n",
       " (<tf.Tensor 'gradients/add_grad/tuple/control_dependency_1:0' shape=(4,) dtype=float32>,\n",
       "  <tf.Variable 'b1:0' shape=(4,) dtype=float32_ref>),\n",
       " (<tf.Tensor 'gradients/MatMul_3_grad/tuple/control_dependency_1:0' shape=(4, 1) dtype=float32>,\n",
       "  <tf.Variable 'w2:0' shape=(4, 1) dtype=float32_ref>),\n",
       " (<tf.Tensor 'gradients/add_3_grad/tuple/control_dependency_1:0' shape=(1,) dtype=float32>,\n",
       "  <tf.Variable 'b2:0' shape=(1,) dtype=float32_ref>)]"
      ]
     },
     "execution_count": 21,
     "metadata": {},
     "output_type": "execute_result"
    }
   ],
   "source": [
    "grads_and_vars"
   ]
  },
  {
   "cell_type": "code",
   "execution_count": 23,
   "metadata": {},
   "outputs": [],
   "source": [
    "##此处只为plicy更新梯度时使用，实现的很复杂。。\n",
    "gradient_placeholders = []\n",
    "grads_and_vars_feed = []\n",
    "for grad, variable in grads_and_vars:\n",
    "    ##对每个参数 分别进行梯度处理\n",
    "    gradient_placeholder = tf.placeholder(tf.float32, shape=grad.get_shape()) \n",
    "    gradient_placeholders.append(gradient_placeholder) ## 记录梯度\n",
    "    grads_and_vars_feed.append((gradient_placeholder, variable)) ## 外部处理梯度后，将梯度回填\n",
    "    training_op = optimizer.apply_gradients(grads_and_vars_feed) ##更新特参数的梯度"
   ]
  },
  {
   "cell_type": "code",
   "execution_count": 24,
   "metadata": {},
   "outputs": [],
   "source": [
    "##init\n",
    "init = tf.global_variables_initializer()"
   ]
  },
  {
   "cell_type": "code",
   "execution_count": 25,
   "metadata": {},
   "outputs": [],
   "source": [
    "saver = tf.train.Saver()"
   ]
  },
  {
   "cell_type": "markdown",
   "metadata": {},
   "source": [
    "# 2 reward 处理"
   ]
  },
  {
   "cell_type": "code",
   "execution_count": 26,
   "metadata": {},
   "outputs": [],
   "source": [
    "def discount_rewards(rewards,discount_rate):\n",
    "    '''\n",
    "    计算单轮内部，每个action的收益\n",
    "    '''\n",
    "    discounted_reward = np.empty_like(rewards)\n",
    "    comulative_reward = 0\n",
    "    for index in range(len(rewards)-1,-1,-1):\n",
    "        #print(index)\n",
    "        comulative_reward = discount_rate*comulative_reward + rewards[index]\n",
    "        discounted_reward[index] = comulative_reward\n",
    "    return discounted_reward"
   ]
  },
  {
   "cell_type": "code",
   "execution_count": 27,
   "metadata": {},
   "outputs": [],
   "source": [
    "def discount_and_normalize_rewards(all_rewards,discount_rate):\n",
    "    '''\n",
    "    计算单轮内部，每个action的收益并且归一化\n",
    "    '''\n",
    "    all_discounted_rewards = [discount_rewards(rewards,discount_rate) for rewards in all_rewards]\n",
    "    flat_rewards = np.concatenate(all_discounted_rewards)\n",
    "    #print(flat_rewards)\n",
    "    reward_mean = flat_rewards.mean()\n",
    "    reward_std = flat_rewards.std()\n",
    "    return [(discounted_rewards - reward_mean)/reward_std for discounted_rewards in all_discounted_rewards]"
   ]
  },
  {
   "cell_type": "markdown",
   "metadata": {},
   "source": [
    "# 3 train "
   ]
  },
  {
   "cell_type": "code",
   "execution_count": 29,
   "metadata": {},
   "outputs": [],
   "source": [
    "n_iterations = 250 # number of training iterations\n",
    "n_max_steps = 1000 # max steps per episode\n",
    "n_games_per_update = 10 # train the policy every 10 episodes \n",
    "save_iterations = 10 # save the model every 10 training iterations \n",
    "discount_rate = 0.95"
   ]
  },
  {
   "cell_type": "markdown",
   "metadata": {},
   "source": [
    "## policy运行阶段，只累计梯度； 这里的梯度只是根据targt probability计算出来的； 而实际需要调整的梯度，是此时的梯度乘以gain的方向。\n",
    "  ##:gain变大，或者gain变小，通过gain normalize来提供梯度更新的方向。"
   ]
  },
  {
   "cell_type": "code",
   "execution_count": null,
   "metadata": {
    "scrolled": false
   },
   "outputs": [
    {
     "name": "stdout",
     "output_type": "stream",
     "text": [
      "[13.0, 22.0, 54.0, 19.0, 16.0, 35.0, 26.0, 17.0, 20.0, 36.0]\n",
      "[21.0, 13.0, 18.0, 35.0, 18.0, 26.0, 70.0, 20.0, 36.0, 14.0]\n",
      "[60.0, 19.0, 72.0, 28.0, 41.0, 19.0, 21.0, 79.0, 44.0, 18.0]\n",
      "[14.0, 12.0, 30.0, 14.0, 36.0, 14.0, 27.0, 36.0, 24.0, 12.0]\n",
      "[15.0, 85.0, 23.0, 23.0, 38.0, 25.0, 48.0, 85.0, 16.0, 11.0]\n",
      "[57.0, 27.0, 11.0, 9.0, 29.0, 42.0, 21.0, 25.0, 17.0, 20.0]\n",
      "[41.0, 12.0, 45.0, 33.0, 39.0, 82.0, 15.0, 18.0, 24.0, 42.0]\n",
      "[77.0, 36.0, 17.0, 11.0, 13.0, 18.0, 70.0, 43.0, 21.0, 56.0]\n",
      "[35.0, 21.0, 23.0, 15.0, 42.0, 24.0, 14.0, 51.0, 17.0, 21.0]\n",
      "[19.0, 44.0, 34.0, 46.0, 15.0, 10.0, 30.0, 41.0, 37.0, 13.0]\n",
      "[20.0, 11.0, 13.0, 36.0, 32.0, 15.0, 26.0, 80.0, 14.0, 21.0]\n",
      "[50.0, 15.0, 14.0, 40.0, 19.0, 10.0, 28.0, 12.0, 19.0, 16.0]\n",
      "[21.0, 12.0, 18.0, 27.0, 27.0, 21.0, 44.0, 15.0, 84.0, 33.0]\n",
      "[22.0, 37.0, 18.0, 17.0, 21.0, 43.0, 27.0, 25.0, 68.0, 20.0]\n",
      "[68.0, 15.0, 91.0, 18.0, 57.0, 30.0, 50.0, 39.0, 47.0, 18.0]\n",
      "[17.0, 69.0, 53.0, 14.0, 12.0, 12.0, 28.0, 14.0, 52.0, 33.0]\n",
      "[24.0, 15.0, 21.0, 14.0, 43.0, 69.0, 11.0, 29.0, 11.0, 16.0]\n",
      "[26.0, 10.0, 28.0, 20.0, 12.0, 10.0, 74.0, 32.0, 13.0, 12.0]\n",
      "[17.0, 30.0, 65.0, 20.0, 16.0, 59.0, 29.0, 15.0, 17.0, 8.0]\n",
      "[77.0, 15.0, 29.0, 69.0, 55.0, 17.0, 44.0, 40.0, 19.0, 11.0]\n",
      "[36.0, 20.0, 45.0, 43.0, 16.0, 11.0, 13.0, 68.0, 43.0, 32.0]\n",
      "[18.0, 23.0, 21.0, 34.0, 16.0, 57.0, 11.0, 42.0, 35.0, 21.0]\n",
      "[25.0, 14.0, 27.0, 15.0, 22.0, 26.0, 17.0, 43.0, 41.0, 15.0]\n",
      "[20.0, 66.0, 20.0, 17.0, 17.0, 24.0, 73.0, 19.0, 64.0, 39.0]\n",
      "[19.0, 20.0, 29.0, 9.0, 61.0, 25.0, 21.0, 39.0, 18.0, 99.0]\n",
      "[20.0, 22.0, 13.0, 26.0, 25.0, 17.0, 19.0, 34.0, 9.0, 19.0]\n",
      "[26.0, 25.0, 13.0, 21.0, 72.0, 16.0, 63.0, 42.0, 42.0, 20.0]\n",
      "[68.0, 16.0, 40.0, 16.0, 30.0, 44.0, 32.0, 65.0, 16.0, 11.0]\n",
      "[22.0, 64.0, 27.0, 29.0, 21.0, 21.0, 50.0, 27.0, 11.0, 21.0]\n",
      "[51.0, 91.0, 18.0, 28.0, 62.0, 17.0, 21.0, 10.0, 18.0, 42.0]\n",
      "[22.0, 24.0, 21.0, 29.0, 24.0, 32.0, 31.0, 51.0, 14.0, 31.0]\n",
      "[19.0, 39.0, 23.0, 34.0, 11.0, 24.0, 74.0, 28.0, 26.0, 25.0]\n",
      "[22.0, 12.0, 23.0, 29.0, 19.0, 26.0, 31.0, 99.0, 21.0, 28.0]\n",
      "[10.0, 102.0, 37.0, 22.0, 23.0, 49.0, 57.0, 51.0, 38.0, 21.0]\n",
      "[14.0, 124.0, 26.0, 72.0, 19.0, 15.0, 28.0, 13.0, 63.0, 47.0]\n",
      "[26.0, 26.0, 32.0, 33.0, 25.0, 10.0, 25.0, 35.0, 29.0, 38.0]\n",
      "[13.0, 35.0, 23.0, 19.0, 24.0, 18.0, 19.0, 47.0, 33.0, 29.0]\n",
      "[35.0, 20.0, 16.0, 27.0, 62.0, 52.0, 40.0, 17.0, 22.0, 22.0]\n",
      "[40.0, 17.0, 65.0, 22.0, 13.0, 49.0, 12.0, 16.0, 56.0, 56.0]\n",
      "[23.0, 13.0, 63.0, 19.0, 91.0, 13.0, 23.0, 14.0, 16.0, 9.0]\n",
      "[20.0, 50.0, 74.0, 25.0, 29.0, 60.0, 20.0, 23.0, 24.0, 16.0]\n",
      "[69.0, 26.0, 57.0, 55.0, 57.0, 15.0, 32.0, 29.0, 16.0, 19.0]\n",
      "[13.0, 37.0, 29.0, 62.0, 22.0, 30.0, 21.0, 22.0, 12.0, 17.0]\n",
      "[23.0, 38.0, 69.0, 13.0, 20.0, 12.0, 80.0, 19.0, 20.0, 28.0]\n",
      "[34.0, 22.0, 27.0, 17.0, 33.0, 31.0, 21.0, 34.0, 39.0, 36.0]\n",
      "[36.0, 24.0, 40.0, 51.0, 47.0, 20.0, 41.0, 17.0, 21.0, 27.0]\n",
      "[15.0, 104.0, 19.0, 57.0, 17.0, 24.0, 19.0, 52.0, 31.0, 70.0]\n",
      "[89.0, 21.0, 24.0, 53.0, 19.0, 24.0, 41.0, 42.0, 11.0, 27.0]\n",
      "[57.0, 64.0, 20.0, 57.0, 20.0, 14.0, 18.0, 39.0, 115.0, 87.0]\n",
      "[76.0, 44.0, 28.0, 26.0, 38.0, 23.0, 14.0, 10.0, 36.0, 87.0]\n",
      "[51.0, 14.0, 21.0, 25.0, 19.0, 29.0, 18.0, 43.0, 77.0, 22.0]\n",
      "[37.0, 66.0, 31.0, 27.0, 31.0, 71.0, 24.0, 25.0, 47.0, 65.0]\n",
      "[11.0, 71.0, 34.0, 19.0, 21.0, 34.0, 33.0, 19.0, 43.0, 22.0]\n",
      "[16.0, 24.0, 11.0, 13.0, 25.0, 27.0, 58.0, 11.0, 22.0, 50.0]\n",
      "[42.0, 14.0, 19.0, 28.0, 23.0, 27.0, 31.0, 51.0, 22.0, 52.0]\n",
      "[36.0, 30.0, 39.0, 38.0, 12.0, 16.0, 25.0, 21.0, 19.0, 19.0]\n",
      "[18.0, 54.0, 38.0, 21.0, 13.0, 17.0, 23.0, 17.0, 24.0, 54.0]\n",
      "[21.0, 13.0, 101.0, 16.0, 30.0, 102.0, 24.0, 33.0, 19.0, 12.0]\n",
      "[27.0, 44.0, 13.0, 45.0, 18.0, 17.0, 13.0, 30.0, 27.0, 15.0]\n",
      "[15.0, 11.0, 35.0, 18.0, 30.0, 20.0, 16.0, 35.0, 21.0, 41.0]\n",
      "[62.0, 145.0, 17.0, 16.0, 12.0, 28.0, 40.0, 59.0, 19.0, 23.0]\n",
      "[23.0, 30.0, 42.0, 24.0, 26.0, 23.0, 12.0, 16.0, 40.0, 14.0]\n",
      "[53.0, 12.0, 15.0, 29.0, 14.0, 22.0, 12.0, 21.0, 19.0, 39.0]\n",
      "[27.0, 20.0, 17.0, 46.0, 35.0, 28.0, 33.0, 19.0, 15.0, 71.0]\n",
      "[14.0, 14.0, 15.0, 16.0, 15.0, 11.0, 23.0, 20.0, 36.0, 21.0]\n",
      "[20.0, 12.0, 42.0, 36.0, 91.0, 12.0, 39.0, 40.0, 28.0, 21.0]\n",
      "[49.0, 38.0, 23.0, 18.0, 33.0, 18.0, 57.0, 47.0, 28.0, 16.0]\n",
      "[60.0, 16.0, 101.0, 44.0, 57.0, 19.0, 16.0, 23.0, 67.0, 41.0]\n",
      "[17.0, 48.0, 23.0, 56.0, 17.0, 48.0, 23.0, 17.0, 80.0, 23.0]\n",
      "[32.0, 13.0, 35.0, 12.0, 28.0, 38.0, 27.0, 44.0, 75.0, 40.0]\n",
      "[48.0, 35.0, 38.0, 40.0, 49.0, 22.0, 10.0, 43.0, 39.0, 22.0]\n",
      "[15.0, 41.0, 26.0, 33.0, 44.0, 12.0, 20.0, 52.0, 12.0, 16.0]\n",
      "[69.0, 13.0, 17.0, 22.0, 21.0, 42.0, 30.0, 12.0, 48.0, 43.0]\n",
      "[29.0, 16.0, 11.0, 16.0, 53.0, 12.0, 25.0, 39.0, 17.0, 10.0]\n",
      "[53.0, 46.0, 19.0, 48.0, 22.0, 11.0, 41.0, 22.0, 57.0, 38.0]\n",
      "[34.0, 50.0, 67.0, 26.0, 37.0, 14.0, 30.0, 42.0, 12.0, 14.0]\n",
      "[16.0, 24.0, 20.0, 20.0, 20.0, 15.0, 41.0, 20.0, 19.0, 10.0]\n",
      "[60.0, 34.0, 15.0, 20.0, 29.0, 32.0, 19.0, 42.0, 25.0, 11.0]\n",
      "[16.0, 53.0, 10.0, 14.0, 62.0, 20.0, 10.0, 21.0, 111.0, 21.0]\n",
      "[15.0, 22.0, 24.0, 58.0, 20.0, 29.0, 73.0, 35.0, 23.0, 16.0]\n",
      "[23.0, 40.0, 28.0, 37.0, 18.0, 17.0, 11.0, 13.0, 39.0, 27.0]\n",
      "[63.0, 24.0, 79.0, 21.0, 27.0, 54.0, 24.0, 18.0, 54.0, 14.0]\n",
      "[31.0, 20.0, 12.0, 17.0, 58.0, 24.0, 19.0, 26.0, 54.0, 21.0]\n",
      "[34.0, 17.0, 60.0, 43.0, 64.0, 46.0, 32.0, 21.0, 13.0, 20.0]\n",
      "[38.0, 98.0, 13.0, 17.0, 45.0, 55.0, 70.0, 69.0, 41.0, 14.0]\n",
      "[24.0, 82.0, 26.0, 22.0, 37.0, 53.0, 34.0, 40.0, 30.0, 15.0]\n",
      "[17.0, 44.0, 30.0, 11.0, 31.0, 41.0, 15.0, 57.0, 20.0, 14.0]\n",
      "[36.0, 35.0, 15.0, 33.0, 35.0, 33.0, 15.0, 23.0, 53.0, 14.0]\n",
      "[18.0, 74.0, 18.0, 40.0, 32.0, 36.0, 114.0, 18.0, 12.0, 38.0]\n",
      "[10.0, 15.0, 70.0, 96.0, 20.0, 48.0, 56.0, 19.0, 24.0, 44.0]\n",
      "[54.0, 18.0, 66.0, 39.0, 20.0, 16.0, 64.0, 17.0, 26.0, 17.0]\n",
      "[42.0, 104.0, 28.0, 19.0, 14.0, 15.0, 33.0, 11.0, 27.0, 35.0]\n",
      "[40.0, 15.0, 20.0, 10.0, 23.0, 23.0, 101.0, 11.0, 20.0, 64.0]\n",
      "[16.0, 12.0, 43.0, 33.0, 17.0, 28.0, 31.0, 29.0, 26.0, 17.0]\n",
      "[24.0, 14.0, 22.0, 40.0, 17.0, 18.0, 15.0, 36.0, 14.0, 17.0]\n",
      "[44.0, 38.0, 51.0, 52.0, 20.0, 108.0, 11.0, 26.0, 73.0, 59.0]\n",
      "[16.0, 59.0, 23.0, 54.0, 32.0, 20.0, 33.0, 21.0, 21.0, 27.0]\n",
      "[19.0, 31.0, 33.0, 21.0, 51.0, 23.0, 21.0, 36.0, 19.0, 10.0]\n",
      "[25.0, 16.0, 11.0, 43.0, 30.0, 14.0, 64.0, 20.0, 15.0, 17.0]\n",
      "[52.0, 84.0, 18.0, 17.0, 40.0, 17.0, 35.0, 26.0, 15.0, 38.0]\n",
      "[20.0, 16.0, 45.0, 22.0, 33.0, 33.0, 26.0, 17.0, 65.0, 24.0]\n",
      "[10.0, 18.0, 46.0, 33.0, 44.0, 15.0, 45.0, 26.0, 30.0, 52.0]\n",
      "[36.0, 13.0, 20.0, 44.0, 14.0, 63.0, 22.0, 22.0, 48.0, 46.0]\n",
      "[64.0, 16.0, 11.0, 12.0, 12.0, 31.0, 36.0, 22.0, 93.0, 21.0]\n",
      "[11.0, 17.0, 46.0, 35.0, 11.0, 76.0, 23.0, 48.0, 37.0, 9.0]\n",
      "[21.0, 43.0, 52.0, 19.0, 33.0, 46.0, 13.0, 29.0, 15.0, 70.0]\n",
      "[21.0, 20.0, 15.0, 30.0, 50.0, 23.0, 25.0, 19.0, 96.0, 74.0]\n",
      "[19.0, 43.0, 22.0, 19.0, 33.0, 12.0, 56.0, 30.0, 13.0, 10.0]\n",
      "[17.0, 31.0, 23.0, 69.0, 27.0, 15.0, 16.0, 11.0, 42.0, 27.0]\n",
      "[13.0, 18.0, 101.0, 19.0, 41.0, 18.0, 20.0, 29.0, 24.0, 34.0]\n",
      "[50.0, 19.0, 56.0, 13.0, 46.0, 19.0, 34.0, 33.0, 16.0, 51.0]\n",
      "[20.0, 20.0, 13.0, 13.0, 14.0, 15.0, 26.0, 16.0, 26.0, 9.0]\n",
      "[40.0, 28.0, 14.0, 15.0, 19.0, 15.0, 24.0, 62.0, 41.0, 39.0]\n",
      "[52.0, 27.0, 38.0, 49.0, 16.0, 41.0, 19.0, 52.0, 15.0, 26.0]\n",
      "[18.0, 17.0, 18.0, 43.0, 39.0, 18.0, 88.0, 131.0, 83.0, 56.0]\n",
      "[44.0, 15.0, 43.0, 74.0, 28.0, 44.0, 18.0, 61.0, 17.0, 15.0]\n",
      "[14.0, 28.0, 60.0, 15.0, 24.0, 17.0, 11.0, 35.0, 12.0, 13.0]\n",
      "[67.0, 17.0, 16.0, 46.0, 11.0, 24.0, 17.0, 60.0, 26.0, 45.0]\n",
      "[12.0, 28.0, 45.0, 31.0, 11.0, 43.0, 11.0, 56.0, 19.0, 43.0]\n",
      "[27.0, 12.0, 20.0, 22.0, 47.0, 32.0, 39.0, 22.0, 17.0, 102.0]\n",
      "[14.0, 65.0, 32.0, 26.0, 24.0, 42.0, 25.0, 29.0, 26.0, 11.0]\n",
      "[13.0, 15.0, 36.0, 42.0, 28.0, 30.0, 54.0, 17.0, 30.0, 29.0]\n",
      "[12.0, 20.0, 37.0, 46.0, 42.0, 19.0, 24.0, 12.0, 26.0, 11.0]\n",
      "[13.0, 48.0, 14.0, 47.0, 77.0, 19.0, 14.0, 48.0, 17.0, 36.0]\n",
      "[26.0, 28.0, 30.0, 69.0, 32.0, 51.0, 19.0, 69.0, 21.0, 26.0]\n",
      "[45.0, 30.0, 81.0, 20.0, 19.0, 50.0, 51.0, 37.0, 98.0, 40.0]\n",
      "[27.0, 36.0, 17.0, 55.0, 40.0, 31.0, 14.0, 11.0, 25.0, 28.0]\n",
      "[29.0, 37.0, 25.0, 15.0, 34.0, 38.0, 70.0, 63.0, 22.0, 47.0]\n",
      "[28.0, 22.0, 47.0, 42.0, 61.0, 53.0, 54.0, 15.0, 37.0, 18.0]\n",
      "[17.0, 40.0, 14.0, 37.0, 18.0, 29.0, 28.0, 33.0, 20.0, 50.0]\n",
      "[23.0, 27.0, 14.0, 10.0, 100.0, 37.0, 9.0, 15.0, 18.0, 16.0]\n",
      "[19.0, 21.0, 20.0, 65.0, 33.0, 21.0, 41.0, 31.0, 22.0, 49.0]\n",
      "[35.0, 25.0, 32.0, 36.0, 12.0, 18.0, 35.0, 21.0, 38.0, 55.0]\n",
      "[10.0, 38.0, 20.0, 68.0, 21.0, 77.0, 17.0, 10.0, 15.0, 19.0]\n",
      "[104.0, 31.0, 24.0, 11.0, 27.0, 17.0, 20.0, 12.0, 45.0, 28.0]\n"
     ]
    },
    {
     "name": "stdout",
     "output_type": "stream",
     "text": [
      "[62.0, 28.0, 20.0, 13.0, 38.0, 59.0, 24.0, 12.0, 56.0, 15.0]\n",
      "[98.0, 13.0, 32.0, 31.0, 74.0, 47.0, 26.0, 46.0, 12.0, 18.0]\n",
      "[12.0, 12.0, 18.0, 56.0, 22.0, 30.0, 24.0, 24.0, 33.0, 19.0]\n",
      "[17.0, 53.0, 25.0, 31.0, 25.0, 49.0, 35.0, 24.0, 23.0, 19.0]\n",
      "[23.0, 11.0, 13.0, 56.0, 39.0, 22.0, 12.0, 12.0, 27.0, 29.0]\n",
      "[69.0, 12.0, 16.0, 26.0, 24.0, 59.0, 19.0, 25.0, 23.0, 71.0]\n",
      "[22.0, 53.0, 33.0, 23.0, 20.0, 67.0, 37.0, 54.0, 12.0, 31.0]\n",
      "[14.0, 16.0, 15.0, 12.0, 35.0, 14.0, 110.0, 15.0, 13.0, 69.0]\n",
      "[19.0, 47.0, 18.0, 43.0, 15.0, 26.0, 18.0, 26.0, 20.0, 32.0]\n",
      "[35.0, 17.0, 11.0, 31.0, 70.0, 18.0, 36.0, 30.0, 22.0, 15.0]\n",
      "[22.0, 19.0, 33.0, 32.0, 15.0, 27.0, 17.0, 18.0, 13.0, 32.0]\n",
      "[45.0, 58.0, 13.0, 19.0, 39.0, 22.0, 45.0, 20.0, 19.0, 67.0]\n",
      "[26.0, 26.0, 16.0, 27.0, 30.0, 22.0, 13.0, 39.0, 33.0, 24.0]\n",
      "[27.0, 79.0, 19.0, 17.0, 40.0, 26.0, 17.0, 28.0, 59.0, 8.0]\n",
      "[41.0, 32.0, 25.0, 51.0, 16.0, 19.0, 20.0, 55.0, 49.0, 34.0]\n",
      "[25.0, 16.0, 70.0, 30.0, 42.0, 13.0, 38.0, 30.0, 29.0, 21.0]\n",
      "[28.0, 17.0, 20.0, 13.0, 20.0, 50.0, 13.0, 15.0, 47.0, 42.0]\n",
      "[75.0, 66.0, 18.0, 59.0, 87.0, 20.0, 24.0, 22.0, 21.0, 26.0]\n",
      "[11.0, 60.0, 47.0, 24.0, 70.0, 27.0, 23.0, 75.0, 45.0, 19.0]\n",
      "[19.0, 19.0, 21.0, 33.0, 20.0, 16.0, 81.0, 33.0, 26.0, 34.0]\n",
      "[17.0, 20.0, 24.0, 58.0, 20.0, 17.0, 15.0, 23.0, 13.0, 27.0]\n",
      "[20.0, 14.0, 9.0, 26.0, 60.0, 10.0, 28.0, 18.0, 34.0, 12.0]\n",
      "[62.0, 25.0, 20.0, 39.0, 16.0, 31.0, 27.0, 16.0, 47.0, 32.0]\n",
      "[18.0, 14.0, 31.0, 25.0, 24.0, 23.0, 14.0, 14.0, 16.0, 16.0]\n",
      "[23.0, 19.0, 20.0, 42.0, 25.0, 15.0, 38.0, 40.0, 22.0, 28.0]\n",
      "[68.0, 29.0, 64.0, 17.0, 31.0, 16.0, 27.0, 47.0, 47.0, 10.0]\n",
      "[35.0, 33.0, 22.0, 43.0, 28.0, 18.0, 17.0, 18.0, 27.0, 21.0]\n",
      "[69.0, 68.0, 36.0, 12.0, 24.0, 29.0, 94.0, 20.0, 11.0, 75.0]\n",
      "[42.0, 20.0, 50.0, 31.0, 29.0, 31.0, 30.0, 12.0, 26.0, 15.0]\n",
      "[67.0, 32.0, 16.0, 103.0, 43.0, 11.0, 25.0, 20.0, 55.0, 39.0]\n",
      "[23.0, 21.0, 15.0, 43.0, 33.0, 45.0, 17.0, 41.0, 30.0, 27.0]\n",
      "[16.0, 35.0, 25.0, 67.0, 19.0, 24.0, 83.0, 16.0, 18.0, 18.0]\n"
     ]
    }
   ],
   "source": [
    "with tf.Session() as sess:\n",
    "    init.run()\n",
    "    for iteration in range(n_iterations):## 迭代10次；\n",
    "        all_rewards = [] ##每轮的收益， （10，（1000）） 10个1000维的向量\n",
    "        all_gradients = [] ##每个step的梯度 （10，（1000））10个1000维的向量\n",
    "        for game in range(n_games_per_update):##每10轮更新一次，每轮1000步\n",
    "            current_rewards = []   ##当前轮每个动作的收益 1000个\n",
    "            current_gradients = []  ##当前轮每个梯度 1000个\n",
    "            ##每轮重启环境\n",
    "            obs = env.reset()\n",
    "            for step in range(n_max_steps):\n",
    "                action_val,gradients_val = sess.run([action,gradients],feed_dict={x1:obs.reshape(1,n_input)})\n",
    "                ##获取action产生的reward\n",
    "                obs,reward,done,info = env.step(action_val[0][0])\n",
    "                current_rewards.append(reward)\n",
    "                current_gradients.append(gradients_val)\n",
    "                if done:\n",
    "                    break\n",
    "            all_rewards.append(current_rewards)\n",
    "            all_gradients.append(current_gradients)\n",
    "        ##每10轮结束时，更新policy的参数\n",
    "        \n",
    "        all_rewards_norm = discount_and_normalize_rewards(all_rewards,0.95) \n",
    "        feed_dict = {}\n",
    "        ##计算每个变量的梯度\n",
    "        for var_index, grad_placeholder in enumerate(gradient_placeholders):\n",
    "            # multiply the gradients by the action scores, and compute the mean , \n",
    "            #归一化后的rewards 给梯度一个合适的方向，\n",
    "            mean_gradients = np.mean([reward * all_gradients[game_index][step][var_index] \\\n",
    "                                      for game_index, rewards in enumerate(all_rewards_norm) \\\n",
    "                                      for step, reward in enumerate(rewards)],axis=0)\n",
    "            feed_dict[grad_placeholder] = mean_gradients\n",
    "        sess.run(training_op, feed_dict=feed_dict) \n",
    "        print([sum(gain) for gain in all_rewards])\n",
    "        if iteration % save_iterations == 0:\n",
    "            saver.save(sess, \"./my_policy_net_pg.ckpt\")\n",
    "            "
   ]
  },
  {
   "cell_type": "code",
   "execution_count": null,
   "metadata": {},
   "outputs": [],
   "source": []
  }
 ],
 "metadata": {
  "kernelspec": {
   "display_name": "Python 3",
   "language": "python",
   "name": "python3"
  },
  "language_info": {
   "codemirror_mode": {
    "name": "ipython",
    "version": 3
   },
   "file_extension": ".py",
   "mimetype": "text/x-python",
   "name": "python",
   "nbconvert_exporter": "python",
   "pygments_lexer": "ipython3",
   "version": "3.7.6"
  }
 },
 "nbformat": 4,
 "nbformat_minor": 2
}
