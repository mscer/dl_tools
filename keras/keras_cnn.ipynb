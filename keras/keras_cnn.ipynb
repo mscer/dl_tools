{
 "cells": [
  {
   "cell_type": "code",
   "execution_count": 3,
   "metadata": {},
   "outputs": [],
   "source": [
    "import numpy as np\n",
    "import pandas as pd\n",
    "from matplotlib import pyplot as plt"
   ]
  },
  {
   "cell_type": "code",
   "execution_count": 4,
   "metadata": {},
   "outputs": [
    {
     "name": "stderr",
     "output_type": "stream",
     "text": [
      "Using TensorFlow backend.\n"
     ]
    }
   ],
   "source": [
    "import tensorflow as tf\n",
    "import keras"
   ]
  },
  {
   "cell_type": "code",
   "execution_count": 5,
   "metadata": {},
   "outputs": [],
   "source": [
    "seed_value = 0\n",
    "np.random.seed(seed_value)\n",
    "tf.set_random_seed(seed_value)"
   ]
  },
  {
   "cell_type": "code",
   "execution_count": 6,
   "metadata": {},
   "outputs": [],
   "source": [
    "def plot_curve(history_val):\n",
    "    epochs = range(1, len(history_val['acc']) + 1)\n",
    "    plt.plot(epochs, history_val['loss'], 'bo', label='Training loss')\n",
    "    plt.plot(epochs, history_val['val_loss'], 'b', label='Validation loss')\n",
    "    plt.title('Training and validation loss')\n",
    "    plt.xlabel('Epochs')\n",
    "    plt.ylabel('Loss')\n",
    "    plt.legend()\n",
    "    epochs = range(1, len(history_val['acc']) + 1)\n",
    "    plt.plot(epochs, history_val['acc'], 'ro', label='Training acc')\n",
    "    plt.plot(epochs, history_val['val_acc'], 'r', label='Validation acc')\n",
    "    plt.title('Training and validation acc')\n",
    "    plt.xlabel('Epochs')\n",
    "    plt.ylabel('acc')\n",
    "    plt.legend()"
   ]
  },
  {
   "cell_type": "markdown",
   "metadata": {},
   "source": [
    "# 1 data&feature"
   ]
  },
  {
   "cell_type": "code",
   "execution_count": 7,
   "metadata": {},
   "outputs": [],
   "source": [
    "from keras.datasets import mnist"
   ]
  },
  {
   "cell_type": "code",
   "execution_count": 8,
   "metadata": {},
   "outputs": [],
   "source": [
    "mnist.load_data?"
   ]
  },
  {
   "cell_type": "code",
   "execution_count": 9,
   "metadata": {},
   "outputs": [],
   "source": [
    "(x_train, y_train), (x_test, y_test) = mnist.load_data()"
   ]
  },
  {
   "cell_type": "code",
   "execution_count": 10,
   "metadata": {},
   "outputs": [],
   "source": [
    "x_train_vec = x_train.astype(np.float32).reshape(*x_train.shape,-1)/255.\n",
    "x_test_vec = x_test.astype(np.float32).reshape(*x_test.shape,-1)/255."
   ]
  },
  {
   "cell_type": "code",
   "execution_count": 11,
   "metadata": {},
   "outputs": [
    {
     "data": {
      "text/plain": [
       "(10000, 28, 28, 1)"
      ]
     },
     "execution_count": 11,
     "metadata": {},
     "output_type": "execute_result"
    }
   ],
   "source": [
    "x_test_vec.shape"
   ]
  },
  {
   "cell_type": "markdown",
   "metadata": {},
   "source": [
    "# 2 model"
   ]
  },
  {
   "cell_type": "code",
   "execution_count": 12,
   "metadata": {},
   "outputs": [],
   "source": [
    "keras.layers.Conv2D?"
   ]
  },
  {
   "cell_type": "code",
   "execution_count": 13,
   "metadata": {},
   "outputs": [],
   "source": [
    "keras.layers.MaxPool2D?"
   ]
  },
  {
   "cell_type": "code",
   "execution_count": 14,
   "metadata": {},
   "outputs": [],
   "source": [
    "keras.layers.Flatten?"
   ]
  },
  {
   "cell_type": "code",
   "execution_count": 15,
   "metadata": {},
   "outputs": [
    {
     "name": "stdout",
     "output_type": "stream",
     "text": [
      "WARNING:tensorflow:From /Users/zhangjiaqi/workingspace/anaconda3/envs/ml3/lib/python3.7/site-packages/keras/backend/tensorflow_backend.py:74: The name tf.get_default_graph is deprecated. Please use tf.compat.v1.get_default_graph instead.\n",
      "\n",
      "WARNING:tensorflow:From /Users/zhangjiaqi/workingspace/anaconda3/envs/ml3/lib/python3.7/site-packages/keras/backend/tensorflow_backend.py:517: The name tf.placeholder is deprecated. Please use tf.compat.v1.placeholder instead.\n",
      "\n",
      "WARNING:tensorflow:From /Users/zhangjiaqi/workingspace/anaconda3/envs/ml3/lib/python3.7/site-packages/keras/backend/tensorflow_backend.py:4138: The name tf.random_uniform is deprecated. Please use tf.random.uniform instead.\n",
      "\n",
      "WARNING:tensorflow:From /Users/zhangjiaqi/workingspace/anaconda3/envs/ml3/lib/python3.7/site-packages/keras/backend/tensorflow_backend.py:3976: The name tf.nn.max_pool is deprecated. Please use tf.nn.max_pool2d instead.\n",
      "\n"
     ]
    }
   ],
   "source": [
    "nn = keras.models.Sequential()\n",
    "nn.add(keras.layers.Conv2D(filters=32,kernel_size=3,padding='same',activation='relu',input_shape=(28,28,1)))\n",
    "nn.add(keras.layers.MaxPool2D())\n",
    "nn.add(keras.layers.Conv2D(filters=64,kernel_size=3,padding='same',activation='relu'))\n",
    "nn.add(keras.layers.MaxPool2D())\n",
    "nn.add(keras.layers.Conv2D(filters=64,kernel_size=3,padding='same',activation='relu'))\n",
    "##flat\n",
    "nn.add(keras.layers.Flatten())\n",
    "nn.add(keras.layers.Dense(64,activation='relu'))\n",
    "nn.add(keras.layers.Dense(10,activation='softmax'))"
   ]
  },
  {
   "cell_type": "code",
   "execution_count": 16,
   "metadata": {},
   "outputs": [
    {
     "name": "stdout",
     "output_type": "stream",
     "text": [
      "_________________________________________________________________\n",
      "Layer (type)                 Output Shape              Param #   \n",
      "=================================================================\n",
      "conv2d_1 (Conv2D)            (None, 28, 28, 32)        320       \n",
      "_________________________________________________________________\n",
      "max_pooling2d_1 (MaxPooling2 (None, 14, 14, 32)        0         \n",
      "_________________________________________________________________\n",
      "conv2d_2 (Conv2D)            (None, 14, 14, 64)        18496     \n",
      "_________________________________________________________________\n",
      "max_pooling2d_2 (MaxPooling2 (None, 7, 7, 64)          0         \n",
      "_________________________________________________________________\n",
      "conv2d_3 (Conv2D)            (None, 7, 7, 64)          36928     \n",
      "_________________________________________________________________\n",
      "flatten_1 (Flatten)          (None, 3136)              0         \n",
      "_________________________________________________________________\n",
      "dense_1 (Dense)              (None, 64)                200768    \n",
      "_________________________________________________________________\n",
      "dense_2 (Dense)              (None, 10)                650       \n",
      "=================================================================\n",
      "Total params: 257,162\n",
      "Trainable params: 257,162\n",
      "Non-trainable params: 0\n",
      "_________________________________________________________________\n"
     ]
    }
   ],
   "source": [
    "nn.summary()"
   ]
  },
  {
   "cell_type": "code",
   "execution_count": 17,
   "metadata": {},
   "outputs": [
    {
     "name": "stdout",
     "output_type": "stream",
     "text": [
      "WARNING:tensorflow:From /Users/zhangjiaqi/workingspace/anaconda3/envs/ml3/lib/python3.7/site-packages/keras/optimizers.py:790: The name tf.train.Optimizer is deprecated. Please use tf.compat.v1.train.Optimizer instead.\n",
      "\n",
      "WARNING:tensorflow:From /Users/zhangjiaqi/workingspace/anaconda3/envs/ml3/lib/python3.7/site-packages/keras/backend/tensorflow_backend.py:3341: The name tf.log is deprecated. Please use tf.math.log instead.\n",
      "\n"
     ]
    }
   ],
   "source": [
    "nn.compile(optimizer='adam',loss='sparse_categorical_crossentropy',metrics=['accuracy'])"
   ]
  },
  {
   "cell_type": "code",
   "execution_count": 18,
   "metadata": {},
   "outputs": [],
   "source": [
    "nn.fit?"
   ]
  },
  {
   "cell_type": "code",
   "execution_count": null,
   "metadata": {},
   "outputs": [
    {
     "name": "stdout",
     "output_type": "stream",
     "text": [
      "WARNING:tensorflow:From /Users/zhangjiaqi/workingspace/anaconda3/envs/ml3/lib/python3.7/site-packages/tensorflow_core/python/ops/math_grad.py:1424: where (from tensorflow.python.ops.array_ops) is deprecated and will be removed in a future version.\n",
      "Instructions for updating:\n",
      "Use tf.where in 2.0, which has the same broadcast rule as np.where\n",
      "WARNING:tensorflow:From /Users/zhangjiaqi/workingspace/anaconda3/envs/ml3/lib/python3.7/site-packages/keras/backend/tensorflow_backend.py:986: The name tf.assign_add is deprecated. Please use tf.compat.v1.assign_add instead.\n",
      "\n",
      "WARNING:tensorflow:From /Users/zhangjiaqi/workingspace/anaconda3/envs/ml3/lib/python3.7/site-packages/keras/backend/tensorflow_backend.py:973: The name tf.assign is deprecated. Please use tf.compat.v1.assign instead.\n",
      "\n",
      "WARNING:tensorflow:From /Users/zhangjiaqi/workingspace/anaconda3/envs/ml3/lib/python3.7/site-packages/keras/backend/tensorflow_backend.py:2741: The name tf.Session is deprecated. Please use tf.compat.v1.Session instead.\n",
      "\n",
      "Train on 48000 samples, validate on 12000 samples\n",
      "Epoch 1/100\n",
      "WARNING:tensorflow:From /Users/zhangjiaqi/workingspace/anaconda3/envs/ml3/lib/python3.7/site-packages/keras/backend/tensorflow_backend.py:174: The name tf.get_default_session is deprecated. Please use tf.compat.v1.get_default_session instead.\n",
      "\n",
      "WARNING:tensorflow:From /Users/zhangjiaqi/workingspace/anaconda3/envs/ml3/lib/python3.7/site-packages/keras/backend/tensorflow_backend.py:181: The name tf.ConfigProto is deprecated. Please use tf.compat.v1.ConfigProto instead.\n",
      "\n",
      "WARNING:tensorflow:From /Users/zhangjiaqi/workingspace/anaconda3/envs/ml3/lib/python3.7/site-packages/keras/backend/tensorflow_backend.py:190: The name tf.global_variables is deprecated. Please use tf.compat.v1.global_variables instead.\n",
      "\n",
      "WARNING:tensorflow:From /Users/zhangjiaqi/workingspace/anaconda3/envs/ml3/lib/python3.7/site-packages/keras/backend/tensorflow_backend.py:199: The name tf.is_variable_initialized is deprecated. Please use tf.compat.v1.is_variable_initialized instead.\n",
      "\n",
      "WARNING:tensorflow:From /Users/zhangjiaqi/workingspace/anaconda3/envs/ml3/lib/python3.7/site-packages/keras/backend/tensorflow_backend.py:206: The name tf.variables_initializer is deprecated. Please use tf.compat.v1.variables_initializer instead.\n",
      "\n",
      " - 125s - loss: 0.3387 - acc: 0.9035 - val_loss: 0.0801 - val_acc: 0.9760\n",
      "Epoch 2/100\n",
      " - 120s - loss: 0.0680 - acc: 0.9790 - val_loss: 0.0524 - val_acc: 0.9833\n",
      "Epoch 3/100\n",
      " - 112s - loss: 0.0441 - acc: 0.9859 - val_loss: 0.0418 - val_acc: 0.9875\n",
      "Epoch 4/100\n",
      " - 106s - loss: 0.0327 - acc: 0.9897 - val_loss: 0.0402 - val_acc: 0.9882\n",
      "Epoch 5/100\n",
      " - 110s - loss: 0.0259 - acc: 0.9918 - val_loss: 0.0375 - val_acc: 0.9884\n",
      "Epoch 6/100\n",
      " - 108s - loss: 0.0216 - acc: 0.9931 - val_loss: 0.0481 - val_acc: 0.9849\n",
      "Epoch 7/100\n",
      " - 108s - loss: 0.0185 - acc: 0.9938 - val_loss: 0.0462 - val_acc: 0.9869\n",
      "Epoch 8/100\n",
      " - 105s - loss: 0.0140 - acc: 0.9957 - val_loss: 0.0360 - val_acc: 0.9903\n",
      "Epoch 9/100\n",
      " - 109s - loss: 0.0128 - acc: 0.9959 - val_loss: 0.0340 - val_acc: 0.9904\n",
      "Epoch 10/100\n",
      " - 110s - loss: 0.0118 - acc: 0.9959 - val_loss: 0.0376 - val_acc: 0.9906\n",
      "Epoch 11/100\n",
      " - 114s - loss: 0.0100 - acc: 0.9966 - val_loss: 0.0311 - val_acc: 0.9914\n",
      "Epoch 12/100\n",
      " - 112s - loss: 0.0080 - acc: 0.9975 - val_loss: 0.0381 - val_acc: 0.9895\n",
      "Epoch 13/100\n",
      " - 108s - loss: 0.0077 - acc: 0.9974 - val_loss: 0.0328 - val_acc: 0.9912\n",
      "Epoch 14/100\n",
      " - 108s - loss: 0.0071 - acc: 0.9977 - val_loss: 0.0437 - val_acc: 0.9885\n",
      "Epoch 15/100\n",
      " - 110s - loss: 0.0066 - acc: 0.9979 - val_loss: 0.0409 - val_acc: 0.9908\n",
      "Epoch 16/100\n",
      " - 125s - loss: 0.0048 - acc: 0.9984 - val_loss: 0.0446 - val_acc: 0.9900\n",
      "Epoch 17/100\n",
      " - 109s - loss: 0.0042 - acc: 0.9987 - val_loss: 0.0505 - val_acc: 0.9893\n",
      "Epoch 18/100\n",
      " - 113s - loss: 0.0070 - acc: 0.9976 - val_loss: 0.0434 - val_acc: 0.9903\n",
      "Epoch 19/100\n",
      " - 115s - loss: 0.0056 - acc: 0.9984 - val_loss: 0.0405 - val_acc: 0.9917\n",
      "Epoch 20/100\n",
      " - 141s - loss: 0.0027 - acc: 0.9993 - val_loss: 0.0388 - val_acc: 0.9915\n",
      "Epoch 21/100\n",
      " - 116s - loss: 0.0034 - acc: 0.9989 - val_loss: 0.0477 - val_acc: 0.9908\n",
      "Epoch 22/100\n",
      " - 111s - loss: 0.0050 - acc: 0.9984 - val_loss: 0.0407 - val_acc: 0.9913\n",
      "Epoch 23/100\n",
      " - 109s - loss: 0.0050 - acc: 0.9984 - val_loss: 0.0398 - val_acc: 0.9917\n",
      "Epoch 24/100\n",
      " - 108s - loss: 0.0052 - acc: 0.9981 - val_loss: 0.0402 - val_acc: 0.9907\n",
      "Epoch 25/100\n",
      " - 105s - loss: 0.0031 - acc: 0.9991 - val_loss: 0.0414 - val_acc: 0.9914\n",
      "Epoch 26/100\n",
      " - 139s - loss: 0.0020 - acc: 0.9994 - val_loss: 0.0543 - val_acc: 0.9895\n",
      "Epoch 27/100\n",
      " - 213s - loss: 0.0051 - acc: 0.9982 - val_loss: 0.0461 - val_acc: 0.9904\n",
      "Epoch 28/100\n",
      " - 182s - loss: 0.0054 - acc: 0.9982 - val_loss: 0.0421 - val_acc: 0.9917\n",
      "Epoch 29/100\n",
      " - 135s - loss: 0.0022 - acc: 0.9993 - val_loss: 0.0464 - val_acc: 0.9910\n",
      "Epoch 30/100\n",
      " - 110s - loss: 9.3029e-04 - acc: 0.9998 - val_loss: 0.0453 - val_acc: 0.9923\n",
      "Epoch 31/100\n",
      " - 122s - loss: 1.0829e-04 - acc: 1.0000 - val_loss: 0.0442 - val_acc: 0.9923\n",
      "Epoch 32/100\n",
      " - 221s - loss: 3.7579e-05 - acc: 1.0000 - val_loss: 0.0444 - val_acc: 0.9926\n",
      "Epoch 33/100\n",
      " - 231s - loss: 2.0802e-05 - acc: 1.0000 - val_loss: 0.0446 - val_acc: 0.9924\n",
      "Epoch 34/100\n",
      " - 230s - loss: 1.6911e-05 - acc: 1.0000 - val_loss: 0.0451 - val_acc: 0.9924\n",
      "Epoch 35/100\n"
     ]
    }
   ],
   "source": [
    "histroy = nn.fit(x_train_vec,y_train,batch_size=256,epochs=100,verbose=2,validation_split=0.2)"
   ]
  },
  {
   "cell_type": "markdown",
   "metadata": {},
   "source": [
    "# 3 eval"
   ]
  },
  {
   "cell_type": "code",
   "execution_count": 2,
   "metadata": {},
   "outputs": [
    {
     "ename": "NameError",
     "evalue": "name 'nn' is not defined",
     "output_type": "error",
     "traceback": [
      "\u001b[0;31m---------------------------------------------------------------------------\u001b[0m",
      "\u001b[0;31mNameError\u001b[0m                                 Traceback (most recent call last)",
      "\u001b[0;32m<ipython-input-2-e7bd55e9bf39>\u001b[0m in \u001b[0;36m<module>\u001b[0;34m()\u001b[0m\n\u001b[0;32m----> 1\u001b[0;31m \u001b[0mnn\u001b[0m\u001b[0;34m\u001b[0m\u001b[0;34m\u001b[0m\u001b[0m\n\u001b[0m",
      "\u001b[0;31mNameError\u001b[0m: name 'nn' is not defined"
     ]
    }
   ],
   "source": [
    "nn"
   ]
  },
  {
   "cell_type": "code",
   "execution_count": null,
   "metadata": {},
   "outputs": [],
   "source": []
  }
 ],
 "metadata": {
  "kernelspec": {
   "display_name": "Python 3",
   "language": "python",
   "name": "python3"
  },
  "language_info": {
   "codemirror_mode": {
    "name": "ipython",
    "version": 3
   },
   "file_extension": ".py",
   "mimetype": "text/x-python",
   "name": "python",
   "nbconvert_exporter": "python",
   "pygments_lexer": "ipython3",
   "version": "3.7.6"
  }
 },
 "nbformat": 4,
 "nbformat_minor": 2
}
