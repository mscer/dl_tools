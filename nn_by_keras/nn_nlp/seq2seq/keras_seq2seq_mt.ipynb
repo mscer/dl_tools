{
 "cells": [
  {
   "cell_type": "code",
   "execution_count": 1,
   "metadata": {},
   "outputs": [],
   "source": [
    "import numpy as np\n",
    "import pandas as pd\n",
    "from matplotlib import pyplot as plt"
   ]
  },
  {
   "cell_type": "code",
   "execution_count": 2,
   "metadata": {},
   "outputs": [
    {
     "name": "stderr",
     "output_type": "stream",
     "text": [
      "Using TensorFlow backend.\n"
     ]
    }
   ],
   "source": [
    "import keras\n",
    "import tensorflow as tf"
   ]
  },
  {
   "cell_type": "code",
   "execution_count": 3,
   "metadata": {},
   "outputs": [],
   "source": [
    "seed_value = 0\n",
    "\n",
    "np.random.seed(seed_value)\n",
    "tf.set_random_seed(seed_value)"
   ]
  },
  {
   "cell_type": "code",
   "execution_count": 7,
   "metadata": {},
   "outputs": [],
   "source": [
    "SEQ_LEN_S = 200\n",
    "WORD_NUM_S = 20000\n"
   ]
  },
  {
   "cell_type": "code",
   "execution_count": 8,
   "metadata": {},
   "outputs": [],
   "source": [
    "SEQ_LEN_T = 200\n",
    "WORD_NUM_T = 20000"
   ]
  },
  {
   "cell_type": "markdown",
   "metadata": {},
   "source": [
    "# 2 model"
   ]
  },
  {
   "cell_type": "code",
   "execution_count": 6,
   "metadata": {},
   "outputs": [],
   "source": [
    "from tensorflow.keras.models import Model\n",
    "from tensorflow.keras.layers import Input,Embedding,Bidirectional,LSTM,Dense"
   ]
  },
  {
   "cell_type": "code",
   "execution_count": 15,
   "metadata": {},
   "outputs": [],
   "source": [
    "##encoder part \n",
    "input_s = Input(shape=(SEQ_LEN_S,),name='input_src')\n",
    "embed_s = Embedding(input_dim=WORD_NUM_S,output_dim=64)(input_s)\n",
    "##bilstm\n",
    "s = Bidirectional(LSTM(units=64,return_sequences=True))(embed_s)\n",
    "encoder_out,encoder_h,encoder_c = LSTM(units=64,return_sequences=True,return_state=True)(s)"
   ]
  },
  {
   "cell_type": "code",
   "execution_count": 17,
   "metadata": {},
   "outputs": [
    {
     "name": "stdout",
     "output_type": "stream",
     "text": [
      "Tensor(\"lstm_5/transpose_1:0\", shape=(?, 200, 64), dtype=float32)\n",
      "Tensor(\"lstm_5/while/Exit_2:0\", shape=(?, 64), dtype=float32)\n",
      "Tensor(\"lstm_5/while/Exit_3:0\", shape=(?, 64), dtype=float32)\n"
     ]
    }
   ],
   "source": [
    "print(encoder_out)\n",
    "print(encoder_h)\n",
    "print(encoder_c)"
   ]
  },
  {
   "cell_type": "code",
   "execution_count": 18,
   "metadata": {},
   "outputs": [],
   "source": [
    "##decoder part\n",
    "input_t = Input(shape=(SEQ_LEN_T,),name='input_tgt')\n",
    "embed_t = Embedding(input_dim=WORD_NUM_T,output_dim=64)(input_t)\n",
    "t = LSTM(units=64,return_sequences=True)(embed_t,initial_state=[encoder_h,encoder_c])\n",
    "decoder_out = Dense(units=WORD_NUM_T,activation='softmax')(t)"
   ]
  },
  {
   "cell_type": "code",
   "execution_count": 19,
   "metadata": {},
   "outputs": [],
   "source": [
    "nn = Model([input_s,input_t],decoder_out)"
   ]
  },
  {
   "cell_type": "code",
   "execution_count": 20,
   "metadata": {},
   "outputs": [
    {
     "name": "stdout",
     "output_type": "stream",
     "text": [
      "Model: \"model\"\n",
      "__________________________________________________________________________________________________\n",
      "Layer (type)                    Output Shape         Param #     Connected to                     \n",
      "==================================================================================================\n",
      "input_src (InputLayer)          [(None, 200)]        0                                            \n",
      "__________________________________________________________________________________________________\n",
      "embedding_2 (Embedding)         (None, 200, 64)      1280000     input_src[0][0]                  \n",
      "__________________________________________________________________________________________________\n",
      "input_tgt (InputLayer)          [(None, 200)]        0                                            \n",
      "__________________________________________________________________________________________________\n",
      "bidirectional_2 (Bidirectional) (None, 200, 128)     66048       embedding_2[0][0]                \n",
      "__________________________________________________________________________________________________\n",
      "embedding_3 (Embedding)         (None, 200, 64)      1280000     input_tgt[0][0]                  \n",
      "__________________________________________________________________________________________________\n",
      "lstm_5 (LSTM)                   [(None, 200, 64), (N 49408       bidirectional_2[0][0]            \n",
      "__________________________________________________________________________________________________\n",
      "lstm_6 (LSTM)                   (None, 200, 64)      33024       embedding_3[0][0]                \n",
      "                                                                 lstm_5[0][1]                     \n",
      "                                                                 lstm_5[0][2]                     \n",
      "__________________________________________________________________________________________________\n",
      "dense (Dense)                   (None, 200, 20000)   1300000     lstm_6[0][0]                     \n",
      "==================================================================================================\n",
      "Total params: 4,008,480\n",
      "Trainable params: 4,008,480\n",
      "Non-trainable params: 0\n",
      "__________________________________________________________________________________________________\n"
     ]
    }
   ],
   "source": [
    "nn.summary()"
   ]
  },
  {
   "cell_type": "code",
   "execution_count": 21,
   "metadata": {},
   "outputs": [],
   "source": [
    "nn.compile(optimizer=tf.keras.optimizers.Adam(),loss = tf.keras.losses.sparse_categorical_crossentropy,\n",
    "          metrics=[tf.keras.metrics.sparse_categorical_accuracy,tf.keras.metrics.sparse_categorical_crossentropy])"
   ]
  },
  {
   "cell_type": "code",
   "execution_count": null,
   "metadata": {},
   "outputs": [],
   "source": []
  }
 ],
 "metadata": {
  "kernelspec": {
   "display_name": "Python 3",
   "language": "python",
   "name": "python3"
  },
  "language_info": {
   "codemirror_mode": {
    "name": "ipython",
    "version": 3
   },
   "file_extension": ".py",
   "mimetype": "text/x-python",
   "name": "python",
   "nbconvert_exporter": "python",
   "pygments_lexer": "ipython3",
   "version": "3.7.6"
  }
 },
 "nbformat": 4,
 "nbformat_minor": 2
}
