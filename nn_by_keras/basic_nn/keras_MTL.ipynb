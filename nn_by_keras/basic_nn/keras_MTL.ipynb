{
 "cells": [
  {
   "cell_type": "code",
   "execution_count": 1,
   "metadata": {},
   "outputs": [],
   "source": [
    "import numpy as np\n",
    "import pandas as pd\n",
    "from matplotlib import pyplot as plt"
   ]
  },
  {
   "cell_type": "code",
   "execution_count": 2,
   "metadata": {},
   "outputs": [
    {
     "name": "stderr",
     "output_type": "stream",
     "text": [
      "Using TensorFlow backend.\n"
     ]
    }
   ],
   "source": [
    "import keras\n",
    "import tensorflow as tf"
   ]
  },
  {
   "cell_type": "code",
   "execution_count": 3,
   "metadata": {},
   "outputs": [],
   "source": [
    "seed_value = 0\n",
    "\n",
    "np.random.seed(seed_value)\n",
    "tf.set_random_seed(seed_value)"
   ]
  },
  {
   "cell_type": "markdown",
   "metadata": {},
   "source": [
    "# 1 data&feature"
   ]
  },
  {
   "cell_type": "code",
   "execution_count": 9,
   "metadata": {},
   "outputs": [],
   "source": [
    "num_tags = 12  \n",
    "num_words = 10000  \n",
    "num_departments = 4  "
   ]
  },
  {
   "cell_type": "code",
   "execution_count": 7,
   "metadata": {},
   "outputs": [],
   "source": [
    "##input\n",
    "title_data = np.random.randint(num_words, size=(1280, 10))\n",
    "body_data = np.random.randint(num_words, size=(1280, 100))\n",
    "tags_data = np.random.randint(2, size=(1280, num_tags)).astype(\"float32\")"
   ]
  },
  {
   "cell_type": "code",
   "execution_count": 8,
   "metadata": {},
   "outputs": [],
   "source": [
    "#  target data\n",
    "priority_targets = np.random.random(size=(1280, 1))\n",
    "dept_targets = np.random.randint(2, size=(1280, num_departments))"
   ]
  },
  {
   "cell_type": "markdown",
   "metadata": {},
   "source": [
    "# 2 model"
   ]
  },
  {
   "cell_type": "code",
   "execution_count": 30,
   "metadata": {},
   "outputs": [],
   "source": [
    "from keras.models import Model\n",
    "from keras.layers import Input,Embedding,Bidirectional,LSTM,Dense"
   ]
  },
  {
   "cell_type": "code",
   "execution_count": 31,
   "metadata": {},
   "outputs": [],
   "source": [
    "title_input = Input(shape=(10,),name='title_input')\n",
    "body_input = Input(shape=(100,),name='body_input')\n",
    "tags_input = Input(shape=(num_tags,),name='tags_input')"
   ]
  },
  {
   "cell_type": "code",
   "execution_count": 32,
   "metadata": {},
   "outputs": [],
   "source": [
    "Embedding?"
   ]
  },
  {
   "cell_type": "code",
   "execution_count": 33,
   "metadata": {},
   "outputs": [],
   "source": [
    "title_embed = Embedding(input_dim=num_words,output_dim=32,name='title_embd')(title_input)\n",
    "body_embed = Embedding(input_dim=num_words,output_dim=32,name='body_embd')(body_input)\n",
    "tags_embed = Embedding(input_dim=num_tags,output_dim=32,name='tags_embd')(tags_input)"
   ]
  },
  {
   "cell_type": "code",
   "execution_count": 34,
   "metadata": {},
   "outputs": [],
   "source": [
    "LSTM?"
   ]
  },
  {
   "cell_type": "code",
   "execution_count": 35,
   "metadata": {},
   "outputs": [],
   "source": [
    "title_lstm = Bidirectional(LSTM(units=32))(title_embed)\n",
    "body_lstm = Bidirectional(LSTM(units=32))(body_embed)\n",
    "tags_lstm = Bidirectional(LSTM(units=32))(tags_embed)"
   ]
  },
  {
   "cell_type": "code",
   "execution_count": 36,
   "metadata": {},
   "outputs": [
    {
     "name": "stdout",
     "output_type": "stream",
     "text": [
      "(?, 64)\n"
     ]
    }
   ],
   "source": [
    "print(tags_lstm.shape)"
   ]
  },
  {
   "cell_type": "code",
   "execution_count": 37,
   "metadata": {},
   "outputs": [],
   "source": [
    "keras.layers.concatenate?"
   ]
  },
  {
   "cell_type": "code",
   "execution_count": 38,
   "metadata": {},
   "outputs": [],
   "source": [
    "concat = keras.layers.concatenate([title_lstm,body_lstm,tags_lstm],axis=-1)"
   ]
  },
  {
   "cell_type": "code",
   "execution_count": 39,
   "metadata": {},
   "outputs": [],
   "source": [
    "output1  = Dense(units=1,name='out1')(concat)"
   ]
  },
  {
   "cell_type": "code",
   "execution_count": 40,
   "metadata": {},
   "outputs": [],
   "source": [
    "output2 = Dense(units=num_departments,name='out2')(concat)"
   ]
  },
  {
   "cell_type": "code",
   "execution_count": 41,
   "metadata": {},
   "outputs": [],
   "source": [
    "nn = Model([title_input,body_input,tags_input],[output1,output2])"
   ]
  },
  {
   "cell_type": "code",
   "execution_count": 42,
   "metadata": {},
   "outputs": [
    {
     "name": "stdout",
     "output_type": "stream",
     "text": [
      "__________________________________________________________________________________________________\n",
      "Layer (type)                    Output Shape         Param #     Connected to                     \n",
      "==================================================================================================\n",
      "title_input (InputLayer)        (None, 10)           0                                            \n",
      "__________________________________________________________________________________________________\n",
      "body_input (InputLayer)         (None, 100)          0                                            \n",
      "__________________________________________________________________________________________________\n",
      "tags_input (InputLayer)         (None, 12)           0                                            \n",
      "__________________________________________________________________________________________________\n",
      "title_embd (Embedding)          (None, 10, 32)       320000      title_input[0][0]                \n",
      "__________________________________________________________________________________________________\n",
      "body_embd (Embedding)           (None, 100, 32)      320000      body_input[0][0]                 \n",
      "__________________________________________________________________________________________________\n",
      "tags_embd (Embedding)           (None, 12, 32)       384         tags_input[0][0]                 \n",
      "__________________________________________________________________________________________________\n",
      "bidirectional_4 (Bidirectional) (None, 64)           16640       title_embd[0][0]                 \n",
      "__________________________________________________________________________________________________\n",
      "bidirectional_5 (Bidirectional) (None, 64)           16640       body_embd[0][0]                  \n",
      "__________________________________________________________________________________________________\n",
      "bidirectional_6 (Bidirectional) (None, 64)           16640       tags_embd[0][0]                  \n",
      "__________________________________________________________________________________________________\n",
      "concatenate_2 (Concatenate)     (None, 192)          0           bidirectional_4[0][0]            \n",
      "                                                                 bidirectional_5[0][0]            \n",
      "                                                                 bidirectional_6[0][0]            \n",
      "__________________________________________________________________________________________________\n",
      "out1 (Dense)                    (None, 1)            193         concatenate_2[0][0]              \n",
      "__________________________________________________________________________________________________\n",
      "out2 (Dense)                    (None, 4)            772         concatenate_2[0][0]              \n",
      "==================================================================================================\n",
      "Total params: 691,269\n",
      "Trainable params: 691,269\n",
      "Non-trainable params: 0\n",
      "__________________________________________________________________________________________________\n"
     ]
    }
   ],
   "source": [
    "nn.summary()"
   ]
  },
  {
   "cell_type": "code",
   "execution_count": 49,
   "metadata": {},
   "outputs": [],
   "source": [
    "nn.compile(optimizer=keras.optimizers.Adam(),\n",
    "           loss=[keras.losses.binary_crossentropy,keras.losses.categorical_crossentropy],\\\n",
    "          loss_weights=[1.0,0.2],metrics=['accuracy'])"
   ]
  },
  {
   "cell_type": "code",
   "execution_count": 50,
   "metadata": {},
   "outputs": [
    {
     "name": "stdout",
     "output_type": "stream",
     "text": [
      "Train on 1024 samples, validate on 256 samples\n",
      "Epoch 1/5\n",
      "1024/1024 [==============================] - 76s 74ms/step - loss: 1.1736 - out1_loss: 0.6698 - out2_loss: 2.5189 - out1_acc: 0.0000e+00 - out2_acc: 0.0928 - val_loss: 3.3194 - val_out1_loss: 0.6934 - val_out2_loss: 13.1298 - val_out1_acc: 0.0000e+00 - val_out2_acc: 0.1836\n",
      "Epoch 2/5\n",
      "1024/1024 [==============================] - 14s 13ms/step - loss: 2.5899 - out1_loss: 0.6467 - out2_loss: 9.7160 - out1_acc: 0.0000e+00 - out2_acc: 0.0273 - val_loss: 1.2903 - val_out1_loss: 0.6931 - val_out2_loss: 2.9862 - val_out1_acc: 0.0000e+00 - val_out2_acc: 0.3555\n",
      "Epoch 3/5\n",
      "1024/1024 [==============================] - 14s 14ms/step - loss: 1.2629 - out1_loss: 0.6330 - out2_loss: 3.1497 - out1_acc: 0.0000e+00 - out2_acc: 0.1992 - val_loss: 1.2849 - val_out1_loss: 0.6927 - val_out2_loss: 2.9611 - val_out1_acc: 0.0000e+00 - val_out2_acc: 0.4922\n",
      "Epoch 4/5\n",
      "1024/1024 [==============================] - 14s 14ms/step - loss: 1.2181 - out1_loss: 0.6204 - out2_loss: 2.9883 - out1_acc: 0.0000e+00 - out2_acc: 0.3711 - val_loss: 1.2826 - val_out1_loss: 0.6935 - val_out2_loss: 2.9456 - val_out1_acc: 0.0000e+00 - val_out2_acc: 0.4883\n",
      "Epoch 5/5\n",
      "1024/1024 [==============================] - 14s 14ms/step - loss: 1.1909 - out1_loss: 0.6052 - out2_loss: 2.9281 - out1_acc: 0.0000e+00 - out2_acc: 0.4736 - val_loss: 1.2796 - val_out1_loss: 0.6925 - val_out2_loss: 2.9357 - val_out1_acc: 0.0000e+00 - val_out2_acc: 0.4883\n"
     ]
    }
   ],
   "source": [
    "history = nn.fit([title_data,body_data,tags_data],[priority_targets,dept_targets],batch_size=128,\n",
    "                 epochs=5,validation_split=0.2)"
   ]
  },
  {
   "cell_type": "code",
   "execution_count": 51,
   "metadata": {},
   "outputs": [
    {
     "data": {
      "text/plain": [
       "[<keras.engine.input_layer.InputLayer at 0x651ba1790>,\n",
       " <keras.engine.input_layer.InputLayer at 0x127eb1110>,\n",
       " <keras.engine.input_layer.InputLayer at 0x651ba1a50>,\n",
       " <keras.layers.embeddings.Embedding at 0x1a55db5110>,\n",
       " <keras.layers.embeddings.Embedding at 0x1a5422da90>,\n",
       " <keras.layers.embeddings.Embedding at 0x651bdf290>,\n",
       " <keras.layers.wrappers.Bidirectional at 0x1a5622e310>,\n",
       " <keras.layers.wrappers.Bidirectional at 0x1a56339c50>,\n",
       " <keras.layers.wrappers.Bidirectional at 0x1a564aad90>,\n",
       " <keras.layers.merge.Concatenate at 0x1a566a58d0>,\n",
       " <keras.layers.core.Dense at 0x1a566aa9d0>,\n",
       " <keras.layers.core.Dense at 0x1a566b6210>]"
      ]
     },
     "execution_count": 51,
     "metadata": {},
     "output_type": "execute_result"
    }
   ],
   "source": [
    "nn.layers"
   ]
  },
  {
   "cell_type": "code",
   "execution_count": 61,
   "metadata": {},
   "outputs": [
    {
     "data": {
      "text/plain": [
       "'2.2.4'"
      ]
     },
     "execution_count": 61,
     "metadata": {},
     "output_type": "execute_result"
    }
   ],
   "source": [
    "keras.__version__"
   ]
  },
  {
   "cell_type": "code",
   "execution_count": 71,
   "metadata": {},
   "outputs": [],
   "source": []
  },
  {
   "cell_type": "code",
   "execution_count": null,
   "metadata": {},
   "outputs": [],
   "source": []
  },
  {
   "cell_type": "code",
   "execution_count": null,
   "metadata": {},
   "outputs": [],
   "source": []
  }
 ],
 "metadata": {
  "kernelspec": {
   "display_name": "Python 3",
   "language": "python",
   "name": "python3"
  },
  "language_info": {
   "codemirror_mode": {
    "name": "ipython",
    "version": 3
   },
   "file_extension": ".py",
   "mimetype": "text/x-python",
   "name": "python",
   "nbconvert_exporter": "python",
   "pygments_lexer": "ipython3",
   "version": "3.7.6"
  }
 },
 "nbformat": 4,
 "nbformat_minor": 2
}
