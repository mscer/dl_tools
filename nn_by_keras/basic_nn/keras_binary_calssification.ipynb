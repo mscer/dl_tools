{
 "cells": [
  {
   "cell_type": "code",
   "execution_count": 1,
   "metadata": {},
   "outputs": [],
   "source": [
    "import numpy as np\n",
    "import pandas as pd\n",
    "from matplotlib import pyplot as plt"
   ]
  },
  {
   "cell_type": "code",
   "execution_count": 140,
   "metadata": {},
   "outputs": [],
   "source": [
    "import keras\n",
    "import tensorflow as tf"
   ]
  },
  {
   "cell_type": "code",
   "execution_count": 142,
   "metadata": {},
   "outputs": [],
   "source": [
    "seed_value = 0\n",
    "\n",
    "np.random.seed(seed_value)\n",
    "tf.set_random_seed(seed_value)"
   ]
  },
  {
   "cell_type": "markdown",
   "metadata": {},
   "source": [
    "# 1 data&feat"
   ]
  },
  {
   "cell_type": "code",
   "execution_count": 143,
   "metadata": {},
   "outputs": [],
   "source": [
    "from keras.datasets import imdb"
   ]
  },
  {
   "cell_type": "code",
   "execution_count": 144,
   "metadata": {},
   "outputs": [],
   "source": [
    "imdb.load_data?"
   ]
  },
  {
   "cell_type": "code",
   "execution_count": 145,
   "metadata": {},
   "outputs": [
    {
     "name": "stderr",
     "output_type": "stream",
     "text": [
      "/Users/zhangjiaqi/workingspace/anaconda3/envs/ml3/lib/python3.7/site-packages/keras/datasets/imdb.py:101: VisibleDeprecationWarning: Creating an ndarray from ragged nested sequences (which is a list-or-tuple of lists-or-tuples-or ndarrays with different lengths or shapes) is deprecated. If you meant to do this, you must specify 'dtype=object' when creating the ndarray\n",
      "  x_train, y_train = np.array(xs[:idx]), np.array(labels[:idx])\n",
      "/Users/zhangjiaqi/workingspace/anaconda3/envs/ml3/lib/python3.7/site-packages/keras/datasets/imdb.py:102: VisibleDeprecationWarning: Creating an ndarray from ragged nested sequences (which is a list-or-tuple of lists-or-tuples-or ndarrays with different lengths or shapes) is deprecated. If you meant to do this, you must specify 'dtype=object' when creating the ndarray\n",
      "  x_test, y_test = np.array(xs[idx:]), np.array(labels[idx:])\n"
     ]
    }
   ],
   "source": [
    "(x_train, y_train), (x_test, y_test) = imdb.load_data(num_words=1000)"
   ]
  },
  {
   "cell_type": "code",
   "execution_count": 146,
   "metadata": {
    "scrolled": false
   },
   "outputs": [
    {
     "data": {
      "text/plain": [
       "[1, 14, 22, 16, 43, 530, 973, 2, 2, 65]"
      ]
     },
     "execution_count": 146,
     "metadata": {},
     "output_type": "execute_result"
    }
   ],
   "source": [
    "x_train[0][:10]"
   ]
  },
  {
   "cell_type": "code",
   "execution_count": 147,
   "metadata": {},
   "outputs": [],
   "source": [
    "np.zeros?"
   ]
  },
  {
   "cell_type": "code",
   "execution_count": 148,
   "metadata": {},
   "outputs": [],
   "source": [
    "##bow of sentence\n",
    "def sent2vec(sentences,dim=1000):\n",
    "    vec = np.zeros(shape=(sentences.shape[0],dim))\n",
    "    for i,sent in enumerate(sentences):\n",
    "        vec[i,sent] = 1\n",
    "    return vec"
   ]
  },
  {
   "cell_type": "code",
   "execution_count": 149,
   "metadata": {},
   "outputs": [],
   "source": [
    "x_train_vec = sent2vec(x_train)\n",
    "x_test_vec = sent2vec(x_test)"
   ]
  },
  {
   "cell_type": "code",
   "execution_count": 150,
   "metadata": {},
   "outputs": [
    {
     "data": {
      "text/plain": [
       "array([0., 1., 1., 0., 1., 1., 1., 1., 1., 1.])"
      ]
     },
     "execution_count": 150,
     "metadata": {},
     "output_type": "execute_result"
    }
   ],
   "source": [
    "x_train_vec[0][:10]"
   ]
  },
  {
   "cell_type": "code",
   "execution_count": 151,
   "metadata": {},
   "outputs": [
    {
     "data": {
      "text/plain": [
       "dtype('int64')"
      ]
     },
     "execution_count": 151,
     "metadata": {},
     "output_type": "execute_result"
    }
   ],
   "source": [
    "y_train.dtype"
   ]
  },
  {
   "cell_type": "markdown",
   "metadata": {},
   "source": [
    "# 2 model"
   ]
  },
  {
   "cell_type": "code",
   "execution_count": null,
   "metadata": {},
   "outputs": [],
   "source": []
  },
  {
   "cell_type": "code",
   "execution_count": 152,
   "metadata": {},
   "outputs": [],
   "source": [
    "nn = keras.models.Sequential()\n",
    "nn.add(keras.layers.Dense(units=16,activation='relu',input_shape=(1000,)))\n",
    "nn.add(keras.layers.Dense(units=16,activation='relu'))\n",
    "nn.add(keras.layers.Dense(units=16,activation='tanh'))\n",
    "nn.add(keras.layers.Dense(units=1,activation='sigmoid'))"
   ]
  },
  {
   "cell_type": "code",
   "execution_count": 153,
   "metadata": {},
   "outputs": [],
   "source": [
    "nn.compile(optimizer='Adam',loss='binary_crossentropy',metrics=['accuracy'])"
   ]
  },
  {
   "cell_type": "code",
   "execution_count": 154,
   "metadata": {},
   "outputs": [
    {
     "name": "stdout",
     "output_type": "stream",
     "text": [
      "_________________________________________________________________\n",
      "Layer (type)                 Output Shape              Param #   \n",
      "=================================================================\n",
      "dense_35 (Dense)             (None, 16)                16016     \n",
      "_________________________________________________________________\n",
      "dense_36 (Dense)             (None, 16)                272       \n",
      "_________________________________________________________________\n",
      "dense_37 (Dense)             (None, 16)                272       \n",
      "_________________________________________________________________\n",
      "dense_38 (Dense)             (None, 1)                 17        \n",
      "=================================================================\n",
      "Total params: 16,577\n",
      "Trainable params: 16,577\n",
      "Non-trainable params: 0\n",
      "_________________________________________________________________\n"
     ]
    }
   ],
   "source": [
    "nn.summary()"
   ]
  },
  {
   "cell_type": "code",
   "execution_count": 155,
   "metadata": {},
   "outputs": [
    {
     "data": {
      "text/plain": [
       "(25000,)"
      ]
     },
     "execution_count": 155,
     "metadata": {},
     "output_type": "execute_result"
    }
   ],
   "source": [
    "x_train.shape"
   ]
  },
  {
   "cell_type": "code",
   "execution_count": 156,
   "metadata": {},
   "outputs": [
    {
     "data": {
      "text/plain": [
       "(25000,)"
      ]
     },
     "execution_count": 156,
     "metadata": {},
     "output_type": "execute_result"
    }
   ],
   "source": [
    "y_train.shape"
   ]
  },
  {
   "cell_type": "code",
   "execution_count": 157,
   "metadata": {},
   "outputs": [],
   "source": [
    "##split train and eval"
   ]
  },
  {
   "cell_type": "code",
   "execution_count": 158,
   "metadata": {},
   "outputs": [],
   "source": [
    "x_train_vec_train = x_train_vec[:10000]\n",
    "y_train_train = y_train[:10000]"
   ]
  },
  {
   "cell_type": "code",
   "execution_count": 159,
   "metadata": {},
   "outputs": [],
   "source": [
    "x_train_vec_eval = x_train_vec[10000:]\n",
    "y_train_eval = y_train[10000:]"
   ]
  },
  {
   "cell_type": "code",
   "execution_count": 134,
   "metadata": {},
   "outputs": [
    {
     "name": "stdout",
     "output_type": "stream",
     "text": [
      "Train on 10000 samples, validate on 15000 samples\n",
      "Epoch 1/10\n",
      "10000/10000 [==============================] - 14s 1ms/step - loss: 0.6350 - acc: 0.6710 - val_loss: 0.5214 - val_acc: 0.7898\n",
      "Epoch 2/10\n",
      "10000/10000 [==============================] - 1s 104us/step - loss: 0.4278 - acc: 0.8205 - val_loss: 0.3737 - val_acc: 0.8423\n",
      "Epoch 3/10\n",
      "10000/10000 [==============================] - 1s 105us/step - loss: 0.3236 - acc: 0.8667 - val_loss: 0.3530 - val_acc: 0.8479\n",
      "Epoch 4/10\n",
      "10000/10000 [==============================] - 1s 103us/step - loss: 0.2896 - acc: 0.8825 - val_loss: 0.3523 - val_acc: 0.8489\n",
      "Epoch 5/10\n",
      "10000/10000 [==============================] - 1s 95us/step - loss: 0.2683 - acc: 0.8961 - val_loss: 0.3560 - val_acc: 0.8501\n",
      "Epoch 6/10\n",
      "10000/10000 [==============================] - 1s 96us/step - loss: 0.2530 - acc: 0.9033 - val_loss: 0.3775 - val_acc: 0.8435\n",
      "Epoch 7/10\n",
      "10000/10000 [==============================] - 1s 93us/step - loss: 0.2409 - acc: 0.9088 - val_loss: 0.3831 - val_acc: 0.8436\n",
      "Epoch 8/10\n",
      "10000/10000 [==============================] - 1s 139us/step - loss: 0.2272 - acc: 0.9135 - val_loss: 0.3796 - val_acc: 0.8471\n",
      "Epoch 9/10\n",
      "10000/10000 [==============================] - 1s 113us/step - loss: 0.2050 - acc: 0.9289 - val_loss: 0.3902 - val_acc: 0.8444\n",
      "Epoch 10/10\n",
      "10000/10000 [==============================] - 1s 98us/step - loss: 0.1933 - acc: 0.9318 - val_loss: 0.4028 - val_acc: 0.8423\n"
     ]
    }
   ],
   "source": [
    "history= nn.fit(x_train_vec_train,y_train_train,batch_size=256,epochs=10,validation_data=[x_train_vec_eval,y_train_eval])"
   ]
  },
  {
   "cell_type": "code",
   "execution_count": 135,
   "metadata": {},
   "outputs": [
    {
     "data": {
      "text/plain": [
       "(15000,)"
      ]
     },
     "execution_count": 135,
     "metadata": {},
     "output_type": "execute_result"
    }
   ],
   "source": [
    "y_train_eval.shape"
   ]
  },
  {
   "cell_type": "code",
   "execution_count": 136,
   "metadata": {},
   "outputs": [],
   "source": [
    "from matplotlib import pyplot as plt"
   ]
  },
  {
   "cell_type": "code",
   "execution_count": 102,
   "metadata": {},
   "outputs": [],
   "source": [
    "history_val = history.history"
   ]
  },
  {
   "cell_type": "code",
   "execution_count": 103,
   "metadata": {},
   "outputs": [
    {
     "data": {
      "text/plain": [
       "{'val_loss': [0.4998540169874827,\n",
       "  0.3968623595873515,\n",
       "  0.35428532903989157,\n",
       "  0.3489129965305328,\n",
       "  0.35197443890571595,\n",
       "  0.36104058734575906,\n",
       "  0.3614380763530731,\n",
       "  0.37086523906389873,\n",
       "  0.37713249457677206,\n",
       "  0.38111184859275815],\n",
       " 'val_acc': [0.7840666665077209,\n",
       "  0.8265333332061767,\n",
       "  0.8478000002543131,\n",
       "  0.8506666664123536,\n",
       "  0.8494000002543132,\n",
       "  0.8467333335876465,\n",
       "  0.8479333332379659,\n",
       "  0.8477333332379658,\n",
       "  0.8448666669209798,\n",
       "  0.8454],\n",
       " 'loss': [0.6182689412593841,\n",
       "  0.42207246150970457,\n",
       "  0.3365355508327484,\n",
       "  0.3063917773962021,\n",
       "  0.2867329791545868,\n",
       "  0.2750825977087021,\n",
       "  0.2649099104166031,\n",
       "  0.2524367453575134,\n",
       "  0.2456625654220581,\n",
       "  0.23388427696228029],\n",
       " 'acc': [0.6695,\n",
       "  0.8212,\n",
       "  0.862,\n",
       "  0.8762,\n",
       "  0.8832,\n",
       "  0.8893,\n",
       "  0.8911,\n",
       "  0.899,\n",
       "  0.9006,\n",
       "  0.9049]}"
      ]
     },
     "execution_count": 103,
     "metadata": {},
     "output_type": "execute_result"
    }
   ],
   "source": [
    "history_val"
   ]
  },
  {
   "cell_type": "code",
   "execution_count": 163,
   "metadata": {},
   "outputs": [
    {
     "data": {
      "text/plain": [
       "{'val_loss': [0.4998540169874827,\n",
       "  0.3968623595873515,\n",
       "  0.35428532903989157,\n",
       "  0.3489129965305328,\n",
       "  0.35197443890571595,\n",
       "  0.36104058734575906,\n",
       "  0.3614380763530731,\n",
       "  0.37086523906389873,\n",
       "  0.37713249457677206,\n",
       "  0.38111184859275815],\n",
       " 'val_acc': [0.7840666665077209,\n",
       "  0.8265333332061767,\n",
       "  0.8478000002543131,\n",
       "  0.8506666664123536,\n",
       "  0.8494000002543132,\n",
       "  0.8467333335876465,\n",
       "  0.8479333332379659,\n",
       "  0.8477333332379658,\n",
       "  0.8448666669209798,\n",
       "  0.8454],\n",
       " 'loss': [0.6182689412593841,\n",
       "  0.42207246150970457,\n",
       "  0.3365355508327484,\n",
       "  0.3063917773962021,\n",
       "  0.2867329791545868,\n",
       "  0.2750825977087021,\n",
       "  0.2649099104166031,\n",
       "  0.2524367453575134,\n",
       "  0.2456625654220581,\n",
       "  0.23388427696228029],\n",
       " 'acc': [0.6695,\n",
       "  0.8212,\n",
       "  0.862,\n",
       "  0.8762,\n",
       "  0.8832,\n",
       "  0.8893,\n",
       "  0.8911,\n",
       "  0.899,\n",
       "  0.9006,\n",
       "  0.9049]}"
      ]
     },
     "execution_count": 163,
     "metadata": {},
     "output_type": "execute_result"
    }
   ],
   "source": [
    "history_val"
   ]
  },
  {
   "cell_type": "code",
   "execution_count": 166,
   "metadata": {},
   "outputs": [],
   "source": [
    "def plot_curve(history_val):\n",
    "    epochs = range(1, len(history_val['acc']) + 1)\n",
    "    plt.plot(epochs, history_val['loss'], 'bo', label='Training loss')\n",
    "    plt.plot(epochs, history_val['val_loss'], 'b', label='Validation loss')\n",
    "    plt.title('Training and validation loss')\n",
    "    plt.xlabel('Epochs')\n",
    "    plt.ylabel('Loss')\n",
    "    plt.legend()\n",
    "    epochs = range(1, len(history_val['acc']) + 1)\n",
    "    plt.plot(epochs, history_val['acc'], 'ro', label='Training acc')\n",
    "    plt.plot(epochs, history_val['val_acc'], 'r', label='Validation acc')\n",
    "    plt.title('Training and validation acc')\n",
    "    plt.xlabel('Epochs')\n",
    "    plt.ylabel('acc')\n",
    "    plt.legend()"
   ]
  },
  {
   "cell_type": "code",
   "execution_count": 167,
   "metadata": {},
   "outputs": [
    {
     "data": {
      "image/png": "[encoded data removed]",
      "text/plain": [
       "<Figure size 432x288 with 1 Axes>"
      ]
     },
     "metadata": {
      "needs_background": "light"
     },
     "output_type": "display_data"
    }
   ],
   "source": [
    "plot_curve(history_val)"
   ]
  },
  {
   "cell_type": "markdown",
   "metadata": {},
   "source": [
    "# 3 eval"
   ]
  },
  {
   "cell_type": "code",
   "execution_count": 116,
   "metadata": {},
   "outputs": [
    {
     "name": "stdout",
     "output_type": "stream",
     "text": [
      "25000/25000 [==============================] - 4s 156us/step\n"
     ]
    },
    {
     "data": {
      "text/plain": [
       "[0.34594116797447205, 0.85048]"
      ]
     },
     "execution_count": 116,
     "metadata": {},
     "output_type": "execute_result"
    }
   ],
   "source": [
    "nn.evaluate(x_test_vec,y_test)"
   ]
  },
  {
   "cell_type": "code",
   "execution_count": null,
   "metadata": {},
   "outputs": [],
   "source": []
  }
 ],
 "metadata": {
  "kernelspec": {
   "display_name": "Python 3",
   "language": "python",
   "name": "python3"
  },
  "language_info": {
   "codemirror_mode": {
    "name": "ipython",
    "version": 3
   },
   "file_extension": ".py",
   "mimetype": "text/x-python",
   "name": "python",
   "nbconvert_exporter": "python",
   "pygments_lexer": "ipython3",
   "version": "3.7.6"
  }
 },
 "nbformat": 4,
 "nbformat_minor": 2
}
