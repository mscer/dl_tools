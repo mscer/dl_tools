{
 "cells": [
  {
   "cell_type": "code",
   "execution_count": 1,
   "metadata": {},
   "outputs": [],
   "source": [
    "import tensorflow as tf\n",
    "import numpy as np\n",
    "from matplotlib import pyplot as plt"
   ]
  },
  {
   "cell_type": "markdown",
   "metadata": {},
   "source": [
    "# 0 demo"
   ]
  },
  {
   "cell_type": "code",
   "execution_count": 2,
   "metadata": {},
   "outputs": [],
   "source": [
    "x0 = tf.placeholder(shape=[None,3],dtype=tf.float32,name='x0')\n",
    "x1 = tf.placeholder(shape=[None,3],dtype=tf.float32,name = 'x1')"
   ]
  },
  {
   "cell_type": "code",
   "execution_count": 3,
   "metadata": {},
   "outputs": [],
   "source": [
    "w0 = tf.Variable(tf.truncated_normal(shape = [3,5],mean=0.0, \\\n",
    "                                     stddev=tf.sqrt(2.)*tf.sqrt(2.0/(3+5))),dtype=tf.float32,\\\n",
    "                name = 'w0')\n",
    "w1 = tf.Variable(tf.truncated_normal(shape = [3,5],mean=0.0, \\\n",
    "                                     stddev=tf.sqrt(2.)*tf.sqrt(2.0/(3+5))),dtype=tf.float32,\\\n",
    "                name = 'w1')\n",
    "b = tf.ones([5],name = 'b')"
   ]
  },
  {
   "cell_type": "code",
   "execution_count": 4,
   "metadata": {},
   "outputs": [
    {
     "name": "stdout",
     "output_type": "stream",
     "text": [
      "(?, 5)\n"
     ]
    }
   ],
   "source": [
    "y0 = tf.matmul(x0,w0) \n",
    "y1 = tf.matmul(x0,w0) + tf.matmul(x1,w1) + b\n",
    "print(y1.shape)"
   ]
  },
  {
   "cell_type": "code",
   "execution_count": 5,
   "metadata": {},
   "outputs": [
    {
     "name": "stdout",
     "output_type": "stream",
     "text": [
      "[[ 1.6134665   2.373169   -0.35242847 -2.0306816   0.58622074]\n",
      " [ 3.3212752   6.8747206   0.34205312 -6.0053096   1.2769495 ]\n",
      " [ 5.029084   11.376272    1.0365347  -9.979937    1.9676783 ]\n",
      " [-0.78820056 -0.4206959   6.0289397   3.0978951   1.34062   ]]\n",
      "[[ 6.681863  -4.3222394  9.865832   4.921482  22.49868  ]\n",
      " [ 4.321275   7.8747206  1.3420532 -5.0053096  2.2769494]\n",
      " [ 8.553268   7.618193   7.8842697 -5.8968086 16.349764 ]\n",
      " [ 1.1917717 -1.2414455  9.506149   4.311987   8.192333 ]]\n"
     ]
    }
   ],
   "source": [
    "with tf.Session() as sess:\n",
    "    sess.run(tf.global_variables_initializer())\n",
    "    sample_0 = np.array([[0, 1, 2], [3, 4, 5], [6, 7, 8], [9, 0, 1]])\n",
    "    sample_1 = np.array([[9, 8, 7], [0, 0, 0], [6, 5, 4], [3, 2, 1]])\n",
    "    y0_val,y1_val = sess.run([y0,y1],feed_dict={x0:sample_0,x1:sample_1})\n",
    "    print(y0_val)\n",
    "    print(y1_val)"
   ]
  },
  {
   "cell_type": "markdown",
   "metadata": {},
   "source": [
    "## 0.1 rnn by api"
   ]
  },
  {
   "cell_type": "code",
   "execution_count": 6,
   "metadata": {},
   "outputs": [],
   "source": [
    "x = tf.placeholder(shape=[None,None,3],dtype=tf.float32,name = 'x')"
   ]
  },
  {
   "cell_type": "code",
   "execution_count": 7,
   "metadata": {},
   "outputs": [],
   "source": [
    "seq_length = tf.placeholder(shape=[None],dtype=tf.int16,name='seq_len')"
   ]
  },
  {
   "cell_type": "code",
   "execution_count": 8,
   "metadata": {},
   "outputs": [
    {
     "name": "stdout",
     "output_type": "stream",
     "text": [
      "WARNING:tensorflow:\n",
      "The TensorFlow contrib module will not be included in TensorFlow 2.0.\n",
      "For more information, please see:\n",
      "  * https://github.com/tensorflow/community/blob/master/rfcs/20180907-contrib-sunset.md\n",
      "  * https://github.com/tensorflow/addons\n",
      "  * https://github.com/tensorflow/io (for I/O related ops)\n",
      "If you depend on functionality not listed there, please file an issue.\n",
      "\n",
      "WARNING:tensorflow:From <ipython-input-8-6750f38f0d07>:1: BasicRNNCell.__init__ (from tensorflow.python.ops.rnn_cell_impl) is deprecated and will be removed in a future version.\n",
      "Instructions for updating:\n",
      "This class is equivalent as tf.keras.layers.SimpleRNNCell, and will be replaced by that in Tensorflow 2.0.\n"
     ]
    }
   ],
   "source": [
    "rnncell = tf.contrib.rnn.BasicRNNCell(5,'relu',name = 'rnncell')"
   ]
  },
  {
   "cell_type": "code",
   "execution_count": 9,
   "metadata": {},
   "outputs": [],
   "source": [
    "tf.nn.dynamic_rnn?"
   ]
  },
  {
   "cell_type": "code",
   "execution_count": 10,
   "metadata": {
    "scrolled": false
   },
   "outputs": [
    {
     "name": "stdout",
     "output_type": "stream",
     "text": [
      "WARNING:tensorflow:From <ipython-input-10-ba9fd5b76b1b>:1: dynamic_rnn (from tensorflow.python.ops.rnn) is deprecated and will be removed in a future version.\n",
      "Instructions for updating:\n",
      "Please use `keras.layers.RNN(cell)`, which is equivalent to this API\n",
      "WARNING:tensorflow:From /Users/zhangjiaqi/workingspace/anaconda3/envs/ml3/lib/python3.7/site-packages/tensorflow_core/python/ops/rnn_cell_impl.py:456: Layer.add_variable (from tensorflow.python.keras.engine.base_layer) is deprecated and will be removed in a future version.\n",
      "Instructions for updating:\n",
      "Please use `layer.add_weight` method instead.\n",
      "WARNING:tensorflow:From /Users/zhangjiaqi/workingspace/anaconda3/envs/ml3/lib/python3.7/site-packages/tensorflow_core/python/ops/rnn_cell_impl.py:460: calling Zeros.__init__ (from tensorflow.python.ops.init_ops) with dtype is deprecated and will be removed in a future version.\n",
      "Instructions for updating:\n",
      "Call initializer instance with the dtype argument instead of passing it to the constructor\n",
      "WARNING:tensorflow:From /Users/zhangjiaqi/workingspace/anaconda3/envs/ml3/lib/python3.7/site-packages/tensorflow_core/python/ops/rnn.py:244: where (from tensorflow.python.ops.array_ops) is deprecated and will be removed in a future version.\n",
      "Instructions for updating:\n",
      "Use tf.where in 2.0, which has the same broadcast rule as np.where\n"
     ]
    }
   ],
   "source": [
    "output,last_state = tf.nn.dynamic_rnn(rnncell,x,seq_length,dtype=tf.float32)"
   ]
  },
  {
   "cell_type": "code",
   "execution_count": 11,
   "metadata": {},
   "outputs": [],
   "source": [
    "x_batch = np.array([\n",
    "# step 0 step 1\n",
    "[[0, 1, 2], [9, 8, 7]], # instance 0\n",
    "[[3, 4, 5], [0, 0, 0]], # instance 1 (padded with a zero vector) \n",
    "[[6, 7, 8], [6, 5, 4]], # instance 2\n",
    "[[9, 0, 1], [3, 2, 1]], # instance 3\n",
    "        ])\n",
    "seq_length_batch = np.array([2, 1, 2, 2])"
   ]
  },
  {
   "cell_type": "code",
   "execution_count": 12,
   "metadata": {
    "scrolled": false
   },
   "outputs": [
    {
     "name": "stdout",
     "output_type": "stream",
     "text": [
      "(4, 2, 5)\n",
      "(4, 5)\n",
      "[[[-0.          1.0023497   0.7880838  -0.          0.27369875]\n",
      "  [ 0.43939257  3.7147627   1.416872   -0.         -0.        ]]\n",
      "\n",
      " [[-0.          2.5017817   1.51826    -0.         -0.        ]\n",
      "  [ 0.          0.          0.          0.          0.        ]]\n",
      "\n",
      " [[-0.          4.0012136   2.2484367  -0.         -0.        ]\n",
      "  [ 1.2190205   3.0389757   1.3246353  -0.         -0.        ]]\n",
      "\n",
      " [[-0.          1.4221356   0.29161632 -0.          0.2781201 ]\n",
      "  [ 0.7123401   1.061177    0.34605443 -0.         -0.        ]]]\n",
      "[[ 0.43939257  3.7147627   1.416872   -0.         -0.        ]\n",
      " [-0.          2.5017817   1.51826    -0.         -0.        ]\n",
      " [ 1.2190205   3.0389757   1.3246353  -0.         -0.        ]\n",
      " [ 0.7123401   1.061177    0.34605443 -0.         -0.        ]]\n"
     ]
    }
   ],
   "source": [
    "with tf.Session() as sess:\n",
    "    sess.run(tf.global_variables_initializer())\n",
    "    output_val,last_state_val = sess.run([output,last_state],feed_dict={x:x_batch,seq_length:seq_length_batch})\n",
    "    print(output_val.shape)\n",
    "    print(last_state_val.shape)\n",
    "    print(output_val)\n",
    "    print(last_state_val)"
   ]
  },
  {
   "cell_type": "markdown",
   "metadata": {},
   "source": [
    "# 1 data"
   ]
  },
  {
   "cell_type": "code",
   "execution_count": 13,
   "metadata": {},
   "outputs": [],
   "source": [
    "mnist = tf.keras.datasets.mnist\n",
    "(x_train_src,y_train_src),(x_test_src,y_test_src) = mnist.load_data('./mnist.npz')"
   ]
  },
  {
   "cell_type": "code",
   "execution_count": 14,
   "metadata": {},
   "outputs": [
    {
     "name": "stdout",
     "output_type": "stream",
     "text": [
      "(60000, 28, 28) (60000,)\n",
      "(10000, 28, 28) (10000,)\n"
     ]
    }
   ],
   "source": [
    "print(x_train_src.shape,y_train_src.shape)\n",
    "print(x_test_src.shape,y_test_src.shape)"
   ]
  },
  {
   "cell_type": "code",
   "execution_count": 15,
   "metadata": {},
   "outputs": [],
   "source": [
    "_,m,n = x_train_src.shape"
   ]
  },
  {
   "cell_type": "code",
   "execution_count": 16,
   "metadata": {},
   "outputs": [
    {
     "data": {
      "image/png": "[encoded data removed]",
      "text/plain": [
       "<Figure size 432x288 with 1 Axes>"
      ]
     },
     "metadata": {
      "needs_background": "light"
     },
     "output_type": "display_data"
    }
   ],
   "source": [
    "plt.imshow(x_train_src[1,:,:])\n",
    "plt.show()"
   ]
  },
  {
   "cell_type": "markdown",
   "metadata": {},
   "source": [
    "# 2 feature"
   ]
  },
  {
   "cell_type": "code",
   "execution_count": 17,
   "metadata": {},
   "outputs": [],
   "source": [
    "x_train = x_train_src/255.\n",
    "x_test = x_test_src/255."
   ]
  },
  {
   "cell_type": "code",
   "execution_count": 18,
   "metadata": {},
   "outputs": [],
   "source": [
    "y_train = y_train_src\n",
    "y_test = y_test_src"
   ]
  },
  {
   "cell_type": "markdown",
   "metadata": {},
   "source": [
    "# 3 model"
   ]
  },
  {
   "cell_type": "code",
   "execution_count": 19,
   "metadata": {},
   "outputs": [],
   "source": [
    "x = tf.placeholder(shape=[None,m,n],dtype=tf.float32,name='x')\n",
    "y = tf.placeholder(shape=[None],dtype=tf.int32,name='y')"
   ]
  },
  {
   "cell_type": "code",
   "execution_count": 20,
   "metadata": {},
   "outputs": [],
   "source": [
    "seq_len = tf.placeholder(shape=[None],dtype=tf.int32,name='seq_len')"
   ]
  },
  {
   "cell_type": "code",
   "execution_count": 21,
   "metadata": {},
   "outputs": [],
   "source": [
    "#rnncell = tf.contrib.rnn.BasicLSTMCell?"
   ]
  },
  {
   "cell_type": "code",
   "execution_count": 22,
   "metadata": {},
   "outputs": [],
   "source": [
    "rnncell = tf.contrib.rnn.BasicRNNCell(100,name='rnncell')"
   ]
  },
  {
   "cell_type": "code",
   "execution_count": 23,
   "metadata": {},
   "outputs": [],
   "source": [
    "tf.nn.dynamic_rnn?"
   ]
  },
  {
   "cell_type": "code",
   "execution_count": 24,
   "metadata": {},
   "outputs": [],
   "source": [
    "output,last_state = tf.nn.dynamic_rnn(rnncell,x,seq_len,scope='rnn1',dtype=tf.float32)"
   ]
  },
  {
   "cell_type": "code",
   "execution_count": 25,
   "metadata": {},
   "outputs": [
    {
     "name": "stdout",
     "output_type": "stream",
     "text": [
      "(?, 100)\n"
     ]
    }
   ],
   "source": [
    "print(last_state.shape)"
   ]
  },
  {
   "cell_type": "code",
   "execution_count": 29,
   "metadata": {},
   "outputs": [],
   "source": [
    "w = tf.Variable(tf.truncated_normal(shape=[100,10],mean=0.,stddev=tf.sqrt(2.)*tf.sqrt(2./(10+100))),\\\n",
    "               dtype=tf.float32,name='w')"
   ]
  },
  {
   "cell_type": "code",
   "execution_count": 30,
   "metadata": {},
   "outputs": [],
   "source": [
    "b = tf.Variable(tf.ones(shape=[10]),dtype=tf.float32,name='b')"
   ]
  },
  {
   "cell_type": "code",
   "execution_count": 31,
   "metadata": {},
   "outputs": [],
   "source": [
    "logit = tf.matmul(last_state,w) + b"
   ]
  },
  {
   "cell_type": "code",
   "execution_count": 32,
   "metadata": {},
   "outputs": [
    {
     "name": "stdout",
     "output_type": "stream",
     "text": [
      "(?, 10)\n"
     ]
    }
   ],
   "source": [
    "print(logit.shape)"
   ]
  },
  {
   "cell_type": "code",
   "execution_count": 33,
   "metadata": {},
   "outputs": [],
   "source": [
    "#correct = tf.nn.in_top_k?"
   ]
  },
  {
   "cell_type": "code",
   "execution_count": 34,
   "metadata": {},
   "outputs": [],
   "source": [
    "correct = tf.nn.in_top_k(logit,y,1,name ='correst')"
   ]
  },
  {
   "cell_type": "code",
   "execution_count": 35,
   "metadata": {},
   "outputs": [],
   "source": [
    "acc = tf.reduce_mean(tf.cast(correct,tf.float32),name='acc')"
   ]
  },
  {
   "cell_type": "markdown",
   "metadata": {},
   "source": [
    "# 4 loss"
   ]
  },
  {
   "cell_type": "code",
   "execution_count": 36,
   "metadata": {},
   "outputs": [],
   "source": [
    "all_loss = tf.nn.sparse_softmax_cross_entropy_with_logits(logits=logit,labels=y,name='all_loss')"
   ]
  },
  {
   "cell_type": "code",
   "execution_count": 37,
   "metadata": {},
   "outputs": [],
   "source": [
    "loss = tf.reduce_mean(all_loss)"
   ]
  },
  {
   "cell_type": "markdown",
   "metadata": {},
   "source": [
    "# 5 optimize"
   ]
  },
  {
   "cell_type": "code",
   "execution_count": 38,
   "metadata": {},
   "outputs": [],
   "source": [
    "optimize = tf.train.AdamOptimizer(learning_rate=3e-4,name='optimize')"
   ]
  },
  {
   "cell_type": "code",
   "execution_count": 39,
   "metadata": {
    "scrolled": false
   },
   "outputs": [],
   "source": [
    "train_op = optimize.minimize(loss)"
   ]
  },
  {
   "cell_type": "markdown",
   "metadata": {},
   "source": [
    "# 6 init"
   ]
  },
  {
   "cell_type": "code",
   "execution_count": 40,
   "metadata": {},
   "outputs": [],
   "source": [
    "init_op = tf.global_variables_initializer()"
   ]
  },
  {
   "cell_type": "markdown",
   "metadata": {},
   "source": [
    "# 7 train"
   ]
  },
  {
   "cell_type": "code",
   "execution_count": 41,
   "metadata": {},
   "outputs": [],
   "source": [
    "num_epochs = 100\n",
    "batch_size = 128\n",
    "num_batch = int(x_train.shape[0]/128) + 1"
   ]
  },
  {
   "cell_type": "code",
   "execution_count": 42,
   "metadata": {},
   "outputs": [],
   "source": [
    "saver = tf.train.Saver()"
   ]
  },
  {
   "cell_type": "code",
   "execution_count": 43,
   "metadata": {},
   "outputs": [],
   "source": [
    "def feed_batch(n_epochs,batch_index,batch_size,x_train,y_train):\n",
    "    beg = (batch_index -1 )* batch_size\n",
    "    end = batch_index * batch_size;\n",
    "    \n",
    "    return x_train[beg:end],y_train[beg:end],np.array([i.shape[0] for i in x_train[beg:end]])"
   ]
  },
  {
   "cell_type": "code",
   "execution_count": 44,
   "metadata": {
    "scrolled": false
   },
   "outputs": [
    {
     "name": "stdout",
     "output_type": "stream",
     "text": [
      "0\t0.845683\t0.522299\t0.849900\t0.517490\n",
      "1\t0.908667\t0.315426\t0.908700\t0.314486\n",
      "2\t0.929950\t0.247240\t0.927600\t0.248217\n",
      "3\t0.938517\t0.212102\t0.935500\t0.213671\n",
      "4\t0.945250\t0.189508\t0.941000\t0.190721\n",
      "5\t0.948850\t0.177594\t0.944300\t0.177827\n",
      "6\t0.951583\t0.166880\t0.947300\t0.167872\n",
      "7\t0.953967\t0.157387\t0.951100\t0.159825\n",
      "8\t0.956183\t0.149766\t0.953500\t0.153902\n",
      "9\t0.958300\t0.142385\t0.955900\t0.148810\n",
      "10\t0.961083\t0.134871\t0.957100\t0.144348\n",
      "11\t0.963317\t0.126816\t0.959200\t0.139670\n",
      "12\t0.965633\t0.118226\t0.960800\t0.133374\n",
      "13\t0.967117\t0.113822\t0.962400\t0.130525\n",
      "14\t0.968133\t0.109461\t0.962600\t0.128428\n",
      "15\t0.969467\t0.104517\t0.962500\t0.125876\n",
      "16\t0.971783\t0.098371\t0.963900\t0.121747\n",
      "17\t0.973267\t0.093106\t0.966100\t0.117485\n",
      "18\t0.973950\t0.089803\t0.966900\t0.115283\n",
      "19\t0.974350\t0.088156\t0.967400\t0.114863\n",
      "20\t0.974550\t0.087333\t0.967400\t0.115090\n",
      "21\t0.974333\t0.086691\t0.967300\t0.115543\n",
      "22\t0.974217\t0.086617\t0.966800\t0.115768\n",
      "23\t0.974967\t0.084215\t0.967100\t0.113460\n",
      "24\t0.975000\t0.084179\t0.968300\t0.112642\n",
      "25\t0.975617\t0.081483\t0.968100\t0.112337\n",
      "26\t0.976350\t0.079341\t0.968100\t0.111799\n",
      "27\t0.977033\t0.076900\t0.968400\t0.112199\n",
      "28\t0.976367\t0.079594\t0.968400\t0.115225\n",
      "29\t0.977517\t0.075601\t0.969200\t0.110148\n",
      "30\t0.978683\t0.070424\t0.970700\t0.106409\n",
      "31\t0.978317\t0.071754\t0.969100\t0.109724\n",
      "32\t0.977550\t0.074902\t0.969100\t0.109829\n",
      "33\t0.979383\t0.068456\t0.971500\t0.106400\n",
      "34\t0.980317\t0.065148\t0.971400\t0.103858\n",
      "35\t0.979383\t0.067693\t0.971600\t0.106092\n",
      "36\t0.981283\t0.061439\t0.970900\t0.104094\n",
      "37\t0.982117\t0.059586\t0.972400\t0.099846\n",
      "38\t0.981583\t0.059919\t0.972200\t0.100521\n",
      "39\t0.981817\t0.061393\t0.971800\t0.104781\n",
      "40\t0.982917\t0.056816\t0.972700\t0.099179\n",
      "41\t0.981033\t0.062692\t0.970400\t0.105460\n",
      "42\t0.982650\t0.056258\t0.972500\t0.100584\n",
      "43\t0.982417\t0.058212\t0.971000\t0.104511\n",
      "44\t0.982750\t0.057365\t0.972300\t0.101132\n",
      "45\t0.982433\t0.059626\t0.971300\t0.104105\n",
      "46\t0.983500\t0.054072\t0.973700\t0.099450\n",
      "47\t0.982500\t0.060057\t0.971500\t0.100850\n",
      "48\t0.981900\t0.060687\t0.971000\t0.105639\n",
      "49\t0.983283\t0.057460\t0.971900\t0.104534\n",
      "50\t0.984083\t0.055208\t0.970500\t0.107345\n",
      "51\t0.983083\t0.057251\t0.970900\t0.106860\n",
      "52\t0.983483\t0.054810\t0.970900\t0.108654\n",
      "53\t0.983417\t0.054026\t0.971800\t0.106833\n",
      "54\t0.983867\t0.054425\t0.971000\t0.110263\n",
      "55\t0.984317\t0.052013\t0.971800\t0.109778\n",
      "56\t0.983033\t0.056942\t0.972400\t0.109602\n",
      "57\t0.986167\t0.046142\t0.972000\t0.104048\n",
      "58\t0.985733\t0.048488\t0.972600\t0.104518\n",
      "59\t0.983333\t0.054609\t0.971500\t0.110360\n",
      "60\t0.985600\t0.046593\t0.972400\t0.107254\n",
      "61\t0.985200\t0.048522\t0.972400\t0.105756\n",
      "62\t0.985200\t0.047610\t0.972900\t0.107794\n",
      "63\t0.984217\t0.051390\t0.971400\t0.112842\n",
      "64\t0.986400\t0.045089\t0.973100\t0.103689\n",
      "65\t0.986050\t0.046151\t0.972300\t0.109815\n",
      "66\t0.986800\t0.043352\t0.973800\t0.103670\n",
      "67\t0.985233\t0.048238\t0.971700\t0.113936\n",
      "68\t0.986350\t0.043988\t0.972900\t0.104180\n",
      "69\t0.983300\t0.054590\t0.969700\t0.117414\n",
      "70\t0.988150\t0.038795\t0.974600\t0.102265\n",
      "71\t0.984617\t0.048472\t0.970400\t0.115333\n",
      "72\t0.986717\t0.043236\t0.971900\t0.108993\n",
      "73\t0.986800\t0.041381\t0.972700\t0.110249\n",
      "74\t0.989717\t0.032562\t0.974400\t0.100358\n",
      "75\t0.990050\t0.032623\t0.974400\t0.102630\n",
      "76\t0.987550\t0.040661\t0.972900\t0.104145\n",
      "77\t0.987767\t0.039796\t0.974100\t0.107885\n",
      "78\t0.986300\t0.043311\t0.970500\t0.114332\n",
      "79\t0.986733\t0.041814\t0.972300\t0.116443\n",
      "80\t0.989767\t0.033402\t0.975800\t0.097125\n",
      "81\t0.987783\t0.038488\t0.973800\t0.106476\n",
      "82\t0.990033\t0.030852\t0.974900\t0.103752\n",
      "83\t0.989100\t0.034426\t0.974000\t0.104423\n",
      "84\t0.989183\t0.033624\t0.974200\t0.108757\n",
      "85\t0.988783\t0.035528\t0.973500\t0.107695\n",
      "86\t0.986400\t0.043333\t0.972500\t0.112367\n",
      "87\t0.990367\t0.030182\t0.975300\t0.101988\n",
      "88\t0.989000\t0.035285\t0.974800\t0.100924\n",
      "89\t0.990733\t0.028314\t0.974800\t0.102881\n",
      "90\t0.987267\t0.040580\t0.972800\t0.109915\n",
      "91\t0.988967\t0.034962\t0.974500\t0.115034\n",
      "92\t0.990300\t0.030989\t0.974500\t0.104667\n",
      "93\t0.991267\t0.027140\t0.974700\t0.099873\n",
      "94\t0.989983\t0.031334\t0.972900\t0.107199\n",
      "95\t0.991517\t0.026729\t0.974700\t0.096431\n",
      "96\t0.992200\t0.025333\t0.976400\t0.097470\n",
      "97\t0.992883\t0.022263\t0.976100\t0.096808\n",
      "98\t0.991000\t0.028371\t0.975200\t0.104049\n",
      "99\t0.991483\t0.025939\t0.976800\t0.100328\n",
      "0.991483\t0.025939\t0.976800\t0.100328\n"
     ]
    }
   ],
   "source": [
    "with tf.Session() as sess:\n",
    "    sess.run(init_op)\n",
    "    for i in range(num_epochs):\n",
    "        for j in range(1,num_batch):\n",
    "            sample_x,sample_y,sample_len = feed_batch(i,j,batch_size,x_train,y_train)\n",
    "            #print(sample_x.shape,sample_y.shape,sample_len.shape)\n",
    "            if j%100 == 0:\n",
    "                acc_train,loss_train,_ = sess.run([acc,loss,train_op],\\\n",
    "                                                  feed_dict={x:sample_x,y:sample_y,seq_len:sample_len})\n",
    "                acc_test = sess.run(acc,feed_dict={x:x_test,y:y_test,\\\n",
    "                                                   seq_len:np.array([i.shape[0] for i in x_test])})\n",
    "                #print('%d\\t%d\\t%f\\t%f\\t%f'%(i,j,loss_train,acc_train,acc_test))\n",
    "            else:\n",
    "                _ = sess.run([train_op],feed_dict={x:sample_x,y:sample_y,seq_len:sample_len})\n",
    "        acc_test,loss_test = sess.run([acc,loss],feed_dict={x:x_test,y:y_test,\\\n",
    "                                                        seq_len:np.array([i.shape[0] for i in x_test])})\n",
    "        acc_train,loss_train = sess.run([acc,loss],feed_dict={x:x_train,y:y_train,\\\n",
    "                                                          seq_len:np.array([i.shape[0] for i in x_train])})\n",
    "        print('%d\\t%f\\t%f\\t%f\\t%f'%(i,acc_train,loss_train,acc_test,loss_test))\n",
    "        \n",
    "    acc_test,loss_test = sess.run([acc,loss],feed_dict={x:x_test,y:y_test,\\\n",
    "                                                        seq_len:np.array([i.shape[0] for i in x_test])})\n",
    "    acc_train,loss_train = sess.run([acc,loss],feed_dict={x:x_train,y:y_train,\\\n",
    "                                                          seq_len:np.array([i.shape[0] for i in x_train])})\n",
    "    print('%f\\t%f\\t%f\\t%f'%(acc_train,loss_train,acc_test,loss_test))\n",
    "    saver.save(sess,'./model/rnn')"
   ]
  },
  {
   "cell_type": "code",
   "execution_count": 45,
   "metadata": {},
   "outputs": [
    {
     "name": "stdout",
     "output_type": "stream",
     "text": [
      "INFO:tensorflow:Restoring parameters from ./model/rnn\n",
      "0.991483\t0.025939\t0.976800\t0.100328\n"
     ]
    }
   ],
   "source": [
    "with tf.Session() as sess:\n",
    "    saver.restore(sess,'./model/rnn')\n",
    "    acc_test,loss_test = sess.run([acc,loss],feed_dict={x:x_test,y:y_test,\\\n",
    "                                                        seq_len:np.array([i.shape[0] for i in x_test])})\n",
    "    acc_train,loss_train = sess.run([acc,loss],feed_dict={x:x_train,y:y_train,\\\n",
    "                                                          seq_len:np.array([i.shape[0] for i in x_train])})\n",
    "    print('%f\\t%f\\t%f\\t%f'%(acc_train,loss_train,acc_test,loss_test))"
   ]
  },
  {
   "cell_type": "code",
   "execution_count": null,
   "metadata": {},
   "outputs": [],
   "source": []
  }
 ],
 "metadata": {
  "kernelspec": {
   "display_name": "Python 3",
   "language": "python",
   "name": "python3"
  },
  "language_info": {
   "codemirror_mode": {
    "name": "ipython",
    "version": 3
   },
   "file_extension": ".py",
   "mimetype": "text/x-python",
   "name": "python",
   "nbconvert_exporter": "python",
   "pygments_lexer": "ipython3",
   "version": "3.7.6"
  }
 },
 "nbformat": 4,
 "nbformat_minor": 2
}
