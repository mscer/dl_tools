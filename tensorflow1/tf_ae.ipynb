{
 "cells": [
  {
   "cell_type": "code",
   "execution_count": 5,
   "metadata": {},
   "outputs": [],
   "source": [
    "import numpy as np\n",
    "import tensorflow as tf\n",
    "from matplotlib import pyplot as plt"
   ]
  },
  {
   "cell_type": "markdown",
   "metadata": {},
   "source": [
    "# 1 load data "
   ]
  },
  {
   "cell_type": "code",
   "execution_count": 119,
   "metadata": {},
   "outputs": [],
   "source": [
    "mnist = tf.keras.datasets.mnist\n",
    "(x_train_src,y_train_src),(x_test_src,y_test_src) = mnist.load_data('./mnist.npz')"
   ]
  },
  {
   "cell_type": "code",
   "execution_count": 120,
   "metadata": {},
   "outputs": [
    {
     "name": "stdout",
     "output_type": "stream",
     "text": [
      "(60000, 28, 28) (60000,)\n",
      "(10000, 28, 28) (10000,)\n"
     ]
    }
   ],
   "source": [
    "print(x_train_src.shape,y_train_src.shape)\n",
    "print(x_test_src.shape,y_test_src.shape)"
   ]
  },
  {
   "cell_type": "code",
   "execution_count": 121,
   "metadata": {},
   "outputs": [
    {
     "data": {
      "image/png": "[encoded data removed]",
      "text/plain": [
       "<Figure size 432x288 with 1 Axes>"
      ]
     },
     "metadata": {
      "needs_background": "light"
     },
     "output_type": "display_data"
    }
   ],
   "source": [
    "_,m,n = x_train_src.shape\n",
    "plt.imshow(x_train_src[1,:,:])\n",
    "plt.show()"
   ]
  },
  {
   "cell_type": "markdown",
   "metadata": {},
   "source": [
    "# 2 feature //norm"
   ]
  },
  {
   "cell_type": "code",
   "execution_count": 7,
   "metadata": {},
   "outputs": [],
   "source": [
    "x_train = x_train_src/255.\n",
    "x_test = x_test_src/255.\n",
    "\n",
    "y_train = y_train_src\n",
    "y_test = y_test_src"
   ]
  },
  {
   "cell_type": "markdown",
   "metadata": {},
   "source": [
    "# 3 model"
   ]
  },
  {
   "cell_type": "code",
   "execution_count": 39,
   "metadata": {},
   "outputs": [],
   "source": [
    "num_h1 = 300\n",
    "num_h2 = 150\n",
    "num_h3 = num_h2\n",
    "num_h4 = m*n"
   ]
  },
  {
   "cell_type": "code",
   "execution_count": 71,
   "metadata": {},
   "outputs": [],
   "source": [
    "tf.reset_default_graph()"
   ]
  },
  {
   "cell_type": "code",
   "execution_count": 72,
   "metadata": {},
   "outputs": [],
   "source": [
    "input_x = tf.placeholder(dtype=tf.float32,shape=[None,m,n],name='input_x')"
   ]
  },
  {
   "cell_type": "code",
   "execution_count": 73,
   "metadata": {},
   "outputs": [],
   "source": [
    "x = tf.reshape(input_x,shape=[-1,m*n])"
   ]
  },
  {
   "cell_type": "code",
   "execution_count": 74,
   "metadata": {},
   "outputs": [],
   "source": [
    "with tf.name_scope('h1'):\n",
    "    w1 = tf.Variable(tf.truncated_normal(shape=[m*n,num_h1],mean=0.,\\\n",
    "                                     stddev=tf.sqrt(2.)*tf.sqrt(2./(m*n+num_h1))),dtype=tf.float32,\\\n",
    "                name = 'w1')\n",
    "    b1 = tf.Variable(tf.zeros(shape=num_h1),name='b1',dtype=tf.float32)\n",
    "    h1 = tf.matmul(x,w1) + b1"
   ]
  },
  {
   "cell_type": "code",
   "execution_count": 75,
   "metadata": {},
   "outputs": [
    {
     "data": {
      "text/plain": [
       "TensorShape([Dimension(None), Dimension(300)])"
      ]
     },
     "execution_count": 75,
     "metadata": {},
     "output_type": "execute_result"
    }
   ],
   "source": [
    "h1.shape"
   ]
  },
  {
   "cell_type": "code",
   "execution_count": 76,
   "metadata": {},
   "outputs": [],
   "source": [
    "with tf.name_scope('h2'):\n",
    "    w2 = tf.Variable(tf.truncated_normal(shape=[num_h1,num_h2],mean=0.,\\\n",
    "                                     stddev=tf.sqrt(2.)*tf.sqrt(2./(num_h2+num_h1))),dtype=tf.float32,\\\n",
    "                name = 'w2')\n",
    "    b2 = tf.Variable(tf.zeros(shape=num_h2),name='b2',dtype=tf.float32)\n",
    "    h2 = tf.matmul(h1,w2) + b2"
   ]
  },
  {
   "cell_type": "code",
   "execution_count": 77,
   "metadata": {},
   "outputs": [],
   "source": [
    "with tf.name_scope('h3'):\n",
    "    w3 = tf.Variable(tf.truncated_normal(shape=[num_h2,num_h3],mean=0.,\\\n",
    "                                     stddev=tf.sqrt(2.)*tf.sqrt(2./(num_h2+num_h3))),dtype=tf.float32,\\\n",
    "                name = 'w3')\n",
    "    b3 = tf.Variable(tf.zeros(shape=num_h3),name='b3',dtype=tf.float32)\n",
    "    h3 = tf.matmul(h2,w3) + b3"
   ]
  },
  {
   "cell_type": "code",
   "execution_count": 78,
   "metadata": {},
   "outputs": [],
   "source": [
    "with tf.name_scope('h4'):\n",
    "    w4 = tf.Variable(tf.truncated_normal(shape=[num_h3,num_h4],mean=0.,\\\n",
    "                                     stddev=tf.sqrt(2.)*tf.sqrt(2./(num_h3+num_h4))),dtype=tf.float32,\\\n",
    "                name = 'w4')\n",
    "    b4 = tf.Variable(tf.zeros(shape=num_h4),name='b4',dtype=tf.float32)\n",
    "    h4 = tf.matmul(h3,w4) + b4"
   ]
  },
  {
   "cell_type": "markdown",
   "metadata": {},
   "source": [
    "# 4 loss"
   ]
  },
  {
   "cell_type": "code",
   "execution_count": 79,
   "metadata": {},
   "outputs": [],
   "source": [
    "mse = tf.reduce_mean(tf.square(h4-x),name='mes')"
   ]
  },
  {
   "cell_type": "code",
   "execution_count": 80,
   "metadata": {},
   "outputs": [],
   "source": [
    "reg_loss = tf.get_collection?"
   ]
  },
  {
   "cell_type": "code",
   "execution_count": null,
   "metadata": {},
   "outputs": [],
   "source": [
    "reg_loss = tf.get_collection"
   ]
  },
  {
   "cell_type": "code",
   "execution_count": 81,
   "metadata": {},
   "outputs": [],
   "source": [
    "reg_loss = tf.get_collection(tf.GraphKeys.REGULARIZATION_LOSSES)"
   ]
  },
  {
   "cell_type": "code",
   "execution_count": 82,
   "metadata": {},
   "outputs": [],
   "source": [
    "loss = tf.add_n([mse] + reg_loss,name='loss')"
   ]
  },
  {
   "cell_type": "markdown",
   "metadata": {},
   "source": [
    "# 5 optimize"
   ]
  },
  {
   "cell_type": "code",
   "execution_count": 83,
   "metadata": {},
   "outputs": [],
   "source": [
    "adam = tf.train.AdamOptimizer(learning_rate=3e-4)"
   ]
  },
  {
   "cell_type": "code",
   "execution_count": 84,
   "metadata": {},
   "outputs": [],
   "source": [
    "train_op = adam.minimize(loss)"
   ]
  },
  {
   "cell_type": "markdown",
   "metadata": {},
   "source": [
    "# 6 init"
   ]
  },
  {
   "cell_type": "code",
   "execution_count": 85,
   "metadata": {},
   "outputs": [],
   "source": [
    "init_op = tf.global_variables_initializer()"
   ]
  },
  {
   "cell_type": "markdown",
   "metadata": {},
   "source": [
    "# 7 train"
   ]
  },
  {
   "cell_type": "code",
   "execution_count": 86,
   "metadata": {},
   "outputs": [],
   "source": [
    "saver = tf.train.Saver()"
   ]
  },
  {
   "cell_type": "code",
   "execution_count": 100,
   "metadata": {},
   "outputs": [],
   "source": [
    "num_epochs = 10\n",
    "batch_size = 128\n",
    "num_batch = int(x_train.shape[0]/128) + 1"
   ]
  },
  {
   "cell_type": "code",
   "execution_count": 101,
   "metadata": {},
   "outputs": [],
   "source": [
    "def feed_batch(n_epochs,batch_index,batch_size,x_train,y_train):\n",
    "    beg = (batch_index -1 )* batch_size\n",
    "    end = batch_index * batch_size;\n",
    "    \n",
    "    return x_train[beg:end],y_train[beg:end],np.array([i.shape[0] for i in x_train[beg:end]])"
   ]
  },
  {
   "cell_type": "code",
   "execution_count": 103,
   "metadata": {
    "scrolled": false
   },
   "outputs": [
    {
     "name": "stdout",
     "output_type": "stream",
     "text": [
      "0,100th:loss is 0.072655\n",
      "0,200th:loss is 0.041134\n",
      "0,300th:loss is 0.032650\n",
      "0,400th:loss is 0.025576\n",
      "1,100th:loss is 0.021165\n",
      "1,200th:loss is 0.016310\n",
      "1,300th:loss is 0.016071\n",
      "1,400th:loss is 0.014101\n",
      "2,100th:loss is 0.013541\n",
      "2,200th:loss is 0.011096\n",
      "2,300th:loss is 0.011316\n",
      "2,400th:loss is 0.010320\n",
      "3,100th:loss is 0.010287\n",
      "3,200th:loss is 0.008722\n",
      "3,300th:loss is 0.009062\n",
      "3,400th:loss is 0.008385\n",
      "4,100th:loss is 0.008502\n",
      "4,200th:loss is 0.007356\n",
      "4,300th:loss is 0.007684\n",
      "4,400th:loss is 0.007200\n",
      "5,100th:loss is 0.007362\n",
      "5,200th:loss is 0.006456\n",
      "5,300th:loss is 0.006752\n",
      "5,400th:loss is 0.006395\n",
      "6,100th:loss is 0.006566\n",
      "6,200th:loss is 0.005825\n",
      "6,300th:loss is 0.006088\n",
      "6,400th:loss is 0.005810\n",
      "7,100th:loss is 0.005974\n",
      "7,200th:loss is 0.005359\n",
      "7,300th:loss is 0.005590\n",
      "7,400th:loss is 0.005366\n",
      "8,100th:loss is 0.005518\n",
      "8,200th:loss is 0.004996\n",
      "8,300th:loss is 0.005202\n",
      "8,400th:loss is 0.005021\n",
      "9,100th:loss is 0.005166\n",
      "9,200th:loss is 0.004728\n",
      "9,300th:loss is 0.004894\n",
      "9,400th:loss is 0.004745\n",
      "final loss0.004285\n"
     ]
    }
   ],
   "source": [
    "with tf.Session() as sess:\n",
    "    sess.run(init_op)\n",
    "    for i in range(num_epochs):\n",
    "        for j in range(1,num_batch):\n",
    "            sample_x,sample_y,sample_len = feed_batch(i,j,batch_size,x_train,y_train)\n",
    "            train_loss,_= sess.run([loss,train_op],feed_dict={input_x:sample_x})\n",
    "            if j%100 == 0:\n",
    "                print('%d,%dth:loss is %f'%(i,j,train_loss))\n",
    "    train_losss = sess.run([loss],feed_dict={input_x:x_train})\n",
    "    print('final loss%f'%(train_loss))\n",
    "    saver.save(sess,'./model/ae')"
   ]
  },
  {
   "cell_type": "code",
   "execution_count": 114,
   "metadata": {},
   "outputs": [],
   "source": [
    "tf.reset_default_graph()"
   ]
  },
  {
   "cell_type": "markdown",
   "metadata": {},
   "source": [
    "# 8 eval"
   ]
  },
  {
   "cell_type": "code",
   "execution_count": 124,
   "metadata": {},
   "outputs": [
    {
     "data": {
      "image/png": "[encoded data removed]",
      "text/plain": [
       "<Figure size 432x288 with 1 Axes>"
      ]
     },
     "metadata": {
      "needs_background": "light"
     },
     "output_type": "display_data"
    }
   ],
   "source": [
    "plt.imshow(x_test_src[30,:,:])\n",
    "plt.show()"
   ]
  },
  {
   "cell_type": "code",
   "execution_count": 131,
   "metadata": {
    "scrolled": false
   },
   "outputs": [
    {
     "name": "stdout",
     "output_type": "stream",
     "text": [
      "INFO:tensorflow:Restoring parameters from ./model/ae\n"
     ]
    }
   ],
   "source": [
    "with tf.Session() as sess:\n",
    "    ##import granph define\n",
    "    new_saver = tf.train.import_meta_graph('./model/ae.meta')\n",
    "    new_saver.restore(sess,'./model/ae')\n",
    "    graph = tf.get_default_graph()\n",
    "    for op in graph.get_operations():\n",
    "        #print(op.name)\n",
    "        pass\n",
    "    ##output\n",
    "    x = graph.get_tensor_by_name('input_x:0')\n",
    "    h2 = graph.get_tensor_by_name('h2/add:0')\n",
    "    h4 = graph.get_tensor_by_name('h4/add:0')\n",
    "    output,embed = sess.run([h4,h2],feed_dict={x:x_test_src[30,:,:].reshape(-1,28,28)})"
   ]
  },
  {
   "cell_type": "code",
   "execution_count": 139,
   "metadata": {},
   "outputs": [
    {
     "data": {
      "image/png": "[encoded data removed]",
      "text/plain": [
       "<Figure size 432x288 with 1 Axes>"
      ]
     },
     "metadata": {
      "needs_background": "light"
     },
     "output_type": "display_data"
    }
   ],
   "source": [
    "plt.imshow((output.reshape(28,28)*255.))\n",
    "plt.show()"
   ]
  },
  {
   "cell_type": "code",
   "execution_count": 142,
   "metadata": {},
   "outputs": [
    {
     "data": {
      "image/png": "[encoded data removed]",
      "text/plain": [
       "<Figure size 432x288 with 1 Axes>"
      ]
     },
     "metadata": {
      "needs_background": "light"
     },
     "output_type": "display_data"
    }
   ],
   "source": [
    "plt.imshow((embed.reshape(30,-1)*255.))\n",
    "plt.show()"
   ]
  },
  {
   "cell_type": "code",
   "execution_count": null,
   "metadata": {},
   "outputs": [],
   "source": []
  }
 ],
 "metadata": {
  "kernelspec": {
   "display_name": "Python 3",
   "language": "python",
   "name": "python3"
  },
  "language_info": {
   "codemirror_mode": {
    "name": "ipython",
    "version": 3
   },
   "file_extension": ".py",
   "mimetype": "text/x-python",
   "name": "python",
   "nbconvert_exporter": "python",
   "pygments_lexer": "ipython3",
   "version": "3.7.6"
  }
 },
 "nbformat": 4,
 "nbformat_minor": 2
}
