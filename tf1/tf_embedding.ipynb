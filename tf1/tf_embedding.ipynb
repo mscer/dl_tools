{
 "cells": [
  {
   "cell_type": "code",
   "execution_count": 1,
   "metadata": {},
   "outputs": [],
   "source": [
    "import numpy as np\n",
    "import tensorflow as tf"
   ]
  },
  {
   "cell_type": "code",
   "execution_count": 21,
   "metadata": {},
   "outputs": [],
   "source": [
    "#np.eye(5)"
   ]
  },
  {
   "cell_type": "code",
   "execution_count": 38,
   "metadata": {},
   "outputs": [],
   "source": [
    "x = tf.placeholder(shape=[None,None,None],dtype=tf.int32,name='x')"
   ]
  },
  {
   "cell_type": "code",
   "execution_count": 39,
   "metadata": {},
   "outputs": [],
   "source": [
    "embedding = tf.constant(np.eye(5),dtype=tf.float32,name='embedding')"
   ]
  },
  {
   "cell_type": "code",
   "execution_count": 40,
   "metadata": {},
   "outputs": [],
   "source": [
    "tf.nn.embedding_lookup?"
   ]
  },
  {
   "cell_type": "code",
   "execution_count": 41,
   "metadata": {},
   "outputs": [],
   "source": [
    "embed_vec = tf.nn.embedding_lookup(embedding,x,name='lookup')"
   ]
  },
  {
   "cell_type": "code",
   "execution_count": 43,
   "metadata": {
    "scrolled": false
   },
   "outputs": [
    {
     "name": "stdout",
     "output_type": "stream",
     "text": [
      "(1, 2, 3, 5)\n",
      "[[[[1. 0. 0. 0. 0.]\n",
      "   [0. 0. 1. 0. 0.]\n",
      "   [0. 1. 0. 0. 0.]]\n",
      "\n",
      "  [[0. 0. 0. 1. 0.]\n",
      "   [0. 0. 0. 0. 1.]\n",
      "   [0. 0. 0. 0. 1.]]]]\n"
     ]
    }
   ],
   "source": [
    "with tf.Session()  as sess:\n",
    "    sample_x = np.array([[[0,2,1],[3,4,4]]])\n",
    "    embed_val = sess.run(embed_vec,feed_dict={x:sample_x})\n",
    "    print(embed_val.shape)\n",
    "    print(embed_val)"
   ]
  },
  {
   "cell_type": "code",
   "execution_count": null,
   "metadata": {},
   "outputs": [],
   "source": []
  }
 ],
 "metadata": {
  "kernelspec": {
   "display_name": "Python 3",
   "language": "python",
   "name": "python3"
  },
  "language_info": {
   "codemirror_mode": {
    "name": "ipython",
    "version": 3
   },
   "file_extension": ".py",
   "mimetype": "text/x-python",
   "name": "python",
   "nbconvert_exporter": "python",
   "pygments_lexer": "ipython3",
   "version": "3.7.6"
  }
 },
 "nbformat": 4,
 "nbformat_minor": 2
}
