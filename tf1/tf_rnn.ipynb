{
 "cells": [
  {
   "cell_type": "code",
   "execution_count": 1,
   "metadata": {},
   "outputs": [],
   "source": [
    "import tensorflow as tf\n",
    "import numpy as np\n",
    "from matplotlib import pyplot as plt"
   ]
  },
  {
   "cell_type": "markdown",
   "metadata": {},
   "source": [
    "# 0 demo"
   ]
  },
  {
   "cell_type": "code",
   "execution_count": 2,
   "metadata": {},
   "outputs": [],
   "source": [
    "x0 = tf.placeholder(shape=[None,3],dtype=tf.float32,name='x0')\n",
    "x1 = tf.placeholder(shape=[None,3],dtype=tf.float32,name = 'x1')"
   ]
  },
  {
   "cell_type": "code",
   "execution_count": 3,
   "metadata": {},
   "outputs": [],
   "source": [
    "w0 = tf.Variable(tf.truncated_normal(shape = [3,5],mean=0.0, \\\n",
    "                                     stddev=tf.sqrt(2.)*tf.sqrt(2.0/(3+5))),dtype=tf.float32,\\\n",
    "                name = 'w0')\n",
    "w1 = tf.Variable(tf.truncated_normal(shape = [3,5],mean=0.0, \\\n",
    "                                     stddev=tf.sqrt(2.)*tf.sqrt(2.0/(3+5))),dtype=tf.float32,\\\n",
    "                name = 'w1')\n",
    "b = tf.ones([5],name = 'b')"
   ]
  },
  {
   "cell_type": "code",
   "execution_count": 4,
   "metadata": {},
   "outputs": [
    {
     "name": "stdout",
     "output_type": "stream",
     "text": [
      "(?, 5)\n"
     ]
    }
   ],
   "source": [
    "y0 = tf.matmul(x0,w0) \n",
    "y1 = tf.matmul(x0,w0) + tf.matmul(x1,w1) + b\n",
    "print(y1.shape)"
   ]
  },
  {
   "cell_type": "code",
   "execution_count": 5,
   "metadata": {},
   "outputs": [
    {
     "name": "stdout",
     "output_type": "stream",
     "text": [
      "[[-7.6392114e-01  9.1009533e-01  5.8799982e-04  2.9537350e-02\n",
      "   1.4460812e+00]\n",
      " [-3.7820807e+00  5.1625500e+00 -1.5012958e+00  3.0836976e+00\n",
      "   5.0521984e+00]\n",
      " [-6.8002405e+00  9.4150047e+00 -3.0031796e+00  6.1378579e+00\n",
      "   8.6583157e+00]\n",
      " [-5.0425115e+00  6.2245388e+00 -1.6617463e+00  6.9335661e+00\n",
      "   4.4703031e+00]]\n",
      "[[-17.318924   14.280831   14.384875    8.271087    1.1990845]\n",
      " [ -2.7820807   6.16255    -0.5012958   4.0836973   6.0521984]\n",
      " [-17.163082   17.910744    6.282051   11.574619    8.90493  ]\n",
      " [ -9.21319     9.845281    2.5244286   9.56554     5.210529 ]]\n"
     ]
    }
   ],
   "source": [
    "with tf.Session() as sess:\n",
    "    sess.run(tf.global_variables_initializer())\n",
    "    sample_0 = np.array([[0, 1, 2], [3, 4, 5], [6, 7, 8], [9, 0, 1]])\n",
    "    sample_1 = np.array([[9, 8, 7], [0, 0, 0], [6, 5, 4], [3, 2, 1]])\n",
    "    y0_val,y1_val = sess.run([y0,y1],feed_dict={x0:sample_0,x1:sample_1})\n",
    "    print(y0_val)\n",
    "    print(y1_val)"
   ]
  },
  {
   "cell_type": "markdown",
   "metadata": {},
   "source": [
    "## 0.1 rnn by api"
   ]
  },
  {
   "cell_type": "code",
   "execution_count": 6,
   "metadata": {},
   "outputs": [],
   "source": [
    "x = tf.placeholder(shape=[None,None,3],dtype=tf.float32,name = 'x')"
   ]
  },
  {
   "cell_type": "code",
   "execution_count": 7,
   "metadata": {},
   "outputs": [],
   "source": [
    "seq_length = tf.placeholder(shape=[None],dtype=tf.int16,name='seq_len')"
   ]
  },
  {
   "cell_type": "code",
   "execution_count": 8,
   "metadata": {},
   "outputs": [
    {
     "name": "stdout",
     "output_type": "stream",
     "text": [
      "WARNING:tensorflow:\n",
      "The TensorFlow contrib module will not be included in TensorFlow 2.0.\n",
      "For more information, please see:\n",
      "  * https://github.com/tensorflow/community/blob/master/rfcs/20180907-contrib-sunset.md\n",
      "  * https://github.com/tensorflow/addons\n",
      "  * https://github.com/tensorflow/io (for I/O related ops)\n",
      "If you depend on functionality not listed there, please file an issue.\n",
      "\n",
      "WARNING:tensorflow:From <ipython-input-8-6750f38f0d07>:1: BasicRNNCell.__init__ (from tensorflow.python.ops.rnn_cell_impl) is deprecated and will be removed in a future version.\n",
      "Instructions for updating:\n",
      "This class is equivalent as tf.keras.layers.SimpleRNNCell, and will be replaced by that in Tensorflow 2.0.\n"
     ]
    }
   ],
   "source": [
    "rnncell = tf.contrib.rnn.BasicRNNCell(5,'relu',name = 'rnncell')"
   ]
  },
  {
   "cell_type": "code",
   "execution_count": 9,
   "metadata": {},
   "outputs": [],
   "source": [
    "tf.nn.dynamic_rnn?"
   ]
  },
  {
   "cell_type": "code",
   "execution_count": 10,
   "metadata": {
    "scrolled": false
   },
   "outputs": [
    {
     "name": "stdout",
     "output_type": "stream",
     "text": [
      "WARNING:tensorflow:From <ipython-input-10-ba9fd5b76b1b>:1: dynamic_rnn (from tensorflow.python.ops.rnn) is deprecated and will be removed in a future version.\n",
      "Instructions for updating:\n",
      "Please use `keras.layers.RNN(cell)`, which is equivalent to this API\n",
      "WARNING:tensorflow:From /Users/zhangjiaqi/workingspace/anaconda3/envs/ml3/lib/python3.7/site-packages/tensorflow_core/python/ops/rnn_cell_impl.py:456: Layer.add_variable (from tensorflow.python.keras.engine.base_layer) is deprecated and will be removed in a future version.\n",
      "Instructions for updating:\n",
      "Please use `layer.add_weight` method instead.\n",
      "WARNING:tensorflow:From /Users/zhangjiaqi/workingspace/anaconda3/envs/ml3/lib/python3.7/site-packages/tensorflow_core/python/ops/rnn_cell_impl.py:460: calling Zeros.__init__ (from tensorflow.python.ops.init_ops) with dtype is deprecated and will be removed in a future version.\n",
      "Instructions for updating:\n",
      "Call initializer instance with the dtype argument instead of passing it to the constructor\n",
      "WARNING:tensorflow:From /Users/zhangjiaqi/workingspace/anaconda3/envs/ml3/lib/python3.7/site-packages/tensorflow_core/python/ops/rnn.py:244: where (from tensorflow.python.ops.array_ops) is deprecated and will be removed in a future version.\n",
      "Instructions for updating:\n",
      "Use tf.where in 2.0, which has the same broadcast rule as np.where\n"
     ]
    }
   ],
   "source": [
    "output,last_state = tf.nn.dynamic_rnn(rnncell,x,seq_length,dtype=tf.float32)"
   ]
  },
  {
   "cell_type": "code",
   "execution_count": 11,
   "metadata": {},
   "outputs": [],
   "source": [
    "x_batch = np.array([\n",
    "# step 0 step 1\n",
    "[[0, 1, 2], [9, 8, 7]], # instance 0\n",
    "[[3, 4, 5], [0, 0, 0]], # instance 1 (padded with a zero vector) \n",
    "[[6, 7, 8], [6, 5, 4]], # instance 2\n",
    "[[9, 0, 1], [3, 2, 1]], # instance 3\n",
    "        ])\n",
    "seq_length_batch = np.array([2, 1, 2, 2])"
   ]
  },
  {
   "cell_type": "code",
   "execution_count": 12,
   "metadata": {
    "scrolled": false
   },
   "outputs": [
    {
     "name": "stdout",
     "output_type": "stream",
     "text": [
      "(4, 2, 5)\n",
      "(4, 5)\n",
      "[[[ 0.28963912  0.26025647  0.71481836  0.30354828  0.5901021 ]\n",
      "  [ 2.7596798   3.518446    8.717754    1.1264138   7.2399836 ]]\n",
      "\n",
      " [[ 1.1639063   1.6560404   3.7144766   1.0035446   3.4195035 ]\n",
      "  [ 0.          0.          0.          0.          0.        ]]\n",
      "\n",
      " [[ 2.0381737   3.0518246   6.714135    1.7035408   6.2489047 ]\n",
      "  [ 5.0750346  -0.          8.38022    -0.          0.04260743]]\n",
      "\n",
      " [[-0.          2.066881    5.4720354   0.51141095  4.420758  ]\n",
      "  [ 2.6878343  -0.          3.6318238  -0.         -0.        ]]]\n",
      "[[ 2.7596798   3.518446    8.717754    1.1264138   7.2399836 ]\n",
      " [ 1.1639063   1.6560404   3.7144766   1.0035446   3.4195035 ]\n",
      " [ 5.0750346  -0.          8.38022    -0.          0.04260743]\n",
      " [ 2.6878343  -0.          3.6318238  -0.         -0.        ]]\n"
     ]
    }
   ],
   "source": [
    "with tf.Session() as sess:\n",
    "    sess.run(tf.global_variables_initializer())\n",
    "    output_val,last_state_val = sess.run([output,last_state],feed_dict={x:x_batch,seq_length:seq_length_batch})\n",
    "    print(output_val.shape)\n",
    "    print(last_state_val.shape)\n",
    "    print(output_val)\n",
    "    print(last_state_val)"
   ]
  },
  {
   "cell_type": "code",
   "execution_count": 13,
   "metadata": {},
   "outputs": [],
   "source": [
    "tf.reset_default_graph()"
   ]
  },
  {
   "cell_type": "markdown",
   "metadata": {},
   "source": [
    "# 1 data"
   ]
  },
  {
   "cell_type": "code",
   "execution_count": 14,
   "metadata": {},
   "outputs": [],
   "source": [
    "mnist = tf.keras.datasets.mnist\n",
    "(x_train_src,y_train_src),(x_test_src,y_test_src) = mnist.load_data('./mnist.npz')"
   ]
  },
  {
   "cell_type": "code",
   "execution_count": 15,
   "metadata": {},
   "outputs": [
    {
     "name": "stdout",
     "output_type": "stream",
     "text": [
      "(60000, 28, 28) (60000,)\n",
      "(10000, 28, 28) (10000,)\n"
     ]
    }
   ],
   "source": [
    "print(x_train_src.shape,y_train_src.shape)\n",
    "print(x_test_src.shape,y_test_src.shape)"
   ]
  },
  {
   "cell_type": "code",
   "execution_count": 16,
   "metadata": {},
   "outputs": [],
   "source": [
    "_,m,n = x_train_src.shape"
   ]
  },
  {
   "cell_type": "code",
   "execution_count": 17,
   "metadata": {},
   "outputs": [
    {
     "data": {
      "image/png": "[encoded data removed]",
      "text/plain": [
       "<Figure size 432x288 with 1 Axes>"
      ]
     },
     "metadata": {
      "needs_background": "light"
     },
     "output_type": "display_data"
    }
   ],
   "source": [
    "plt.imshow(x_train_src[1,:,:])\n",
    "plt.show()"
   ]
  },
  {
   "cell_type": "markdown",
   "metadata": {},
   "source": [
    "# 2 feature"
   ]
  },
  {
   "cell_type": "code",
   "execution_count": 18,
   "metadata": {},
   "outputs": [],
   "source": [
    "x_train = x_train_src/255.\n",
    "x_test = x_test_src/255."
   ]
  },
  {
   "cell_type": "code",
   "execution_count": 19,
   "metadata": {},
   "outputs": [],
   "source": [
    "y_train = y_train_src\n",
    "y_test = y_test_src"
   ]
  },
  {
   "cell_type": "markdown",
   "metadata": {},
   "source": [
    "# 3 model"
   ]
  },
  {
   "cell_type": "code",
   "execution_count": 20,
   "metadata": {},
   "outputs": [],
   "source": [
    "x = tf.placeholder(shape=[None,m,n],dtype=tf.float32,name='x')\n",
    "y = tf.placeholder(shape=[None],dtype=tf.int32,name='y')"
   ]
  },
  {
   "cell_type": "code",
   "execution_count": 21,
   "metadata": {},
   "outputs": [],
   "source": [
    "seq_len = tf.placeholder(shape=[None],dtype=tf.int32,name='seq_len')"
   ]
  },
  {
   "cell_type": "code",
   "execution_count": 22,
   "metadata": {},
   "outputs": [],
   "source": [
    "#rnncell = tf.contrib.rnn.BasicLSTMCell?"
   ]
  },
  {
   "cell_type": "code",
   "execution_count": 23,
   "metadata": {},
   "outputs": [],
   "source": [
    "rnncell = tf.contrib.rnn.BasicRNNCell(100,name='rnncell')"
   ]
  },
  {
   "cell_type": "code",
   "execution_count": 24,
   "metadata": {},
   "outputs": [],
   "source": [
    "tf.nn.dynamic_rnn?"
   ]
  },
  {
   "cell_type": "code",
   "execution_count": 25,
   "metadata": {},
   "outputs": [],
   "source": [
    "output,last_state = tf.nn.dynamic_rnn(rnncell,x,seq_len,scope='rnn1',dtype=tf.float32)"
   ]
  },
  {
   "cell_type": "code",
   "execution_count": 26,
   "metadata": {},
   "outputs": [
    {
     "name": "stdout",
     "output_type": "stream",
     "text": [
      "(?, 100)\n"
     ]
    }
   ],
   "source": [
    "print(last_state.shape)"
   ]
  },
  {
   "cell_type": "code",
   "execution_count": 27,
   "metadata": {},
   "outputs": [],
   "source": [
    "w = tf.Variable(tf.truncated_normal(shape=[100,10],mean=0.,stddev=tf.sqrt(2.)*tf.sqrt(2./(10+100))),\\\n",
    "               dtype=tf.float32,name='w')"
   ]
  },
  {
   "cell_type": "code",
   "execution_count": 28,
   "metadata": {},
   "outputs": [],
   "source": [
    "b = tf.Variable(tf.ones(shape=[10]),dtype=tf.float32,name='b')"
   ]
  },
  {
   "cell_type": "code",
   "execution_count": 29,
   "metadata": {},
   "outputs": [],
   "source": [
    "logit = tf.nn.xw_plus_b(last_state,w, b,name='score')"
   ]
  },
  {
   "cell_type": "code",
   "execution_count": 30,
   "metadata": {},
   "outputs": [
    {
     "name": "stdout",
     "output_type": "stream",
     "text": [
      "(?, 10)\n"
     ]
    }
   ],
   "source": [
    "print(logit.shape)"
   ]
  },
  {
   "cell_type": "code",
   "execution_count": 31,
   "metadata": {},
   "outputs": [],
   "source": [
    "#correct = tf.nn.in_top_k?"
   ]
  },
  {
   "cell_type": "code",
   "execution_count": 32,
   "metadata": {},
   "outputs": [],
   "source": [
    "correct = tf.nn.in_top_k(logit,y,1,name ='correst')"
   ]
  },
  {
   "cell_type": "code",
   "execution_count": 33,
   "metadata": {},
   "outputs": [],
   "source": [
    "acc = tf.reduce_mean(tf.cast(correct,tf.float32),name='acc')"
   ]
  },
  {
   "cell_type": "markdown",
   "metadata": {},
   "source": [
    "# 4 loss"
   ]
  },
  {
   "cell_type": "code",
   "execution_count": 34,
   "metadata": {},
   "outputs": [],
   "source": [
    "all_loss = tf.nn.sparse_softmax_cross_entropy_with_logits(logits=logit,labels=y,name='all_loss')"
   ]
  },
  {
   "cell_type": "code",
   "execution_count": 35,
   "metadata": {},
   "outputs": [],
   "source": [
    "loss = tf.reduce_mean(all_loss)"
   ]
  },
  {
   "cell_type": "markdown",
   "metadata": {},
   "source": [
    "# 5 optimize"
   ]
  },
  {
   "cell_type": "code",
   "execution_count": 36,
   "metadata": {},
   "outputs": [],
   "source": [
    "optimize = tf.train.AdamOptimizer(learning_rate=3e-4,name='optimize')"
   ]
  },
  {
   "cell_type": "code",
   "execution_count": 37,
   "metadata": {
    "scrolled": false
   },
   "outputs": [],
   "source": [
    "train_op = optimize.minimize(loss)"
   ]
  },
  {
   "cell_type": "markdown",
   "metadata": {},
   "source": [
    "# 6 init"
   ]
  },
  {
   "cell_type": "code",
   "execution_count": 38,
   "metadata": {},
   "outputs": [],
   "source": [
    "init_op = tf.global_variables_initializer()"
   ]
  },
  {
   "cell_type": "markdown",
   "metadata": {},
   "source": [
    "# 7 train"
   ]
  },
  {
   "cell_type": "code",
   "execution_count": 39,
   "metadata": {},
   "outputs": [],
   "source": [
    "num_epochs = 100\n",
    "batch_size = 128\n",
    "num_batch = int(x_train.shape[0]/128) + 1"
   ]
  },
  {
   "cell_type": "code",
   "execution_count": 40,
   "metadata": {},
   "outputs": [],
   "source": [
    "saver = tf.train.Saver()"
   ]
  },
  {
   "cell_type": "code",
   "execution_count": 41,
   "metadata": {},
   "outputs": [],
   "source": [
    "def feed_batch(n_epochs,batch_index,batch_size,x_train,y_train):\n",
    "    beg = (batch_index -1 )* batch_size\n",
    "    end = batch_index * batch_size;\n",
    "    \n",
    "    return x_train[beg:end],y_train[beg:end],np.array([i.shape[0] for i in x_train[beg:end]])"
   ]
  },
  {
   "cell_type": "code",
   "execution_count": 42,
   "metadata": {
    "scrolled": false
   },
   "outputs": [
    {
     "name": "stdout",
     "output_type": "stream",
     "text": [
      "0\t0.833367\t0.556176\t0.838300\t0.539003\n",
      "1\t0.864283\t0.442943\t0.862700\t0.439320\n",
      "2\t0.905100\t0.320414\t0.903500\t0.322643\n",
      "3\t0.921667\t0.266968\t0.919300\t0.270794\n",
      "4\t0.931683\t0.232012\t0.928900\t0.236350\n",
      "5\t0.940517\t0.202253\t0.938500\t0.209118\n",
      "6\t0.945017\t0.184962\t0.944100\t0.195681\n",
      "7\t0.949967\t0.170219\t0.947300\t0.182730\n",
      "8\t0.953517\t0.157996\t0.948800\t0.171716\n",
      "9\t0.956350\t0.148022\t0.951000\t0.163138\n",
      "10\t0.959350\t0.139002\t0.953200\t0.154628\n",
      "11\t0.961667\t0.130979\t0.956200\t0.146663\n",
      "12\t0.963950\t0.124327\t0.958100\t0.139894\n",
      "13\t0.964933\t0.119481\t0.959800\t0.134988\n",
      "14\t0.965567\t0.116143\t0.960200\t0.131381\n",
      "15\t0.966550\t0.111287\t0.961700\t0.127187\n",
      "16\t0.968067\t0.104948\t0.962800\t0.122188\n",
      "17\t0.969150\t0.101203\t0.964500\t0.118949\n",
      "18\t0.970683\t0.096662\t0.966100\t0.114858\n",
      "19\t0.972217\t0.091994\t0.967400\t0.110528\n",
      "20\t0.973267\t0.088615\t0.968200\t0.107185\n",
      "21\t0.974500\t0.084905\t0.970100\t0.104492\n",
      "22\t0.975250\t0.082275\t0.970300\t0.102605\n",
      "23\t0.976667\t0.077820\t0.970500\t0.100126\n",
      "24\t0.977717\t0.074235\t0.970800\t0.098055\n",
      "25\t0.978450\t0.072932\t0.971200\t0.097877\n",
      "26\t0.979433\t0.069894\t0.971600\t0.095421\n",
      "27\t0.980450\t0.067134\t0.972300\t0.093650\n",
      "28\t0.979950\t0.067178\t0.972600\t0.093398\n",
      "29\t0.981167\t0.063833\t0.973400\t0.090896\n",
      "30\t0.981483\t0.062252\t0.974100\t0.089050\n",
      "31\t0.981867\t0.061109\t0.973600\t0.089111\n",
      "32\t0.982133\t0.059874\t0.973400\t0.088497\n",
      "33\t0.981433\t0.060580\t0.972600\t0.089713\n",
      "34\t0.982050\t0.057937\t0.974000\t0.087502\n",
      "35\t0.982833\t0.055754\t0.974000\t0.086450\n",
      "36\t0.982333\t0.058705\t0.974600\t0.088671\n",
      "37\t0.983550\t0.054573\t0.975100\t0.085589\n",
      "38\t0.983667\t0.053289\t0.974600\t0.086213\n",
      "39\t0.983283\t0.055508\t0.973100\t0.089805\n",
      "40\t0.984033\t0.051748\t0.975100\t0.086070\n",
      "41\t0.982783\t0.056670\t0.974400\t0.090740\n",
      "42\t0.984650\t0.051286\t0.974400\t0.087466\n",
      "43\t0.984233\t0.051253\t0.974800\t0.088489\n",
      "44\t0.986050\t0.046605\t0.975400\t0.084597\n",
      "45\t0.985183\t0.048641\t0.974700\t0.085300\n",
      "46\t0.981117\t0.060750\t0.972200\t0.099604\n",
      "47\t0.985850\t0.045914\t0.973800\t0.089044\n",
      "48\t0.983067\t0.054681\t0.973500\t0.094512\n",
      "49\t0.984200\t0.049927\t0.973700\t0.093051\n",
      "50\t0.982133\t0.056909\t0.972200\t0.099822\n",
      "51\t0.985250\t0.048401\t0.973700\t0.092730\n",
      "52\t0.985767\t0.045970\t0.976300\t0.091177\n",
      "53\t0.985617\t0.046341\t0.973900\t0.094101\n",
      "54\t0.987600\t0.040889\t0.974900\t0.090711\n",
      "55\t0.984933\t0.048128\t0.973200\t0.098624\n",
      "56\t0.987467\t0.042019\t0.974100\t0.096267\n",
      "57\t0.983083\t0.053905\t0.971500\t0.102937\n",
      "58\t0.986817\t0.041276\t0.974800\t0.093939\n",
      "59\t0.985933\t0.043844\t0.973600\t0.099201\n",
      "60\t0.983933\t0.050654\t0.972700\t0.100845\n",
      "61\t0.980933\t0.057890\t0.968800\t0.111185\n",
      "62\t0.986033\t0.043730\t0.973100\t0.098422\n",
      "63\t0.986733\t0.042470\t0.973500\t0.096292\n",
      "64\t0.982517\t0.054999\t0.970900\t0.107414\n",
      "65\t0.986933\t0.041036\t0.973400\t0.099507\n",
      "66\t0.988167\t0.037422\t0.974800\t0.095344\n",
      "67\t0.982850\t0.056471\t0.970300\t0.113932\n",
      "68\t0.987933\t0.038037\t0.973400\t0.097731\n",
      "69\t0.988333\t0.037003\t0.975600\t0.096184\n",
      "70\t0.986833\t0.041103\t0.974000\t0.102390\n",
      "71\t0.986917\t0.043210\t0.975400\t0.099867\n",
      "72\t0.988417\t0.036367\t0.975800\t0.097919\n",
      "73\t0.987067\t0.040431\t0.973900\t0.102900\n",
      "74\t0.988350\t0.036360\t0.974900\t0.103297\n",
      "75\t0.985283\t0.045934\t0.971800\t0.107961\n",
      "76\t0.987650\t0.039642\t0.976000\t0.106053\n",
      "77\t0.989733\t0.033219\t0.975100\t0.102034\n",
      "78\t0.984000\t0.051270\t0.971400\t0.113613\n",
      "79\t0.984217\t0.053028\t0.971300\t0.116801\n",
      "80\t0.986550\t0.041376\t0.973100\t0.108240\n",
      "81\t0.985117\t0.047660\t0.970300\t0.116774\n",
      "82\t0.986983\t0.041722\t0.972000\t0.109594\n",
      "83\t0.986200\t0.043890\t0.972300\t0.115436\n",
      "84\t0.987833\t0.039785\t0.974100\t0.105320\n",
      "85\t0.989550\t0.033917\t0.974900\t0.107014\n",
      "86\t0.990017\t0.031437\t0.975200\t0.105656\n",
      "87\t0.986150\t0.045712\t0.972000\t0.115998\n",
      "88\t0.985817\t0.046854\t0.971700\t0.119365\n",
      "89\t0.990950\t0.030357\t0.974500\t0.103121\n",
      "90\t0.990233\t0.030689\t0.975100\t0.106399\n",
      "91\t0.989417\t0.033437\t0.972900\t0.110073\n",
      "92\t0.988567\t0.036865\t0.973200\t0.112938\n",
      "93\t0.991217\t0.027822\t0.974500\t0.108100\n",
      "94\t0.991117\t0.028399\t0.974800\t0.106159\n",
      "95\t0.988667\t0.034675\t0.972500\t0.115094\n",
      "96\t0.990567\t0.030934\t0.973700\t0.115027\n",
      "97\t0.990433\t0.031243\t0.974800\t0.112771\n",
      "98\t0.990867\t0.028960\t0.974400\t0.112587\n",
      "99\t0.991700\t0.025971\t0.974400\t0.111058\n",
      "0.991700\t0.025971\t0.974400\t0.111058\n"
     ]
    }
   ],
   "source": [
    "with tf.Session() as sess:\n",
    "    sess.run(init_op)\n",
    "    for i in range(num_epochs):\n",
    "        for j in range(1,num_batch):\n",
    "            sample_x,sample_y,sample_len = feed_batch(i,j,batch_size,x_train,y_train)\n",
    "            #print(sample_x.shape,sample_y.shape,sample_len.shape)\n",
    "            if j%100 == 0:\n",
    "                acc_train,loss_train,_ = sess.run([acc,loss,train_op],\\\n",
    "                                                  feed_dict={x:sample_x,y:sample_y,seq_len:sample_len})\n",
    "                acc_test = sess.run(acc,feed_dict={x:x_test,y:y_test,\\\n",
    "                                                   seq_len:np.array([i.shape[0] for i in x_test])})\n",
    "                #print('%d\\t%d\\t%f\\t%f\\t%f'%(i,j,loss_train,acc_train,acc_test))\n",
    "            else:\n",
    "                _ = sess.run([train_op],feed_dict={x:sample_x,y:sample_y,seq_len:sample_len})\n",
    "        acc_test,loss_test = sess.run([acc,loss],feed_dict={x:x_test,y:y_test,\\\n",
    "                                                        seq_len:np.array([i.shape[0] for i in x_test])})\n",
    "        acc_train,loss_train = sess.run([acc,loss],feed_dict={x:x_train,y:y_train,\\\n",
    "                                                          seq_len:np.array([i.shape[0] for i in x_train])})\n",
    "        print('%d\\t%f\\t%f\\t%f\\t%f'%(i,acc_train,loss_train,acc_test,loss_test))\n",
    "        \n",
    "    acc_test,loss_test = sess.run([acc,loss],feed_dict={x:x_test,y:y_test,\\\n",
    "                                                        seq_len:np.array([i.shape[0] for i in x_test])})\n",
    "    acc_train,loss_train = sess.run([acc,loss],feed_dict={x:x_train,y:y_train,\\\n",
    "                                                          seq_len:np.array([i.shape[0] for i in x_train])})\n",
    "    print('%f\\t%f\\t%f\\t%f'%(acc_train,loss_train,acc_test,loss_test))\n",
    "    saver.save(sess,'./model/rnn')"
   ]
  },
  {
   "cell_type": "code",
   "execution_count": 42,
   "metadata": {},
   "outputs": [
    {
     "name": "stdout",
     "output_type": "stream",
     "text": [
      "INFO:tensorflow:Restoring parameters from ./model/rnn\n",
      "0.857333\t0.495046\t0.861800\t0.491709\n"
     ]
    }
   ],
   "source": [
    "with tf.Session() as sess:\n",
    "    saver.restore(sess,'./model/rnn')\n",
    "    acc_test,loss_test = sess.run([acc,loss],feed_dict={x:x_test,y:y_test,\\\n",
    "                                                        seq_len:np.array([i.shape[0] for i in x_test])})\n",
    "    acc_train,loss_train = sess.run([acc,loss],feed_dict={x:x_train,y:y_train,\\\n",
    "                                                          seq_len:np.array([i.shape[0] for i in x_train])})\n",
    "    print('%f\\t%f\\t%f\\t%f'%(acc_train,loss_train,acc_test,loss_test))"
   ]
  },
  {
   "cell_type": "markdown",
   "metadata": {},
   "source": [
    "# 8 ckpt to pb for tf serving"
   ]
  },
  {
   "cell_type": "code",
   "execution_count": 47,
   "metadata": {},
   "outputs": [],
   "source": [
    "tf.reset_default_graph()"
   ]
  },
  {
   "cell_type": "code",
   "execution_count": 43,
   "metadata": {},
   "outputs": [],
   "source": [
    "tf.graph_util.convert_variables_to_constants?"
   ]
  },
  {
   "cell_type": "code",
   "execution_count": 52,
   "metadata": {
    "scrolled": false
   },
   "outputs": [
    {
     "name": "stdout",
     "output_type": "stream",
     "text": [
      "INFO:tensorflow:Restoring parameters from ./model/rnn\n",
      "INFO:tensorflow:Froze 4 variables.\n",
      "INFO:tensorflow:Converted 4 variables to const ops.\n"
     ]
    }
   ],
   "source": [
    "with tf.Session() as sess:\n",
    "    new_saver = tf.train.import_meta_graph('./model/rnn.meta')\n",
    "    new_saver.restore(sess,'./model/rnn')\n",
    "    \n",
    "    ## conver variable to constant\n",
    "    forzen_graph_def = tf.graph_util.\\\n",
    "    convert_variables_to_constants(\\\n",
    "                                   sess,sess.graph_def,output_node_names = ['score'])\n",
    "    with open('rnn_graph.pb','wb') as f:\n",
    "        f.write(forzen_graph_def.SerializePartialToString())\n",
    "        pass"
   ]
  },
  {
   "cell_type": "code",
   "execution_count": null,
   "metadata": {},
   "outputs": [],
   "source": []
  }
 ],
 "metadata": {
  "kernelspec": {
   "display_name": "Python 3",
   "language": "python",
   "name": "python3"
  },
  "language_info": {
   "codemirror_mode": {
    "name": "ipython",
    "version": 3
   },
   "file_extension": ".py",
   "mimetype": "text/x-python",
   "name": "python",
   "nbconvert_exporter": "python",
   "pygments_lexer": "ipython3",
   "version": "3.7.6"
  }
 },
 "nbformat": 4,
 "nbformat_minor": 2
}
