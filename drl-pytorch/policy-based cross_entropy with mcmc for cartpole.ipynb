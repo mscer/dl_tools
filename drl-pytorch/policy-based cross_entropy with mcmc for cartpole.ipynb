{
 "cells": [
  {
   "cell_type": "code",
   "execution_count": 1,
   "metadata": {},
   "outputs": [],
   "source": [
    "import torch\n",
    "import gym\n",
    "import numpy as np"
   ]
  },
  {
   "cell_type": "code",
   "execution_count": 3,
   "metadata": {},
   "outputs": [],
   "source": [
    "from tensorboardX import SummaryWriter"
   ]
  },
  {
   "cell_type": "code",
   "execution_count": 4,
   "metadata": {},
   "outputs": [],
   "source": [
    "##采样episodes,采取高收益episode, 训练q函数"
   ]
  },
  {
   "cell_type": "markdown",
   "metadata": {},
   "source": [
    "# 1 nn  构造"
   ]
  },
  {
   "cell_type": "code",
   "execution_count": 5,
   "metadata": {},
   "outputs": [],
   "source": [
    "##nn structure\n",
    "HIDDEN = 128\n",
    "## train parameter\n",
    "BATCH_SIZE = 16\n",
    "PERCENTILE = 70"
   ]
  },
  {
   "cell_type": "code",
   "execution_count": 6,
   "metadata": {},
   "outputs": [],
   "source": [
    "class Net(torch.nn.Module):\n",
    "    '''\n",
    "    nn class for fitting policy(map state to action) functin\n",
    "    '''\n",
    "    def __init__(self,obs_size,hidden_size,n_actions):\n",
    "        ##调用父类构造函数\n",
    "        super(Net,self).__init__()\n",
    "        self.net = torch.nn.Sequential(\n",
    "            torch.nn.Linear(obs_size,hidden_size),\n",
    "            torch.nn.ReLU(),\n",
    "            torch.nn.Linear(hidden_size,n_actions)\n",
    "        )\n",
    "    def forward(self,x):\n",
    "        return self.net(x)"
   ]
  },
  {
   "cell_type": "code",
   "execution_count": 7,
   "metadata": {},
   "outputs": [],
   "source": [
    "from collections import namedtuple"
   ]
  },
  {
   "cell_type": "code",
   "execution_count": 10,
   "metadata": {},
   "outputs": [],
   "source": [
    "## 创建结构体\n",
    "namedtuple?"
   ]
  },
  {
   "cell_type": "code",
   "execution_count": 11,
   "metadata": {},
   "outputs": [],
   "source": [
    "Episode = namedtuple('Episode',field_names=['reward','steps'])"
   ]
  },
  {
   "cell_type": "code",
   "execution_count": 12,
   "metadata": {},
   "outputs": [],
   "source": [
    "EpisodeStep = namedtuple('EpisodeStep',field_names=['observation','action'])"
   ]
  },
  {
   "cell_type": "markdown",
   "metadata": {},
   "source": [
    "# 2 交互过程"
   ]
  },
  {
   "cell_type": "code",
   "execution_count": 89,
   "metadata": {},
   "outputs": [],
   "source": [
    "def iterate_batch(env,net,batch_size):\n",
    "    ##根据策略 net，采取行动  on-policy\n",
    "    batch = []\n",
    "    episode_reward = 0.0\n",
    "    episode_steps = []\n",
    "    obs = env.reset()\n",
    "    op_sm = torch.nn.Softmax(dim=1)\n",
    "    while True:\n",
    "        ##get action\n",
    "        #print(obs),print(obs.shape)\n",
    "        obs_value = torch.FloatTensor([obs])\n",
    "        action_prob = op_sm(net(obs_value)).data.numpy()[0]\n",
    "        ##sample to get action\n",
    "        action = np.random.choice(len(action_prob),p = action_prob)\n",
    "        ## get reward and obs\n",
    "        next_obs,reward,is_done,_ = env.step(action)\n",
    "        episode_reward += reward\n",
    "        episode_steps.append(EpisodeStep(obs,action))\n",
    "        if is_done:\n",
    "            batch.append(Episode(reward = episode_reward,steps = episode_steps))\n",
    "            episode_reward = 0.0\n",
    "            episode_steps = []\n",
    "            next_obs = env.reset()\n",
    "            if len(batch) == batch_size:\n",
    "                yield batch\n",
    "                batch = []\n",
    "        obs = next_obs"
   ]
  },
  {
   "cell_type": "markdown",
   "metadata": {},
   "source": [
    "# 3 学习过程"
   ]
  },
  {
   "cell_type": "code",
   "execution_count": 90,
   "metadata": {},
   "outputs": [],
   "source": [
    "def filter_batch(batch,percentile):\n",
    "    rewards = list(map(lambda x:x.reward,batch))\n",
    "    reward_bound = np.percentile(rewards,percentile)\n",
    "    reward_mean = np.mean(rewards)\n",
    "    \n",
    "    train_obs = []\n",
    "    train_act = []\n",
    "    for example in batch:\n",
    "        if example.reward < reward_bound:\n",
    "            continue\n",
    "        train_obs.extend(map(lambda x:x.observation,example.steps))\n",
    "        train_act.extend(map(lambda x:x.action,example.steps))\n",
    "        \n",
    "    train_obs_value = torch.FloatTensor(train_obs)\n",
    "    train_act_value = torch.LongTensor(train_act)\n",
    "    return train_obs_value,train_act_value,reward_bound,reward_mean"
   ]
  },
  {
   "cell_type": "code",
   "execution_count": 76,
   "metadata": {},
   "outputs": [],
   "source": [
    "env = gym.make('CartPole-v0')"
   ]
  },
  {
   "cell_type": "code",
   "execution_count": 77,
   "metadata": {},
   "outputs": [],
   "source": [
    "obs_size = env.observation_space.shape[0]"
   ]
  },
  {
   "cell_type": "code",
   "execution_count": 78,
   "metadata": {},
   "outputs": [],
   "source": [
    "action_size = env.action_space.n"
   ]
  },
  {
   "cell_type": "markdown",
   "metadata": {},
   "source": [
    "# 3.1 tensorboard for visual"
   ]
  },
  {
   "cell_type": "code",
   "execution_count": 107,
   "metadata": {},
   "outputs": [],
   "source": [
    "num_exp = 4\n",
    "writer = SummaryWriter('./runs/cross_entroy_rl/exp%s'%(num_exp))"
   ]
  },
  {
   "cell_type": "code",
   "execution_count": 108,
   "metadata": {
    "scrolled": false
   },
   "outputs": [
    {
     "name": "stdout",
     "output_type": "stream",
     "text": [
      "0: loss=0.679, reward_mean = 25.1 reward_bound = 28.5\n",
      "1: loss=0.673, reward_mean = 22.2 reward_bound = 24.5\n",
      "2: loss=0.667, reward_mean = 31.0 reward_bound = 37.0\n",
      "3: loss=0.651, reward_mean = 50.6 reward_bound = 64.5\n",
      "4: loss=0.620, reward_mean = 47.3 reward_bound = 61.0\n",
      "5: loss=0.639, reward_mean = 36.7 reward_bound = 40.5\n",
      "6: loss=0.614, reward_mean = 54.9 reward_bound = 56.5\n",
      "7: loss=0.629, reward_mean = 55.6 reward_bound = 69.5\n",
      "8: loss=0.598, reward_mean = 52.4 reward_bound = 56.5\n",
      "9: loss=0.599, reward_mean = 52.7 reward_bound = 59.0\n",
      "10: loss=0.598, reward_mean = 61.2 reward_bound = 76.5\n",
      "11: loss=0.583, reward_mean = 62.2 reward_bound = 68.5\n",
      "12: loss=0.581, reward_mean = 66.6 reward_bound = 69.0\n",
      "13: loss=0.559, reward_mean = 45.9 reward_bound = 47.5\n",
      "14: loss=0.553, reward_mean = 62.6 reward_bound = 72.0\n",
      "15: loss=0.559, reward_mean = 86.5 reward_bound = 100.5\n",
      "16: loss=0.585, reward_mean = 61.2 reward_bound = 73.5\n",
      "17: loss=0.554, reward_mean = 68.0 reward_bound = 81.5\n",
      "18: loss=0.559, reward_mean = 66.7 reward_bound = 79.5\n",
      "19: loss=0.563, reward_mean = 80.1 reward_bound = 76.5\n",
      "20: loss=0.539, reward_mean = 114.9 reward_bound = 120.5\n",
      "21: loss=0.558, reward_mean = 102.2 reward_bound = 113.5\n",
      "22: loss=0.556, reward_mean = 107.1 reward_bound = 128.5\n",
      "23: loss=0.546, reward_mean = 134.6 reward_bound = 161.0\n",
      "24: loss=0.526, reward_mean = 157.7 reward_bound = 200.0\n",
      "25: loss=0.557, reward_mean = 149.0 reward_bound = 167.0\n",
      "26: loss=0.541, reward_mean = 179.7 reward_bound = 200.0\n",
      "27: loss=0.531, reward_mean = 154.9 reward_bound = 197.0\n",
      "28: loss=0.538, reward_mean = 166.8 reward_bound = 200.0\n",
      "29: loss=0.551, reward_mean = 169.9 reward_bound = 200.0\n",
      "30: loss=0.537, reward_mean = 172.1 reward_bound = 200.0\n",
      "31: loss=0.542, reward_mean = 175.0 reward_bound = 200.0\n",
      "32: loss=0.536, reward_mean = 155.8 reward_bound = 200.0\n",
      "33: loss=0.538, reward_mean = 184.8 reward_bound = 200.0\n",
      "34: loss=0.539, reward_mean = 191.2 reward_bound = 200.0\n",
      "35: loss=0.536, reward_mean = 192.8 reward_bound = 200.0\n",
      "36: loss=0.544, reward_mean = 192.5 reward_bound = 200.0\n",
      "37: loss=0.540, reward_mean = 198.3 reward_bound = 200.0\n",
      "38: loss=0.532, reward_mean = 193.6 reward_bound = 200.0\n",
      "39: loss=0.535, reward_mean = 195.2 reward_bound = 200.0\n",
      "40: loss=0.525, reward_mean = 195.5 reward_bound = 200.0\n",
      "41: loss=0.538, reward_mean = 200.0 reward_bound = 200.0\n",
      "42: loss=0.529, reward_mean = 199.9 reward_bound = 200.0\n",
      "43: loss=0.541, reward_mean = 200.0 reward_bound = 200.0\n",
      "44: loss=0.522, reward_mean = 200.0 reward_bound = 200.0\n",
      "45: loss=0.532, reward_mean = 200.0 reward_bound = 200.0\n",
      "46: loss=0.528, reward_mean = 200.0 reward_bound = 200.0\n",
      "47: loss=0.531, reward_mean = 200.0 reward_bound = 200.0\n",
      "48: loss=0.525, reward_mean = 200.0 reward_bound = 200.0\n",
      "49: loss=0.527, reward_mean = 200.0 reward_bound = 200.0\n",
      "50: loss=0.525, reward_mean = 200.0 reward_bound = 200.0\n"
     ]
    }
   ],
   "source": [
    "net = Net(obs_size=obs_size,hidden_size=HIDDEN,n_actions=action_size)\n",
    "loss = torch.nn.CrossEntropyLoss()\n",
    "optimizer = torch.optim.Adam(params=net.parameters(),lr=1e-2)\n",
    "\n",
    "for iter_no,batch in enumerate(iterate_batch(env,net,BATCH_SIZE)):\n",
    "    obs_v,act_v,reward_b,reward_m = filter_batch(batch,PERCENTILE)\n",
    "    optimizer.zero_grad()\n",
    "    action_score_v = net(obs_v)\n",
    "    loss_v = loss(action_score_v,act_v)\n",
    "    loss_v.backward()\n",
    "    optimizer.step()\n",
    "    print(\"%d: loss=%.3f, reward_mean = %.1f reward_bound = %.1f\"%(iter_no,loss_v.item(),reward_m,reward_b))\n",
    "    writer.add_scalar(\"loss\",loss_v.item(),global_step=iter_no)\n",
    "    writer.add_scalar('reward_bound',reward_b,global_step=iter_no)\n",
    "    writer.add_scalar('reward_mean',reward_m,global_step=iter_no)\n",
    "    if (50 == iter_no ):\n",
    "        writer.close()\n",
    "        break\n",
    "        "
   ]
  },
  {
   "cell_type": "code",
   "execution_count": null,
   "metadata": {},
   "outputs": [],
   "source": []
  }
 ],
 "metadata": {
  "kernelspec": {
   "display_name": "Python 3",
   "language": "python",
   "name": "python3"
  },
  "language_info": {
   "codemirror_mode": {
    "name": "ipython",
    "version": 3
   },
   "file_extension": ".py",
   "mimetype": "text/x-python",
   "name": "python",
   "nbconvert_exporter": "python",
   "pygments_lexer": "ipython3",
   "version": "3.7.6"
  }
 },
 "nbformat": 4,
 "nbformat_minor": 2
}
