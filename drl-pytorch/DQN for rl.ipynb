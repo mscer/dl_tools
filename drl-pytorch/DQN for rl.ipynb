{
 "cells": [
  {
   "cell_type": "code",
   "execution_count": 1,
   "metadata": {},
   "outputs": [],
   "source": [
    "import torch\n",
    "import numpy as np\n",
    "import gym"
   ]
  },
  {
   "cell_type": "code",
   "execution_count": 2,
   "metadata": {},
   "outputs": [],
   "source": [
    "from tensorboardX import SummaryWriter"
   ]
  },
  {
   "cell_type": "code",
   "execution_count": 8,
   "metadata": {},
   "outputs": [],
   "source": [
    "## dqn is q-leanring by nn\n",
    "##which is model-free off-policy td method value-based: Qfunction of state and action\n",
    "## two nn; one for behave network, one for target network\n",
    "## memory replay: to get iid data\n",
    "## Q(s,a) = Q(s,a) + a*(r+ discount* maxQ(s',a')- Q(s,a))\n",
    "## target network to get Q(s',a'); otherwisw, if Q(s',a') from behave policy, the updated of   behave policy  may hurt Q(s',a') "
   ]
  },
  {
   "cell_type": "markdown",
   "metadata": {},
   "source": [
    "# 1 nn  model"
   ]
  },
  {
   "cell_type": "code",
   "execution_count": 10,
   "metadata": {},
   "outputs": [],
   "source": [
    "class DQN(torch.nn.Module):\n",
    "    '''\n",
    "    dqn model for q function network and target network\n",
    "    '''\n",
    "    def __init__(self,input_shape,n_actions):\n",
    "        super(DQN,self).__init__()\n",
    "        self.conv = torch.nn.Sequential(\n",
    "            torch.nn.Conv2d(in_channels=input_shape[0],out_channels=32,kernel_size=8,stride=4),\n",
    "            torch.nn.ReLU(),\n",
    "            torch.nn.Conv2d(in_channels=32,out_channels=64,kernel_size=4,stride=2),\n",
    "            torch.nn.ReLU(),\n",
    "            torch.nn.Conv2d(in_channels=64,out_channels=64,kernel_size=3,stride=1),\n",
    "            torch.nn.ReLU()\n",
    "        )\n",
    "        conv_out_size = self.__get_conv_out(input_shape) ##计算输出size\n",
    "        self.fc = torch.nn.Sequential(\n",
    "            torch.nn.Linear(in_features=conv_out_size,out_features=512),\n",
    "            torch.nn.ReLU(),\n",
    "            torch.nn.Linear(in_features=512,out_features=n_action)\n",
    "        )\n",
    "    \n",
    "    def __get_conv_out(self,input_shape):\n",
    "        ##使用假数据，得到conv的输出size\n",
    "        o = self.conv(torch.zeros(1,*shape))\n",
    "        return int(np.prod(o.size()))\n",
    "        \n",
    "    def forward(self,x):\n",
    "        conv_out = self.conv(x).view(x.size()[0],-1)\n",
    "        return self.fc(conv_out)"
   ]
  },
  {
   "cell_type": "code",
   "execution_count": 9,
   "metadata": {},
   "outputs": [
    {
     "data": {
      "text/plain": [
       "19.25"
      ]
     },
     "execution_count": 9,
     "metadata": {},
     "output_type": "execute_result"
    }
   ],
   "source": [
    "(84-8+1)/4"
   ]
  },
  {
   "cell_type": "code",
   "execution_count": 12,
   "metadata": {},
   "outputs": [],
   "source": [
    "## step\n",
    "## step1: get action by epsilon-greddy ,get state,action,reward,next_state\n",
    "## step2: stored state,action,reward,next_sate to memory\n",
    "## step3: sample state,action,reward,next_state from memory\n",
    "## step4: calc Q(s,a) from Q_net and calc maxQ'(s',a') from target_net\n",
    "## step5 :calc loss by r + discount*maxQ(s',a') with Q(s,a) to update Q_net\n",
    "## repeat"
   ]
  },
  {
   "cell_type": "code",
   "execution_count": null,
   "metadata": {},
   "outputs": [],
   "source": []
  }
 ],
 "metadata": {
  "kernelspec": {
   "display_name": "Python 3",
   "language": "python",
   "name": "python3"
  },
  "language_info": {
   "codemirror_mode": {
    "name": "ipython",
    "version": 3
   },
   "file_extension": ".py",
   "mimetype": "text/x-python",
   "name": "python",
   "nbconvert_exporter": "python",
   "pygments_lexer": "ipython3",
   "version": "3.7.6"
  }
 },
 "nbformat": 4,
 "nbformat_minor": 2
}
