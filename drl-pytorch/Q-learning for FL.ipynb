{
 "cells": [
  {
   "cell_type": "code",
   "execution_count": 1,
   "metadata": {},
   "outputs": [],
   "source": [
    "import torch\n",
    "import gym\n",
    "import numpy as np"
   ]
  },
  {
   "cell_type": "code",
   "execution_count": 2,
   "metadata": {},
   "outputs": [],
   "source": [
    "from tensorboardX import SummaryWriter"
   ]
  },
  {
   "cell_type": "code",
   "execution_count": 3,
   "metadata": {},
   "outputs": [],
   "source": [
    "import random"
   ]
  },
  {
   "cell_type": "code",
   "execution_count": 4,
   "metadata": {},
   "outputs": [],
   "source": [
    "## 区分 q-value iterator 和 Q-learning\n",
    "## q-value iterator: dp ，model-based, \n",
    "## q-learning: td, model-free"
   ]
  },
  {
   "cell_type": "code",
   "execution_count": 5,
   "metadata": {},
   "outputs": [],
   "source": [
    "ENV_NAME = \"FrozenLake-v0\"\n",
    "import collections\n",
    "GAMMA = 0.9\n",
    "ALPHA = 0.2\n",
    "TEST_EPISODES = 20"
   ]
  },
  {
   "cell_type": "code",
   "execution_count": 6,
   "metadata": {},
   "outputs": [],
   "source": [
    "class Agent:\n",
    "    def __init__(self):\n",
    "        self.env = gym.make(ENV_NAME)\n",
    "        self.state = self.env.reset()\n",
    "        self.values = collections.defaultdict(float)\n",
    "\n",
    "    def sample_env(self):\n",
    "        action = self.env.action_space.sample()\n",
    "        old_state = self.state\n",
    "        new_state, reward, is_done, _ = self.env.step(action)\n",
    "        self.state = self.env.reset() if is_done else new_state\n",
    "        return (old_state, action, reward, new_state)\n",
    "\n",
    "    def best_value_and_action(self, state):\n",
    "        best_value, best_action = None, None\n",
    "        for action in range(self.env.action_space.n):\n",
    "            action_value = self.values[(state, action)]\n",
    "            if best_value is None or best_value < action_value:\n",
    "                best_value = action_value\n",
    "                best_action = action\n",
    "        return best_value, best_action\n",
    "\n",
    "    def value_update(self, s, a, r, next_s):\n",
    "        best_v, _ = self.best_value_and_action(next_s)\n",
    "        new_val = r + GAMMA * best_v\n",
    "        old_val = self.values[(s, a)]\n",
    "        self.values[(s, a)] = old_val * (1-ALPHA) + new_val * ALPHA\n",
    "\n",
    "    def play_episode(self, env):\n",
    "        total_reward = 0.0\n",
    "        state = env.reset()\n",
    "        while True:\n",
    "            _, action = self.best_value_and_action(state)\n",
    "            new_state, reward, is_done, _ = env.step(action)\n",
    "            total_reward += reward\n",
    "            if is_done:\n",
    "                break\n",
    "            state = new_state\n",
    "        return total_reward\n"
   ]
  },
  {
   "cell_type": "code",
   "execution_count": 11,
   "metadata": {},
   "outputs": [],
   "source": [
    "num_exp = 1\n",
    "writer = SummaryWriter('./runs/q_learning/exp%d'%(num_exp))"
   ]
  },
  {
   "cell_type": "code",
   "execution_count": 12,
   "metadata": {
    "scrolled": false
   },
   "outputs": [
    {
     "name": "stdout",
     "output_type": "stream",
     "text": [
      "99, gain:0.000000\n",
      "199, gain:0.000000\n",
      "299, gain:0.000000\n",
      "399, gain:0.000000\n",
      "499, gain:0.000000\n",
      "599, gain:0.000000\n",
      "iter:625 Best reward updated 0.000 -> 0.050\n",
      "iter:633 Best reward updated 0.050 -> 0.100\n",
      "699, gain:0.000000\n",
      "iter:743 Best reward updated 0.100 -> 0.150\n",
      "iter:771 Best reward updated 0.150 -> 0.250\n",
      "799, gain:0.150000\n",
      "iter:827 Best reward updated 0.250 -> 0.300\n",
      "899, gain:0.000000\n",
      "999, gain:0.000000\n",
      "1099, gain:0.050000\n",
      "1199, gain:0.000000\n",
      "1299, gain:0.050000\n",
      "1399, gain:0.050000\n",
      "1499, gain:0.150000\n",
      "1599, gain:0.050000\n",
      "1699, gain:0.150000\n",
      "iter:1713 Best reward updated 0.300 -> 0.350\n",
      "iter:1730 Best reward updated 0.350 -> 0.400\n",
      "1799, gain:0.050000\n",
      "1899, gain:0.250000\n",
      "iter:1938 Best reward updated 0.400 -> 0.500\n",
      "1999, gain:0.300000\n",
      "2099, gain:0.250000\n",
      "2199, gain:0.150000\n",
      "2299, gain:0.050000\n",
      "2399, gain:0.100000\n",
      "2499, gain:0.150000\n",
      "2599, gain:0.100000\n",
      "2699, gain:0.300000\n",
      "iter:2777 Best reward updated 0.500 -> 0.550\n",
      "iter:2778 Best reward updated 0.550 -> 0.650\n",
      "2799, gain:0.350000\n",
      "2899, gain:0.350000\n",
      "iter:2921 Best reward updated 0.650 -> 0.900\n",
      "2999, gain:0.700000\n",
      "3099, gain:0.250000\n",
      "3199, gain:0.100000\n",
      "3299, gain:0.050000\n",
      "3399, gain:0.550000\n",
      "3499, gain:0.100000\n",
      "3599, gain:0.200000\n",
      "3699, gain:0.150000\n",
      "3799, gain:0.150000\n",
      "3899, gain:0.350000\n",
      "3999, gain:0.500000\n",
      "4099, gain:0.350000\n",
      "4199, gain:0.100000\n",
      "4299, gain:0.200000\n",
      "4399, gain:0.000000\n",
      "4499, gain:0.200000\n",
      "4599, gain:0.550000\n",
      "4699, gain:0.050000\n",
      "4799, gain:0.050000\n",
      "4899, gain:0.300000\n",
      "4999, gain:0.200000\n",
      "5099, gain:0.050000\n",
      "5199, gain:0.100000\n",
      "5299, gain:0.100000\n",
      "5399, gain:0.200000\n",
      "5499, gain:0.200000\n",
      "5599, gain:0.250000\n",
      "5699, gain:0.350000\n",
      "5799, gain:0.050000\n",
      "5899, gain:0.050000\n",
      "5999, gain:0.000000\n"
     ]
    }
   ],
   "source": [
    "test_env = gym.make('FrozenLake-v0')\n",
    "agent = Agent()\n",
    "random.seed(12345)\n",
    "\n",
    "num_iteraton = 6000\n",
    "test_eposides = 20\n",
    "best_reward = 0.0\n",
    "for iter_no in range(num_iteraton): \n",
    "    \n",
    "    ##更新策略\n",
    "    s,a,r,ns = agent.sample_env()\n",
    "    #print('reward',r)\n",
    "    agent.value_update(s,a,r,ns)\n",
    "    ##查看策略效果\n",
    "    total_reward = 0.0\n",
    "    for i in range(test_eposides):\n",
    "        gain = agent.play_episode(test_env)\n",
    "        total_reward += gain\n",
    "    expect_gain = total_reward/float(test_eposides)\n",
    "    writer.add_scalar('reward',expect_gain,global_step=iter_no)\n",
    "    if (1+iter_no) % 100 == 0:\n",
    "        print('%d, gain:%f'%(iter_no,expect_gain))\n",
    "    \n",
    "    if expect_gain > best_reward:\n",
    "        print(\"iter:%d Best reward updated %.3f -> %.3f\" % (iter_no,best_reward, expect_gain,))\n",
    "        best_reward = expect_gain\n",
    "    if(1+iter_no)% 500==0:\n",
    "        #print(agent.q_value)\n",
    "        pass\n",
    "   \n",
    "    \n",
    "writer.close()          "
   ]
  },
  {
   "cell_type": "code",
   "execution_count": null,
   "metadata": {},
   "outputs": [],
   "source": []
  }
 ],
 "metadata": {
  "kernelspec": {
   "display_name": "Python 3",
   "language": "python",
   "name": "python3"
  },
  "language_info": {
   "codemirror_mode": {
    "name": "ipython",
    "version": 3
   },
   "file_extension": ".py",
   "mimetype": "text/x-python",
   "name": "python",
   "nbconvert_exporter": "python",
   "pygments_lexer": "ipython3",
   "version": "3.7.6"
  }
 },
 "nbformat": 4,
 "nbformat_minor": 2
}
