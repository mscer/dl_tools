{
 "cells": [
  {
   "cell_type": "code",
   "execution_count": 1,
   "metadata": {},
   "outputs": [],
   "source": [
    "import tensorflow as tf\n",
    "import numpy as np\n",
    "from matplotlib import pyplot as plt"
   ]
  },
  {
   "cell_type": "markdown",
   "metadata": {},
   "source": [
    "# 1 data"
   ]
  },
  {
   "cell_type": "code",
   "execution_count": 2,
   "metadata": {},
   "outputs": [],
   "source": [
    "mnist = tf.keras.datasets.mnist\n",
    "(x_train_src,y_train_src),(x_test_src,y_test_src) = mnist.load_data('./mnist.npz')"
   ]
  },
  {
   "cell_type": "code",
   "execution_count": 3,
   "metadata": {},
   "outputs": [
    {
     "name": "stdout",
     "output_type": "stream",
     "text": [
      "(60000, 28, 28) (60000,)\n",
      "(10000, 28, 28) (10000,)\n"
     ]
    }
   ],
   "source": [
    "print(x_train_src.shape,y_train_src.shape)\n",
    "print(x_test_src.shape,y_test_src.shape)"
   ]
  },
  {
   "cell_type": "code",
   "execution_count": 4,
   "metadata": {},
   "outputs": [],
   "source": [
    "_,m,n = x_train_src.shape"
   ]
  },
  {
   "cell_type": "code",
   "execution_count": 5,
   "metadata": {},
   "outputs": [
    {
     "data": {
      "image/png": "[encoded data removed]",
      "text/plain": [
       "<Figure size 432x288 with 1 Axes>"
      ]
     },
     "metadata": {
      "needs_background": "light"
     },
     "output_type": "display_data"
    }
   ],
   "source": [
    "plt.imshow(x_train_src[1,:,:])\n",
    "plt.show()"
   ]
  },
  {
   "cell_type": "markdown",
   "metadata": {},
   "source": [
    "# 2 feature"
   ]
  },
  {
   "cell_type": "code",
   "execution_count": 6,
   "metadata": {},
   "outputs": [],
   "source": [
    "x_train = x_train_src/255.\n",
    "x_test = x_test_src/255."
   ]
  },
  {
   "cell_type": "code",
   "execution_count": 7,
   "metadata": {},
   "outputs": [],
   "source": [
    "y_train = y_train_src\n",
    "y_test = y_test_src"
   ]
  },
  {
   "cell_type": "markdown",
   "metadata": {},
   "source": [
    "# 3 model"
   ]
  },
  {
   "cell_type": "code",
   "execution_count": 8,
   "metadata": {},
   "outputs": [],
   "source": [
    "x = tf.placeholder(shape=[None,m,n],dtype=tf.float32,name='x')\n",
    "y = tf.placeholder(shape=[None],dtype=tf.int32,name='y')"
   ]
  },
  {
   "cell_type": "code",
   "execution_count": 9,
   "metadata": {},
   "outputs": [],
   "source": [
    "seq_len = tf.placeholder(shape=[None],dtype=tf.int32,name='seq_len')"
   ]
  },
  {
   "cell_type": "code",
   "execution_count": 10,
   "metadata": {},
   "outputs": [],
   "source": [
    "#rnncell = tf.contrib.rnn.BasicLSTMCell?"
   ]
  },
  {
   "cell_type": "code",
   "execution_count": 12,
   "metadata": {},
   "outputs": [
    {
     "name": "stdout",
     "output_type": "stream",
     "text": [
      "WARNING:tensorflow:From <ipython-input-12-1b56da0d3e6e>:1: LSTMCell.__init__ (from tensorflow.python.ops.rnn_cell_impl) is deprecated and will be removed in a future version.\n",
      "Instructions for updating:\n",
      "This class is equivalent as tf.keras.layers.LSTMCell, and will be replaced by that in Tensorflow 2.0.\n"
     ]
    }
   ],
   "source": [
    "fw = tf.nn.rnn_cell.LSTMCell(100)\n",
    "bw = tf.nn.rnn_cell.LSTMCell(100)"
   ]
  },
  {
   "cell_type": "code",
   "execution_count": 13,
   "metadata": {},
   "outputs": [
    {
     "name": "stdout",
     "output_type": "stream",
     "text": [
      "WARNING:tensorflow:From <ipython-input-13-2cbec456376a>:1: bidirectional_dynamic_rnn (from tensorflow.python.ops.rnn) is deprecated and will be removed in a future version.\n",
      "Instructions for updating:\n",
      "Please use `keras.layers.Bidirectional(keras.layers.RNN(cell))`, which is equivalent to this API\n",
      "WARNING:tensorflow:From /Users/zhangjiaqi/workingspace/anaconda3/envs/ml3/lib/python3.7/site-packages/tensorflow_core/python/ops/rnn.py:464: dynamic_rnn (from tensorflow.python.ops.rnn) is deprecated and will be removed in a future version.\n",
      "Instructions for updating:\n",
      "Please use `keras.layers.RNN(cell)`, which is equivalent to this API\n",
      "WARNING:tensorflow:From /Users/zhangjiaqi/workingspace/anaconda3/envs/ml3/lib/python3.7/site-packages/tensorflow_core/python/ops/rnn_cell_impl.py:958: Layer.add_variable (from tensorflow.python.keras.engine.base_layer) is deprecated and will be removed in a future version.\n",
      "Instructions for updating:\n",
      "Please use `layer.add_weight` method instead.\n",
      "WARNING:tensorflow:From /Users/zhangjiaqi/workingspace/anaconda3/envs/ml3/lib/python3.7/site-packages/tensorflow_core/python/ops/rnn_cell_impl.py:962: calling Zeros.__init__ (from tensorflow.python.ops.init_ops) with dtype is deprecated and will be removed in a future version.\n",
      "Instructions for updating:\n",
      "Call initializer instance with the dtype argument instead of passing it to the constructor\n",
      "WARNING:tensorflow:From /Users/zhangjiaqi/workingspace/anaconda3/envs/ml3/lib/python3.7/site-packages/tensorflow_core/python/ops/rnn.py:244: where (from tensorflow.python.ops.array_ops) is deprecated and will be removed in a future version.\n",
      "Instructions for updating:\n",
      "Use tf.where in 2.0, which has the same broadcast rule as np.where\n"
     ]
    }
   ],
   "source": [
    "_,((_,fw_last_state),(_,bw_last_state)) = tf.nn.bidirectional_dynamic_rnn(fw,bw,x,seq_len,dtype=tf.float32)"
   ]
  },
  {
   "cell_type": "code",
   "execution_count": 14,
   "metadata": {},
   "outputs": [
    {
     "data": {
      "text/plain": [
       "TensorShape([Dimension(None), Dimension(100)])"
      ]
     },
     "execution_count": 14,
     "metadata": {},
     "output_type": "execute_result"
    }
   ],
   "source": [
    "fw_last_state.shape"
   ]
  },
  {
   "cell_type": "code",
   "execution_count": 15,
   "metadata": {},
   "outputs": [
    {
     "data": {
      "text/plain": [
       "<tf.Tensor 'bidirectional_rnn/bw/bw/while/Exit_4:0' shape=(?, 100) dtype=float32>"
      ]
     },
     "execution_count": 15,
     "metadata": {},
     "output_type": "execute_result"
    }
   ],
   "source": [
    "bw_last_state"
   ]
  },
  {
   "cell_type": "code",
   "execution_count": 16,
   "metadata": {},
   "outputs": [],
   "source": [
    "output = tf.concat([fw_last_state,bw_last_state],axis = -1)"
   ]
  },
  {
   "cell_type": "code",
   "execution_count": 17,
   "metadata": {},
   "outputs": [
    {
     "name": "stdout",
     "output_type": "stream",
     "text": [
      "(?, 200)\n"
     ]
    }
   ],
   "source": [
    "print(output.shape)"
   ]
  },
  {
   "cell_type": "code",
   "execution_count": 18,
   "metadata": {},
   "outputs": [],
   "source": [
    "w = tf.Variable(tf.truncated_normal(shape=[200,10],mean=0.,stddev=tf.sqrt(2.)*tf.sqrt(2./(10+100))),\\\n",
    "               dtype=tf.float32,name='w')"
   ]
  },
  {
   "cell_type": "code",
   "execution_count": 19,
   "metadata": {},
   "outputs": [],
   "source": [
    "b = tf.Variable(tf.ones(shape=[10]),dtype=tf.float32,name='b')"
   ]
  },
  {
   "cell_type": "code",
   "execution_count": 20,
   "metadata": {},
   "outputs": [],
   "source": [
    "logit = tf.nn.xw_plus_b(output,w, b,name='score')"
   ]
  },
  {
   "cell_type": "code",
   "execution_count": 21,
   "metadata": {},
   "outputs": [
    {
     "name": "stdout",
     "output_type": "stream",
     "text": [
      "(?, 10)\n"
     ]
    }
   ],
   "source": [
    "print(logit.shape)"
   ]
  },
  {
   "cell_type": "code",
   "execution_count": 22,
   "metadata": {},
   "outputs": [],
   "source": [
    "#correct = tf.nn.in_top_k?"
   ]
  },
  {
   "cell_type": "code",
   "execution_count": 23,
   "metadata": {},
   "outputs": [],
   "source": [
    "correct = tf.nn.in_top_k(logit,y,1,name ='correst')"
   ]
  },
  {
   "cell_type": "code",
   "execution_count": 24,
   "metadata": {},
   "outputs": [],
   "source": [
    "acc = tf.reduce_mean(tf.cast(correct,tf.float32),name='acc')"
   ]
  },
  {
   "cell_type": "markdown",
   "metadata": {},
   "source": [
    "# 4 loss"
   ]
  },
  {
   "cell_type": "code",
   "execution_count": 25,
   "metadata": {},
   "outputs": [],
   "source": [
    "all_loss = tf.nn.sparse_softmax_cross_entropy_with_logits(logits=logit,labels=y,name='all_loss')"
   ]
  },
  {
   "cell_type": "code",
   "execution_count": 26,
   "metadata": {},
   "outputs": [],
   "source": [
    "loss = tf.reduce_mean(all_loss)"
   ]
  },
  {
   "cell_type": "markdown",
   "metadata": {},
   "source": [
    "# 5 optimize"
   ]
  },
  {
   "cell_type": "code",
   "execution_count": 27,
   "metadata": {},
   "outputs": [],
   "source": [
    "optimize = tf.train.AdamOptimizer(learning_rate=3e-4,name='optimize')"
   ]
  },
  {
   "cell_type": "code",
   "execution_count": 28,
   "metadata": {
    "scrolled": false
   },
   "outputs": [],
   "source": [
    "train_op = optimize.minimize(loss)"
   ]
  },
  {
   "cell_type": "markdown",
   "metadata": {},
   "source": [
    "# 6 init"
   ]
  },
  {
   "cell_type": "code",
   "execution_count": 29,
   "metadata": {},
   "outputs": [],
   "source": [
    "init_op = tf.global_variables_initializer()"
   ]
  },
  {
   "cell_type": "markdown",
   "metadata": {},
   "source": [
    "# 7 train"
   ]
  },
  {
   "cell_type": "code",
   "execution_count": 30,
   "metadata": {},
   "outputs": [],
   "source": [
    "num_epochs = 100\n",
    "batch_size = 128\n",
    "num_batch = int(x_train.shape[0]/128) + 1"
   ]
  },
  {
   "cell_type": "code",
   "execution_count": 31,
   "metadata": {},
   "outputs": [],
   "source": [
    "saver = tf.train.Saver()"
   ]
  },
  {
   "cell_type": "code",
   "execution_count": 33,
   "metadata": {},
   "outputs": [],
   "source": [
    "def feed_batch(n_epochs,batch_index,batch_size,x_train,y_train):\n",
    "    beg = (batch_index -1 )* batch_size\n",
    "    end = batch_index * batch_size;\n",
    "    \n",
    "    return x_train[beg:end],y_train[beg:end],np.array([i.shape[0] for i in x_train[beg:end]])"
   ]
  },
  {
   "cell_type": "code",
   "execution_count": 34,
   "metadata": {
    "scrolled": false
   },
   "outputs": [
    {
     "name": "stdout",
     "output_type": "stream",
     "text": [
      "0\t0.899600\t0.319163\t0.900000\t0.313290\n",
      "1\t0.945633\t0.175427\t0.946300\t0.169624\n",
      "2\t0.957600\t0.136469\t0.959400\t0.135623\n",
      "3\t0.966800\t0.109309\t0.965300\t0.114169\n",
      "4\t0.972567\t0.090116\t0.971100\t0.096820\n",
      "5\t0.974300\t0.081203\t0.972600\t0.091707\n",
      "6\t0.977150\t0.072377\t0.974700\t0.086327\n",
      "7\t0.979283\t0.066138\t0.974000\t0.086376\n",
      "8\t0.979550\t0.064979\t0.974100\t0.089528\n",
      "9\t0.982183\t0.056671\t0.975000\t0.085227\n",
      "10\t0.982950\t0.053818\t0.975700\t0.083277\n",
      "11\t0.984867\t0.047686\t0.975900\t0.080601\n",
      "12\t0.986433\t0.042782\t0.976500\t0.077604\n",
      "13\t0.987550\t0.039045\t0.976500\t0.076853\n",
      "14\t0.989050\t0.034468\t0.977400\t0.072674\n",
      "15\t0.988617\t0.034539\t0.977800\t0.074597\n",
      "16\t0.988233\t0.035883\t0.976500\t0.078061\n",
      "17\t0.987350\t0.039498\t0.978000\t0.079656\n",
      "18\t0.991200\t0.027087\t0.980000\t0.069018\n",
      "19\t0.988633\t0.034654\t0.977500\t0.078417\n",
      "20\t0.991450\t0.025834\t0.979800\t0.071113\n",
      "21\t0.989917\t0.030940\t0.979300\t0.077648\n",
      "22\t0.992317\t0.024637\t0.980100\t0.070330\n",
      "23\t0.991617\t0.026210\t0.979500\t0.076695\n",
      "24\t0.991133\t0.026505\t0.978400\t0.079720\n",
      "25\t0.991433\t0.026116\t0.979200\t0.076972\n",
      "26\t0.992867\t0.021436\t0.980200\t0.073276\n",
      "27\t0.992383\t0.021922\t0.979200\t0.077900\n",
      "28\t0.993483\t0.020257\t0.979500\t0.072809\n",
      "29\t0.995283\t0.015120\t0.980800\t0.072518\n",
      "30\t0.990083\t0.030244\t0.975400\t0.088173\n",
      "31\t0.995750\t0.013914\t0.981900\t0.071164\n",
      "32\t0.995533\t0.014105\t0.982800\t0.068779\n",
      "33\t0.996117\t0.012963\t0.981900\t0.067386\n",
      "34\t0.995600\t0.013518\t0.983200\t0.066086\n",
      "35\t0.995617\t0.013026\t0.981000\t0.071645\n",
      "36\t0.996233\t0.012203\t0.982700\t0.065873\n",
      "37\t0.994733\t0.015256\t0.981500\t0.072797\n",
      "38\t0.997033\t0.009067\t0.982100\t0.069278\n",
      "39\t0.997417\t0.008054\t0.983100\t0.066857\n",
      "40\t0.993583\t0.019707\t0.978600\t0.082408\n",
      "41\t0.994917\t0.016624\t0.980800\t0.077024\n",
      "42\t0.998250\t0.005945\t0.983600\t0.066346\n",
      "43\t0.998533\t0.005276\t0.984000\t0.062916\n",
      "44\t0.996083\t0.011849\t0.982100\t0.075185\n",
      "45\t0.992817\t0.023972\t0.977400\t0.095630\n",
      "46\t0.996433\t0.010957\t0.982900\t0.074551\n",
      "47\t0.997283\t0.008824\t0.983800\t0.066197\n",
      "48\t0.998083\t0.006322\t0.984800\t0.064947\n",
      "49\t0.996400\t0.011463\t0.982200\t0.077280\n",
      "50\t0.996383\t0.011347\t0.980600\t0.086416\n",
      "51\t0.991583\t0.029600\t0.978100\t0.095893\n",
      "52\t0.996283\t0.011773\t0.982100\t0.080667\n",
      "53\t0.998633\t0.004960\t0.984500\t0.065707\n",
      "54\t0.999350\t0.002931\t0.985000\t0.065649\n",
      "55\t0.999483\t0.002291\t0.985200\t0.068174\n",
      "56\t0.992967\t0.024410\t0.980100\t0.086973\n",
      "57\t0.995383\t0.015048\t0.979800\t0.088706\n",
      "58\t0.999183\t0.002938\t0.984100\t0.070231\n",
      "59\t0.997583\t0.007401\t0.982400\t0.079305\n",
      "60\t0.998967\t0.003779\t0.983300\t0.072616\n",
      "61\t0.998183\t0.006134\t0.982700\t0.075988\n",
      "62\t0.997083\t0.008679\t0.982300\t0.079431\n",
      "63\t0.998833\t0.004791\t0.983400\t0.071305\n",
      "64\t0.998883\t0.004582\t0.985000\t0.072563\n",
      "65\t0.996800\t0.012529\t0.984000\t0.074161\n",
      "66\t0.997717\t0.007069\t0.983800\t0.076514\n",
      "67\t0.998317\t0.005429\t0.983500\t0.072643\n",
      "68\t0.999650\t0.002032\t0.985600\t0.066099\n",
      "69\t0.999233\t0.003108\t0.984600\t0.071618\n",
      "70\t0.999300\t0.002769\t0.986200\t0.069377\n",
      "71\t0.999100\t0.003473\t0.984400\t0.074052\n",
      "72\t0.999883\t0.001247\t0.986100\t0.066486\n",
      "73\t0.998850\t0.004492\t0.985500\t0.068906\n",
      "74\t0.996283\t0.010811\t0.981200\t0.091967\n",
      "75\t0.998950\t0.003508\t0.984700\t0.077002\n",
      "76\t0.993183\t0.025629\t0.978700\t0.098767\n",
      "77\t0.999383\t0.003043\t0.984900\t0.073569\n",
      "78\t0.999917\t0.000858\t0.986400\t0.067329\n",
      "79\t0.999883\t0.001025\t0.986500\t0.068494\n",
      "80\t0.999983\t0.000587\t0.987300\t0.066735\n",
      "81\t0.999983\t0.000542\t0.987300\t0.067721\n",
      "82\t0.999983\t0.000509\t0.987100\t0.068303\n",
      "83\t0.999983\t0.000493\t0.987100\t0.068970\n",
      "84\t0.999983\t0.000482\t0.987200\t0.069616\n",
      "85\t0.999983\t0.000474\t0.987300\t0.070309\n",
      "86\t0.999983\t0.000467\t0.987300\t0.071078\n",
      "87\t0.999983\t0.000462\t0.987100\t0.071881\n",
      "88\t0.999983\t0.000458\t0.986800\t0.072724\n",
      "89\t0.999983\t0.000455\t0.986700\t0.073591\n",
      "90\t0.999983\t0.000453\t0.986800\t0.074484\n",
      "91\t0.999983\t0.000452\t0.986900\t0.075410\n",
      "92\t0.999983\t0.000451\t0.986800\t0.076355\n",
      "93\t0.999983\t0.000452\t0.986800\t0.077295\n",
      "94\t0.999983\t0.000453\t0.986700\t0.078352\n",
      "95\t0.999983\t0.000454\t0.986500\t0.079437\n",
      "96\t0.999983\t0.000455\t0.986400\t0.080483\n",
      "97\t0.999983\t0.000457\t0.986500\t0.081559\n",
      "98\t0.999983\t0.000460\t0.986700\t0.082623\n",
      "99\t0.999983\t0.000464\t0.986600\t0.083726\n",
      "0.999983\t0.000464\t0.986600\t0.083726\n"
     ]
    }
   ],
   "source": [
    "with tf.Session() as sess:\n",
    "    sess.run(init_op)\n",
    "    for i in range(num_epochs):\n",
    "        for j in range(1,num_batch):\n",
    "            sample_x,sample_y,sample_len = feed_batch(i,j,batch_size,x_train,y_train)\n",
    "            #print(sample_x.shape,sample_y.shape,sample_len.shape)\n",
    "            if j%100 == 0:\n",
    "                acc_train,loss_train,_ = sess.run([acc,loss,train_op],\\\n",
    "                                                  feed_dict={x:sample_x,y:sample_y,seq_len:sample_len})\n",
    "                acc_test = sess.run(acc,feed_dict={x:x_test,y:y_test,\\\n",
    "                                                   seq_len:np.array([i.shape[0] for i in x_test])})\n",
    "                #print('%d\\t%d\\t%f\\t%f\\t%f'%(i,j,loss_train,acc_train,acc_test))\n",
    "            else:\n",
    "                _ = sess.run([train_op],feed_dict={x:sample_x,y:sample_y,seq_len:sample_len})\n",
    "        acc_test,loss_test = sess.run([acc,loss],feed_dict={x:x_test,y:y_test,\\\n",
    "                                                        seq_len:np.array([i.shape[0] for i in x_test])})\n",
    "        acc_train,loss_train = sess.run([acc,loss],feed_dict={x:x_train,y:y_train,\\\n",
    "                                                          seq_len:np.array([i.shape[0] for i in x_train])})\n",
    "        print('%d\\t%f\\t%f\\t%f\\t%f'%(i,acc_train,loss_train,acc_test,loss_test))\n",
    "        \n",
    "    acc_test,loss_test = sess.run([acc,loss],feed_dict={x:x_test,y:y_test,\\\n",
    "                                                        seq_len:np.array([i.shape[0] for i in x_test])})\n",
    "    acc_train,loss_train = sess.run([acc,loss],feed_dict={x:x_train,y:y_train,\\\n",
    "                                                          seq_len:np.array([i.shape[0] for i in x_train])})\n",
    "    print('%f\\t%f\\t%f\\t%f'%(acc_train,loss_train,acc_test,loss_test))\n",
    "    saver.save(sess,'./model/bi-lstm')"
   ]
  },
  {
   "cell_type": "code",
   "execution_count": 35,
   "metadata": {},
   "outputs": [
    {
     "name": "stdout",
     "output_type": "stream",
     "text": [
      "INFO:tensorflow:Restoring parameters from ./model/bi-lstm\n",
      "0.999983\t0.000464\t0.986600\t0.083726\n"
     ]
    }
   ],
   "source": [
    "with tf.Session() as sess:\n",
    "    saver.restore(sess,'./model/bi-lstm')\n",
    "    acc_test,loss_test = sess.run([acc,loss],feed_dict={x:x_test,y:y_test,\\\n",
    "                                                        seq_len:np.array([i.shape[0] for i in x_test])})\n",
    "    acc_train,loss_train = sess.run([acc,loss],feed_dict={x:x_train,y:y_train,\\\n",
    "                                                          seq_len:np.array([i.shape[0] for i in x_train])})\n",
    "    print('%f\\t%f\\t%f\\t%f'%(acc_train,loss_train,acc_test,loss_test))"
   ]
  },
  {
   "cell_type": "markdown",
   "metadata": {},
   "source": [
    "# 8 ckpt to pb for tf serving"
   ]
  },
  {
   "cell_type": "code",
   "execution_count": 36,
   "metadata": {},
   "outputs": [],
   "source": [
    "tf.reset_default_graph()"
   ]
  },
  {
   "cell_type": "code",
   "execution_count": 37,
   "metadata": {},
   "outputs": [],
   "source": [
    "tf.graph_util.convert_variables_to_constants?"
   ]
  },
  {
   "cell_type": "code",
   "execution_count": 38,
   "metadata": {
    "scrolled": false
   },
   "outputs": [
    {
     "name": "stdout",
     "output_type": "stream",
     "text": [
      "INFO:tensorflow:Restoring parameters from ./model/rnn\n",
      "WARNING:tensorflow:From <ipython-input-38-0a95993329f0>:6: convert_variables_to_constants (from tensorflow.python.framework.graph_util_impl) is deprecated and will be removed in a future version.\n",
      "Instructions for updating:\n",
      "Use `tf.compat.v1.graph_util.convert_variables_to_constants`\n",
      "WARNING:tensorflow:From /Users/zhangjiaqi/workingspace/anaconda3/envs/ml3/lib/python3.7/site-packages/tensorflow_core/python/framework/graph_util_impl.py:277: extract_sub_graph (from tensorflow.python.framework.graph_util_impl) is deprecated and will be removed in a future version.\n",
      "Instructions for updating:\n",
      "Use `tf.compat.v1.graph_util.extract_sub_graph`\n",
      "INFO:tensorflow:Froze 4 variables.\n",
      "INFO:tensorflow:Converted 4 variables to const ops.\n"
     ]
    }
   ],
   "source": [
    "with tf.Session() as sess:\n",
    "    new_saver = tf.train.import_meta_graph('./model/rnn.meta')\n",
    "    new_saver.restore(sess,'./model/rnn')\n",
    "    \n",
    "    ## conver variable to constant\n",
    "    forzen_graph_def = tf.graph_util.\\\n",
    "    convert_variables_to_constants(\\\n",
    "                                   sess,sess.graph_def,output_node_names = ['score'])\n",
    "    with open('rnn_graph.pb','wb') as f:\n",
    "        f.write(forzen_graph_def.SerializePartialToString())\n",
    "        pass"
   ]
  },
  {
   "cell_type": "code",
   "execution_count": null,
   "metadata": {},
   "outputs": [],
   "source": []
  }
 ],
 "metadata": {
  "kernelspec": {
   "display_name": "Python 3",
   "language": "python",
   "name": "python3"
  },
  "language_info": {
   "codemirror_mode": {
    "name": "ipython",
    "version": 3
   },
   "file_extension": ".py",
   "mimetype": "text/x-python",
   "name": "python",
   "nbconvert_exporter": "python",
   "pygments_lexer": "ipython3",
   "version": "3.7.6"
  }
 },
 "nbformat": 4,
 "nbformat_minor": 2
}
